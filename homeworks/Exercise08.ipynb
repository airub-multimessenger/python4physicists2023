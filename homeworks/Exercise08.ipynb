{
 "cells": [
  {
   "cell_type": "markdown",
   "id": "a94cd46f",
   "metadata": {},
   "source": [
    "# Problem 1: Dice Game"
   ]
  },
  {
   "cell_type": "markdown",
   "id": "1887b992",
   "metadata": {},
   "source": [
    "In this task we will play a little dice game. You have 5 dice and in each round you can roll all of them three times. Here, we will do three rounds. If you reach specific combinations or frequencies of numbers, you can collect points. If you have **five or more points** in the end, you win the game. Imagine throwing the dice one after another and not at the same time. It's important to keep this in mind, because there are some rules with regard to the orders of numbers.\n",
    "If you meet one or more of the following **conditions** you receive points:\n",
    "\n",
    "* If you have three or more same values in one dice cast (after rolling your 5 dice), you get **1P**\n",
    "* After one round (rolling your 5 dice three times), sum up all dice numbers. If the sum is greater than 60, you get **1P** \n",
    "* In one round, every last number of one dice cast has to be an even number and then you get **1P**\n",
    "* In the end, after all rounds, check your most frequent number. If this number is smaller than 3, you get **1P**"
   ]
  },
  {
   "cell_type": "markdown",
   "id": "dd003bdc",
   "metadata": {},
   "source": [
    "### (A) (10 P)\n",
    "Create a function to roll the dice using ```np.random.randint```. Safe each dice cast (which consists of 5 numbers) in one array. After one round, you should have three different arrays each with 5 numbers. Safe these three arrays in another array called *\"Round_array\"*. This way, it could be easier for you to check the different conditions. Your *Round_array* should have the shape (3,5).  \n",
    "Do three rounds! "
   ]
  },
  {
   "cell_type": "code",
   "execution_count": 1,
   "id": "dcb6c809",
   "metadata": {},
   "outputs": [
    {
     "name": "stdout",
     "output_type": "stream",
     "text": [
      "Round_array_0\n",
      " [[4 2 2 1 5]\n",
      " [3 2 4 4 5]\n",
      " [3 1 3 1 5]]\n",
      "Round_array_1\n",
      " [[5 4 4 1 1]\n",
      " [4 2 4 5 5]\n",
      " [4 2 6 1 4]]\n",
      "Round_array_2\n",
      " [[3 5 1 2 5]\n",
      " [3 6 2 3 3]\n",
      " [6 1 5 1 4]]\n"
     ]
    }
   ],
   "source": [
    "#Your code here"
   ]
  },
  {
   "cell_type": "markdown",
   "id": "86e154ae",
   "metadata": {},
   "source": [
    "### (B) (10 P)\n",
    "**Please do all the steps with Python code! Don't forget to count your points every time you fullfill a condition!**\n",
    "Check the first condition: Do we have three or more same values in one dice cast (after rolling your 5 dice)? For this you can count the unique numbers in each row of one Round array.\n",
    "You can use ```np.unique``` and set ```return_counts = True``` so that it automatically counts the unique items. If you have 3 or more unique numbers in one dice cast, count one point. "
   ]
  },
  {
   "cell_type": "code",
   "execution_count": 2,
   "id": "9f63ed59",
   "metadata": {},
   "outputs": [
    {
     "name": "stdout",
     "output_type": "stream",
     "text": [
      "The number 3 occurs three times or more. + 1P \n"
     ]
    }
   ],
   "source": [
    "# Your code here"
   ]
  },
  {
   "cell_type": "markdown",
   "id": "45a4869e",
   "metadata": {},
   "source": [
    "### (C) (10 P)\n",
    "Now we check the next condition: We'll sum up all dice numbers from one round (and do this for everyround). So in total you should have 15 values that you sum up for each round. Check if one of the three values for the sum is greater or equal 60. If this is the case, add one point for each time you reach 60 or more."
   ]
  },
  {
   "cell_type": "code",
   "execution_count": 3,
   "id": "886c1729",
   "metadata": {},
   "outputs": [
    {
     "name": "stdout",
     "output_type": "stream",
     "text": [
      "Sum is smaller than 60:  45\n",
      "Sum is smaller than 60:  52\n",
      "Sum is smaller than 60:  50\n"
     ]
    }
   ],
   "source": [
    "# Your code here"
   ]
  },
  {
   "cell_type": "markdown",
   "id": "ba202e3a",
   "metadata": {},
   "source": [
    "### (D) (10 P)\n",
    "The next thing to check for each round is if we the last number of one dice cast array is even. You can check the last element of each array. If every last element of one round, so three elements, is even, you can add one point for every time that it happens."
   ]
  },
  {
   "cell_type": "code",
   "execution_count": 4,
   "id": "177f835d",
   "metadata": {},
   "outputs": [
    {
     "name": "stdout",
     "output_type": "stream",
     "text": [
      "Round 1: 0 even numbers.\n",
      "Round 2: 1 even numbers.\n",
      "Round 3: 1 even numbers.\n"
     ]
    }
   ],
   "source": [
    "# Your code here"
   ]
  },
  {
   "cell_type": "markdown",
   "id": "c0278aa2",
   "metadata": {},
   "source": [
    "### (E) (10 P)\n",
    "Now we look at all numbers we have: If the most frequent number is below three, we can add one point. Check all numbers you have in total (which should be 45) and look for the most common. Then you can check if it is below three. Don't forget to print out your total number of points you collected and see if you've won!"
   ]
  },
  {
   "cell_type": "code",
   "execution_count": 5,
   "id": "b205b566",
   "metadata": {},
   "outputs": [
    {
     "name": "stdout",
     "output_type": "stream",
     "text": [
      "Most common number is 1 and I get 1 P\n"
     ]
    }
   ],
   "source": [
    "# Your code here"
   ]
  },
  {
   "cell_type": "markdown",
   "id": "b5452643",
   "metadata": {},
   "source": [
    "# Problem 2: Handling timezones\n",
    "\n",
    "When we consider the various nations in the world there are a lot of different time zones. In this problem we want to build a python module capable of taking these into account. The `datetime` class already has some built-in functions dedicated to timezones, but in this problem we won't use them and we will build our own functions. You can use for this problem either `datetime` or `numpy.datetime64`, as you prefer."
   ]
  },
  {
   "cell_type": "markdown",
   "id": "2b3b7b82",
   "metadata": {},
   "source": [
    "### A (5P)\n",
    "\n",
    "Create a `timezone` class, which takes as an input the hours of offset from UTC of the timezone, and translates this in a `timedelta` (or `numpy.timedelta64`). The `timedelta` will be an attribute of the class. Write also the getter function for the `timedelta`."
   ]
  },
  {
   "cell_type": "code",
   "execution_count": 7,
   "id": "ebf0916b",
   "metadata": {},
   "outputs": [],
   "source": [
    "# Your code here"
   ]
  },
  {
   "cell_type": "markdown",
   "id": "eef81413",
   "metadata": {},
   "source": [
    "### B (10P)\n",
    "\n",
    "Add to the `timezone` class a function `tz_datetime` that, given a datetime object (or `numpy.datetime64` object) (in UTC) returns the datetime in the timezone. Make a test creating a timezone object `Germany` (with the proper offset) and see if `tz_datetime` returns a correct result."
   ]
  },
  {
   "cell_type": "code",
   "execution_count": 8,
   "id": "9e1397a6",
   "metadata": {},
   "outputs": [],
   "source": [
    "# Your code here"
   ]
  },
  {
   "cell_type": "markdown",
   "id": "82532e1d",
   "metadata": {},
   "source": [
    "### C (5P)\n",
    "\n",
    "Add to the `timezone` class a function `tz_now` that returns the datetime of the timezone in this moment. You have to use for this the function `datetime.utcnow()` or `numpy.datetime64('now')`. Check again with the `Germany` object if everything works as it should."
   ]
  },
  {
   "cell_type": "code",
   "execution_count": 10,
   "id": "e9a1e7d3",
   "metadata": {},
   "outputs": [],
   "source": [
    "# Your code here"
   ]
  },
  {
   "cell_type": "markdown",
   "id": "f8d6d306",
   "metadata": {},
   "source": [
    "### D (Optional, in case +10P)\n",
    "\n",
    "Timezones are not that simple. In summer many countries switch to the \"Daylight saving time\" (DST). In Europe, all countries add an hour on the last Sunday of March at 01:00 UTC, and remove it on the last Sunday of October still at 01:00 UTC. We will do a very simplified model, and we will assume that every country in the world switches to the DST exactly as Europe does (reality is way different from this). \n",
    "\n",
    "In the class `timezone` write a function `DST_datetimes` that, given a year, finds the datetimes in UTC where the time changes. To see if a day is a Sunday you can use the function `datetime.isoweekday()` or `numpy.datetime64.astype(datetime.datetime).isoweekday()`. \n",
    "\n",
    "Use the function `DST_datetimes` inside the function `tz_datetime` (that you wrote at the point B) to take the DST time into account in the timezone. To see if the datetime is in the DST it may be useful to use the functions `timedelta.total_seconds()` or `numpy.timedelta64/numpy.timedelta64(1,\"s\")`. \n",
    "\n",
    "Check using the `Germany` object. Print the output of `tz_datetime` for the 17th of August 2017 at 12:00:00 UTC and the 16th of February 2022 at 9:00:00 UTC."
   ]
  },
  {
   "cell_type": "code",
   "execution_count": 12,
   "id": "3e50df84",
   "metadata": {},
   "outputs": [],
   "source": [
    "#Your code here"
   ]
  },
  {
   "cell_type": "markdown",
   "id": "3e79ef47",
   "metadata": {},
   "source": [
    "### E (15P)\n",
    "\n",
    "Now that we have developed a bit our `timezone` class, we want to insert it into a module. Import `timezone` from the module and use the functions `tz_now` and `tz_datetime` for the 17th of August 2017 at 12:00 UTC."
   ]
  },
  {
   "cell_type": "code",
   "execution_count": 14,
   "id": "d5406073",
   "metadata": {},
   "outputs": [],
   "source": [
    "from timezones import timezone"
   ]
  },
  {
   "cell_type": "code",
   "execution_count": 15,
   "id": "07401662",
   "metadata": {},
   "outputs": [
    {
     "name": "stdout",
     "output_type": "stream",
     "text": [
      "2017-08-17 14:00:00\n",
      "2022-02-16 10:00:00\n"
     ]
    }
   ],
   "source": [
    "augustday = datetime(2017, 8, 17, 12)\n",
    "februaryday = datetime(2022, 2, 16, 9)\n",
    "\n",
    "Germany = timezone(1)\n",
    "print(Germany.tz_datetime(augustday))\n",
    "print(Germany.tz_datetime(februaryday))"
   ]
  },
  {
   "cell_type": "markdown",
   "id": "a1d7269b",
   "metadata": {},
   "source": [
    "### F (15P)\n",
    "In the same module, write a script that repeats the precedent checks (point E). Run the script using the `!python` command. Check that using `import` the script doesn't start."
   ]
  },
  {
   "cell_type": "code",
   "execution_count": 16,
   "id": "94acf2ba",
   "metadata": {},
   "outputs": [
    {
     "name": "stdout",
     "output_type": "stream",
     "text": [
      "2017-08-17 14:00:00\r\n",
      "2022-02-16 10:00:00\r\n"
     ]
    }
   ],
   "source": [
    "!python timezones.py"
   ]
  },
  {
   "cell_type": "code",
   "execution_count": 17,
   "id": "2b6f5fa1",
   "metadata": {},
   "outputs": [],
   "source": [
    "from timezones import timezone"
   ]
  }
 ],
 "metadata": {
  "kernelspec": {
   "display_name": "Python 3 (ipykernel)",
   "language": "python",
   "name": "python3"
  },
  "language_info": {
   "codemirror_mode": {
    "name": "ipython",
    "version": 3
   },
   "file_extension": ".py",
   "mimetype": "text/x-python",
   "name": "python",
   "nbconvert_exporter": "python",
   "pygments_lexer": "ipython3",
   "version": "3.11.5"
  }
 },
 "nbformat": 4,
 "nbformat_minor": 5
}
