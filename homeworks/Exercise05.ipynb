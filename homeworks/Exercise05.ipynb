{
 "cells": [
  {
   "cell_type": "markdown",
   "id": "7f9abf51",
   "metadata": {},
   "source": [
    "## Name:"
   ]
  },
  {
   "cell_type": "markdown",
   "id": "1d6c83c6",
   "metadata": {},
   "source": [
    "# Problem 1. Bethe - Heitler pair creation (50 p)"
   ]
  },
  {
   "cell_type": "markdown",
   "id": "eb418722",
   "metadata": {},
   "source": [
    "## Lyrical (or theoretical) digression "
   ]
  },
  {
   "cell_type": "markdown",
   "id": "4034ab14",
   "metadata": {},
   "source": [
    "![Illustration of Bethe-Haitler process](https://www.researchgate.net/publication/47466030/figure/fig3/AS:652608809226251@1532605473851/Feynman-diagrams-for-the-Bethe-Heitler-processes-An-incoming-photon-with-four-momentum-k.png)"
   ]
  },
  {
   "cell_type": "markdown",
   "id": "b14dd7bd",
   "metadata": {},
   "source": [
    "<center>Fig. 1. The Feynman diagram of the Bethe-Heitler process. Credit: O. Dzyubak</center>"
   ]
  },
  {
   "cell_type": "markdown",
   "id": "9259df3b",
   "metadata": {},
   "source": [
    "Bethe-Heitler pair creation is a process in which a photon passing close to a charged massive object (e.g. nucleus) produces a pair of electron and positron. The Feynman diagram for this process is shown in Figure 1.\n",
    "$$(Z) + \\gamma \\rightarrow e^- + e^+$$\n",
    "__To create an electron-positron pair, energy of the incoming photon must be more than two electron masses__ ($ m_e = 511 \\textrm{keV}$). \n",
    "\n",
    "_Note: please, don't panic if anything written here is unclear to you. You still have a lot of wonders do discover during your next semesters. Two short explanations for you:_\n",
    "1. _The quantity that is concerved in particle interactions is $E_k^2 + (mc^2)^2$ where $E_k$ is particle kinetic energy and $mc^2$ is particle ''mass'' or being more precise the rest energy. A massive particle, like electron, can have zero kinetic energy but will always have a rest energy, therefore a threthold for production of this particle is  $mc^2$._\n",
    "2. _Feyman diagrams is a technic to describe particle interactions. Here it has just an illustrative character but it also has a related mathematical method. You read diagram from left to right. The $p_i$ is a momentum of nucleus before interaction, $p_f$ - after the interaction. $k$ is an incoming photon that produces a pair of leptons, e.g. electron_ ($p_- = e_-$) _and positron_ ($p_+ = e_+$). "
   ]
  },
  {
   "cell_type": "markdown",
   "id": "429433a8",
   "metadata": {},
   "source": [
    " "
   ]
  },
  {
   "cell_type": "markdown",
   "id": "dcae86b3",
   "metadata": {},
   "source": [
    "In this task you will create a photon with random energy, write this energy to a file together with the flag or trigger (0 or 1) indicating whether the Bethe-Heitler pair can be created. "
   ]
  },
  {
   "cell_type": "markdown",
   "id": "482a5d3e",
   "metadata": {},
   "source": [
    "### (A) Create a directory for the files (12 p)"
   ]
  },
  {
   "cell_type": "markdown",
   "id": "da1b24e9",
   "metadata": {},
   "source": [
    "First, using ```pathlib``` and ```os``` libraries create a new folder where your output files will be located.\n",
    "\n",
    "_For Google Colab users: please make sure your Google Drive folder is connected!_"
   ]
  },
  {
   "cell_type": "code",
   "execution_count": null,
   "id": "f80bf9dd",
   "metadata": {},
   "outputs": [],
   "source": [
    "#Your code here:"
   ]
  },
  {
   "cell_type": "markdown",
   "id": "936b12e8",
   "metadata": {},
   "source": [
    "### (B) Simulating photons and creating output files (13 p)"
   ]
  },
  {
   "cell_type": "markdown",
   "id": "4fe027b4",
   "metadata": {},
   "source": [
    "Assume that your photons can have any energy from $0.1 \\; \\textrm{keV}$ to $1 \\; \\textrm{TeV} = 10^6  \\;\\textrm{keV}$. Import ```random``` library. The function ```random.uniform(a, b)``` generates a random number between ```a``` and ```b```. Since the energies are spanning across many orders of magnitude, generating a random number in linear space between $0.1$ and $10^6$ keV would introduce a strong bias towards the high energies. To make low energies and high energies equally likely to be generated, use ```10**random.uniform(a, b)``` where ```a``` and ```b``` are now logarithms of the boundaries.\n",
    "\n",
    "Your working units are $\\textrm{keV}$!\n",
    "\n",
    "1. Simulate a photon of a random energy between $0.1 \\; \\textrm{keV}$ to $1 \\; \\textrm{TeV} = 10^6 \\;\\textrm{keV}$ taking into account already mentioned aspect of difference in orders of magnitudes.\n",
    "2. Calculate if the photon energy is enough to create a Bethe-Heitler pair.\n",
    "3. Create a file called ```runN.txt``` where ```N``` is an identification number of the simulation (i.e. the first simulation, second simulation etc.). If the pair was created, name the file ```runN_s.txt``` (s for success) instead of ```runN.txt``` where ```N``` is the same id of the simulation. This means that if the simulated photon energy e.g. in 10th run was above the threshold, the must be a single file ```run10_s.txt``` and __no__ ```run10.txt``` file.\n",
    "4. Write photon energy to the file. If the photon energy is enough to create Bethe-Heitler pair, write 1 after the photon energy separeted by the space (``` ```), otherwise write 0.\n",
    "5. Do 100 simulations and create 100 output files in your recently created directory.\n",
    "\n",
    "_Note: if you are testing your code multiple times make sure that after each time you start with an empty directory. Files with the same name will be overwritten but, since energy is a random value, the same experiment (e.g. 10th) can create a pair in one run and not create those in the other run. Therefore, better to always start with an empty folder._"
   ]
  },
  {
   "cell_type": "code",
   "execution_count": null,
   "id": "a7040a7c",
   "metadata": {},
   "outputs": [],
   "source": [
    "#Your code here:\n"
   ]
  },
  {
   "cell_type": "markdown",
   "id": "15dbfda9",
   "metadata": {},
   "source": [
    "### (C) Looping through the files in directory (13 p)"
   ]
  },
  {
   "cell_type": "markdown",
   "id": "77795a7a",
   "metadata": {},
   "source": [
    "1. Create a list of filenames from your output folder using ```os.listdir()```. Make sure there are no other non-txt files like ```.ipynb_checkpoints```. If they are in the list, remove them.\n",
    "2. Loop throught the list of files in the directory and add names of files with the successful pair creation into the seperate list. Print the number of successfully created pairs."
   ]
  },
  {
   "cell_type": "code",
   "execution_count": null,
   "id": "0878fe32",
   "metadata": {},
   "outputs": [],
   "source": [
    "#Your code here:\n"
   ]
  },
  {
   "cell_type": "markdown",
   "id": "375fc824",
   "metadata": {},
   "source": [
    "### (D) Muon pair creation (12 p)"
   ]
  },
  {
   "cell_type": "markdown",
   "id": "27dbf3df",
   "metadata": {},
   "source": [
    "In the Bethe-Heitler process, the pair of muon and antimuon can be created if photon has enough energy. Muon is a lepton that has the same particle parameters as electron except its mass. The muon mass is $105 \\; \\textrm{MeV}$, roughly 200 time heavier than electron."
   ]
  },
  {
   "cell_type": "markdown",
   "id": "ef70a585",
   "metadata": {},
   "source": [
    "1. Using your list of successfully created pairs, read each file from the list and find how many of those photons can produce muon pairs. Print this number. \n",
    "\n",
    "Hint: since your file consists of one line, use  ```file.readline()```  where ```file``` here is an object that appears after you open your file with ```open()```."
   ]
  },
  {
   "cell_type": "code",
   "execution_count": null,
   "id": "182d99c5",
   "metadata": {},
   "outputs": [],
   "source": [
    "#Your code here:\n",
    "        "
   ]
  },
  {
   "cell_type": "markdown",
   "id": "3733bfed",
   "metadata": {},
   "source": [
    "### Bonus points: Your expectations (10 p)"
   ]
  },
  {
   "cell_type": "markdown",
   "id": "a9b17d63",
   "metadata": {},
   "source": [
    "The photon energy is uniformly distributed in logarithmic space ($\\log_{10} E$) between $-1$ and $6$. Write the thresholds for electron and muon pair production in logarithmic space (same as you used for flag 0/1 in the exersices above):\n",
    "\n",
    "$$\\log_{10}(E_e^{\\textrm{thr}}/\\textrm{keV}) =  $$\n",
    "$$\\log_{10}(E_\\mu^{\\textrm{thr}}/\\textrm{keV}) =  $$"
   ]
  },
  {
   "cell_type": "markdown",
   "id": "74d65e48",
   "metadata": {},
   "source": [
    "How many electron and muons pairs would you expect considering the uniform distribution of $\\log_{10} E$?"
   ]
  },
  {
   "cell_type": "markdown",
   "id": "5c61ff56",
   "metadata": {},
   "source": [
    "$$N_{\\textrm{el. pairs}} \\; = $$ \n",
    "\n",
    "\n",
    "$$N_{\\textrm{muon pairs}}\\; = $$ "
   ]
  },
  {
   "cell_type": "markdown",
   "id": "fa9f6773",
   "metadata": {},
   "source": [
    "Compare these to the numbers you got from your simulation of 100 photons. Write your observations below:\n",
    "\n",
    "\n",
    "_Your thoughts here_\n"
   ]
  },
  {
   "cell_type": "markdown",
   "id": "1b17f05e",
   "metadata": {},
   "source": [
    " "
   ]
  },
  {
   "cell_type": "markdown",
   "id": "995671f7",
   "metadata": {},
   "source": [
    "\n",
    "# Problem 2. The messy lab book (50 p)"
   ]
  },
  {
   "cell_type": "markdown",
   "id": "49c2d31b",
   "metadata": {},
   "source": [
    "Imagine you and your coworkers have to observe some objects in the night sky with the telescope for a few weeks and you have to keep a lab book. Due to lack of time and organisation, everyone of you wrote down their notes very messy in a text file. Now you want to organise this file more properly, so that it is manageable."
   ]
  },
  {
   "cell_type": "markdown",
   "id": "9cabf5af",
   "metadata": {},
   "source": [
    "For this task you will need a text file called ```LabBook.txt```. After downloading, make sure that this file is located in the same directory as your current notebook."
   ]
  },
  {
   "cell_type": "markdown",
   "id": "ad3cde5c",
   "metadata": {},
   "source": [
    "**(A) 10 points**\n",
    "\n",
    "First, we would like to move the lab book into a new directory. Create a directory with name ```Observations_Oct_23``` using ```os``` and ```pathlib``` libraries. Move the lab book file into the directory __using python only__. \n",
    "\n",
    "After that, read the entries of the text file with python."
   ]
  },
  {
   "cell_type": "code",
   "execution_count": null,
   "id": "e2263d9d",
   "metadata": {},
   "outputs": [],
   "source": [
    "#Your code here:\n"
   ]
  },
  {
   "cell_type": "markdown",
   "id": "6ef0f969",
   "metadata": {},
   "source": [
    "**(B) 10 points**\n",
    "\n",
    "Now create an empty csv file with headers for the table. The file should be named ```New_LabBook_Oct23```. As we have seen before, the text file contains information about the **Date, Start time, Name, Observed Object/ Notes.**\n",
    "Create these headers, each for a single column and all in the first row. Use the ```csv``` library for this. "
   ]
  },
  {
   "cell_type": "code",
   "execution_count": null,
   "id": "c942de50",
   "metadata": {},
   "outputs": [],
   "source": [
    "# Your code here:"
   ]
  },
  {
   "cell_type": "markdown",
   "id": "9a22ff7e",
   "metadata": {},
   "source": [
    "**(C) 10 points** \n",
    "\n",
    "Put the data from the text file into the new csv file. Note, that the values should be written under the corresponding header (each category in one column, so that you have 4 columns in the end).\n",
    "\n",
    "\n",
    "\n",
    "*Hint: Pay attention to the seperator. Sometimes there is just a space ``` ``` and sometimes there is a comma ```,``` seperating the entries.*\n",
    "\n",
    "_Note: If you execute your code multiple times, you will also write the entries to the csv file multiple times. Check your file and, if needed, first delete the csv file and start over again._"
   ]
  },
  {
   "cell_type": "code",
   "execution_count": null,
   "id": "f21c8dff",
   "metadata": {},
   "outputs": [],
   "source": [
    "#Your code here:\n"
   ]
  },
  {
   "cell_type": "markdown",
   "id": "2463cea1",
   "metadata": {},
   "source": [
    "**(D) 10 points**\n",
    "\n",
    "Test your new file by printing out all data with help of ```DictReader```. Use the headers from (B) for the fieldnames and ignore your very first row in this case where the headers were written. \n",
    "\n",
    "After that, print out **only** the information belonging to Oct 21, 2023."
   ]
  },
  {
   "cell_type": "code",
   "execution_count": null,
   "id": "b0c01b07",
   "metadata": {},
   "outputs": [],
   "source": [
    "#Your code here:          "
   ]
  },
  {
   "cell_type": "markdown",
   "id": "15da8e7d",
   "metadata": {},
   "source": [
    "**(E) 10 points** \n",
    "\n",
    "The last step is to change one entry to have a consistent table. In the column \"Name\", the first row has the entry \"_Observer:_ Klaus M.\". Replace this, so that we only have the entry \"Klaus M.\". Check if the replacement was completed correctly by printing this entry again."
   ]
  },
  {
   "cell_type": "code",
   "execution_count": null,
   "id": "25a02214",
   "metadata": {
    "scrolled": true
   },
   "outputs": [],
   "source": [
    "#Your code here:\n"
   ]
  }
 ],
 "metadata": {
  "kernelspec": {
   "display_name": "Python 3",
   "language": "python",
   "name": "python3"
  },
  "language_info": {
   "codemirror_mode": {
    "name": "ipython",
    "version": 3
   },
   "file_extension": ".py",
   "mimetype": "text/x-python",
   "name": "python",
   "nbconvert_exporter": "python",
   "pygments_lexer": "ipython3",
   "version": "3.8.8"
  }
 },
 "nbformat": 4,
 "nbformat_minor": 5
}
