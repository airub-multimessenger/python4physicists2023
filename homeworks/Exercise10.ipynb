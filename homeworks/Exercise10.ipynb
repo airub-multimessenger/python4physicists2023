{
 "cells": [
  {
   "cell_type": "markdown",
   "id": "64c160d4",
   "metadata": {},
   "source": [
    "# Problem 1: One day at GAFO 03/378 "
   ]
  },
  {
   "cell_type": "markdown",
   "id": "ef449143",
   "metadata": {},
   "source": [
    "GAFO 03/378 is an office where Frederike and Anastasiia are working on theoretical models of how neutrinos are emitted from a special class of astrphysical sources called blazars. A task that is proposed to you is inspired by a real-physicist-life example. "
   ]
  },
  {
   "cell_type": "markdown",
   "id": "c9729783",
   "metadata": {},
   "source": [
    "Neutrinos are neutral particles that interact only weakly and have very litte mass. Therefore, they are perfect \"messengers\" that can carry information from the far ends of the Universe. The flip side of the coin is that they are hard to detect and require the detectors of enourmous size."
   ]
  },
  {
   "cell_type": "markdown",
   "id": "68d95a39",
   "metadata": {},
   "source": [
    "Let's assume that your theory predicts a spectrum of neutrinos coming from some distant source. Now many neutrino events (i.e. detected neutrinos) will that create in the detector like IceCube? We can estimate this as"
   ]
  },
  {
   "cell_type": "markdown",
   "id": "710eb7e4",
   "metadata": {},
   "source": [
    "$$N_\\nu = \\frac{1}{3} \\cdot T \\cdot \\int \\Phi_\\nu (E) \\; A_{\\textrm{eff}}(E)\\; \\textrm{d}E$$"
   ]
  },
  {
   "cell_type": "markdown",
   "id": "a5e22a40",
   "metadata": {},
   "source": [
    "where:\n",
    "\n",
    "$N_\\nu$ is the expected number of the neutrino events;\n",
    "\n",
    "$T$ is a time of observation or duration of neutrino signal if it was observed completely;\n",
    "\n",
    "$\\Phi_\\nu$ is neutrino flux as a function of energy, also called neutrino spectrum;\n",
    "\n",
    "$A_{\\textrm{eff}}$  is effective area of the detector (in our case IceCube), this parameter describes the efficency of the detector in detecting a muon neutrino with energy $E$;\n",
    "\n",
    "$E$ is the neutrino energy."
   ]
  },
  {
   "cell_type": "markdown",
   "id": "aeec305c",
   "metadata": {},
   "source": [
    "If you're curious why 1/3 appears in the formula, the answer is following: neutrino oscillations. Neutrinos from far sources travel so long distances that when they arrive at Earth highly mixed, their flavor composition is $\\nu_e : \\nu_\\mu : \\nu_\\tau = 1:1:1$ no matter what was their composition at the source. Most of the detectors, hovewer, are very sensitive to only one flavor and have much worse sensitivity to all other flavors, therefore, it is roughly the same at taking only 1/3 of all-flavor neutrino flux."
   ]
  },
  {
   "cell_type": "markdown",
   "id": "6197a042",
   "metadata": {},
   "source": [
    "## (A) Prepare you input data - 8P"
   ]
  },
  {
   "cell_type": "markdown",
   "id": "284224a6",
   "metadata": {},
   "source": [
    "There are two files provided with this homework: ```IceCube_effective_area.csv``` and ```neutrino_spectrum_hw10.csv```. The first one contains two columns corresponding to the neutrino energy in __TeV__ and effective area in __m$^2$__ respectively. The second one has information on neutrino energy (first column, __eV__) and neutrino flux (second column, __erg/cm$^2$/s__).\n",
    "\n",
    "\n",
    "Read these two file with ```pandas```. If the headers are missing, give the column names manually so that the first data raw is not interpreted as column names.\n",
    "\n",
    "Make a plot for each data file in log-log scale to check what you're given (axes labels as always is a minimum requirement to show the plot to other people)"
   ]
  },
  {
   "cell_type": "code",
   "execution_count": null,
   "id": "ba3e3779",
   "metadata": {
    "tags": []
   },
   "outputs": [],
   "source": [
    "# your code here"
   ]
  },
  {
   "cell_type": "markdown",
   "id": "02f8e554",
   "metadata": {},
   "source": [
    "## (B) Units conversion and interpolation - 15 P"
   ]
  },
  {
   "cell_type": "markdown",
   "id": "6ef7a643",
   "metadata": {},
   "source": [
    "Both your data files consist of points. What happens if you need value of the effective area at $E_\\nu$ = _X_ eV but this point is not in the given array? Right, interpolation!\n",
    "\n",
    "Make two functions that interpolate given data and that will be used in your integration. Before you rush into implementing them, consider following:\n",
    "\n",
    "$$N_\\nu (\\textrm{dimensionless}) = \\frac{1}{3} \\cdot T \\, \\textrm{[s]} \\cdot \\int \\Phi_\\nu \\, \\left[\\frac{\\textrm{erg}}{\\textrm{cm}^2 \\cdot \\textrm{s}} \\right] \\; A_{\\textrm{eff}} \\,[\\textrm{m}^2] \\textrm{d}E \\,[\\textrm{eV}] $$\n",
    "\n",
    "It doesn't seem to work because the energy units don't cancel out, right? So the correct way to do the integration is to change flux units (and corresponding values) to\n",
    "\n",
    "$$N_\\nu (\\textrm{dimensionless}) = \\frac{1}{3} \\cdot T \\, \\textrm{[s]} \\cdot \\int \\frac{\\Phi_\\nu}{E^2} \\, \\left[\\frac{\\textrm{erg}}{\\textrm{cm}^2 \\cdot \\textrm{s} \\cdot \\textrm{eV}^2} \\right] \\; A_{\\textrm{eff}} \\,[\\textrm{m}^2] \\textrm{d}E \\,[\\textrm{eV}] $$\n",
    "\n",
    "Use \n",
    "$$1 \\textrm{m}^2 = 10^4\\, \\textrm{cm}^2$$\n",
    "and\n",
    "$$1 \\textrm{erg} = 6.242 \\cdot 10^{11}\\, \\textrm{eV}$$\n",
    "\n",
    "to unify the units of the expression under the integral."
   ]
  },
  {
   "cell_type": "markdown",
   "id": "ebff1ff2",
   "metadata": {},
   "source": [
    "Make two functions:\n",
    "1. Interpolated value of $\\Phi_\\nu/E^2$ (that depends on neutrino energy in eV)\n",
    "2. Interpolated value of $A_{\\textrm{eff}}$ in cm$^2$ (that depends on neutrino energy in eV)"
   ]
  },
  {
   "cell_type": "code",
   "execution_count": null,
   "id": "858fe797",
   "metadata": {},
   "outputs": [],
   "source": [
    "# your code here"
   ]
  },
  {
   "cell_type": "markdown",
   "id": "261cc041",
   "metadata": {},
   "source": [
    "## (C)  Trapezoid integration - 12 P"
   ]
  },
  {
   "cell_type": "markdown",
   "id": "2672fd4e",
   "metadata": {},
   "source": [
    "Time to integrate! Make an array of 100 neutrino energies equally spaced in logarithmical space between $10^{13}$ eV and $10^{18}$ eV and calculate the integral using trapezoid.\n",
    "\n",
    "Assume the same neutrino spectrum was emitted for 5 days. Find (and print out!) the expected number of neutrino events in IceCube during this time. "
   ]
  },
  {
   "cell_type": "code",
   "execution_count": null,
   "id": "efe01174",
   "metadata": {
    "tags": []
   },
   "outputs": [],
   "source": [
    "# your code here"
   ]
  },
  {
   "cell_type": "markdown",
   "id": "c2142c33",
   "metadata": {},
   "source": [
    "## (D) Quad integration - 15 P\n",
    "\n",
    "Calculate the same integral from $10^{13}$ eV to $10^{18}$ eV using ```quad```. __Use here lambda function!__\n",
    "Find (and print out!) the same number of expected neutrino events with 5 days of emission duration."
   ]
  },
  {
   "cell_type": "code",
   "execution_count": null,
   "id": "6950fb93",
   "metadata": {},
   "outputs": [],
   "source": [
    "# your code here"
   ]
  },
  {
   "cell_type": "markdown",
   "id": "79ab2813",
   "metadata": {},
   "source": [
    "If you did calculations correctly, you have predicted one neutrino in IceCube! At this point usually it either was already found and your theory agrees with the observations or it was not found yet and you ping Giacomo to double check..."
   ]
  },
  {
   "cell_type": "markdown",
   "id": "8e2e24fb-67d8-4f53-acab-da7009159ff3",
   "metadata": {},
   "source": [
    "# Problem 2: Wird Bochum auch in Zukunft kalt bleiben? (Will Bochum remain cold in the future?)"
   ]
  },
  {
   "cell_type": "markdown",
   "id": "4d1de8c5-b0cb-4083-b6ea-8abcb0bbdc85",
   "metadata": {},
   "source": [
    "In this exercise will will statistically analyze the temperatures in Bochum in January today and in an hypothetic warmer future."
   ]
  },
  {
   "cell_type": "markdown",
   "id": "a56b8419-20c2-473d-a1c8-1fbc99fa60d2",
   "metadata": {},
   "source": [
    "## (A) Plot the distribution - 8P\n",
    "For this exercise, assume that the temperature during a day in January in Bochum follows a Gaussian distribution. Let this Gaussian be centered at 2.5 degrees with a standard deviation of 2.5 degrees. Plot the distribution and explicitly showing mean and standard deviation values as vertical lines on the plot. Don't forget the axis labels."
   ]
  },
  {
   "cell_type": "code",
   "execution_count": null,
   "id": "a00b22d5-f75c-4d8f-863a-43809f0fbc6f",
   "metadata": {
    "tags": []
   },
   "outputs": [],
   "source": [
    "# Your code here"
   ]
  },
  {
   "cell_type": "markdown",
   "id": "7e64531f-52e1-4a09-85d0-14f44c1aedc8",
   "metadata": {},
   "source": [
    "## (B) Extremes probabilities - 5P\n",
    "How many days would we expect on average in __January__ (31 days) with an average temperature lower than 0 degrees? And higher than 6 degrees? This number must be an integer."
   ]
  },
  {
   "cell_type": "code",
   "execution_count": null,
   "id": "dea6cdd1-3abb-4066-957a-c5de9f2af493",
   "metadata": {
    "tags": []
   },
   "outputs": [],
   "source": [
    "# Your code here"
   ]
  },
  {
   "cell_type": "markdown",
   "id": "32469ed5-6bf3-4669-b4b8-29684335b77c",
   "metadata": {},
   "source": [
    "## (C) Probability for different extremes - 7P\n",
    "You just found the average number of days that we would expect with an average temperature below 0 degrees in January in Bochum. Nevertheless, it is very likely that the exact number of days with such temperatures is different for different years. We can quantify the probability of having a different number of days. Find the probability of having in January more than 7 days with an average temperature below 0 degrees \n",
    "\n",
    "_Suggestion 1: You might find useful the Poisson distribution._ \n",
    "\n",
    "_Suggestion 2: Use the function `cdf()` with the Poisson distribution._\n",
    "\n",
    "_Suggestion 3: If the two previous suggestions did not help and statistics is not your strong side, feel free to write an email to your tutor (or come to the tutorial!); we will provide you general explanations but will not help with the actudal code._\n"
   ]
  },
  {
   "cell_type": "code",
   "execution_count": null,
   "id": "e7ee962f-d815-4524-889b-83eb5295a371",
   "metadata": {
    "tags": []
   },
   "outputs": [],
   "source": [
    "# Your code here"
   ]
  },
  {
   "cell_type": "markdown",
   "id": "30383512-1252-4610-b914-4c54ef9c5859",
   "metadata": {},
   "source": [
    "## (D) Plot the Poisson distribution - 5P\n",
    "Plot the Poisson distribution that you used for the task (C). Remember the labels for the axes."
   ]
  },
  {
   "cell_type": "code",
   "execution_count": null,
   "id": "d2c0d70c-93a4-4532-b599-edd224ccf7fb",
   "metadata": {
    "tags": []
   },
   "outputs": [],
   "source": [
    "# Your code here"
   ]
  },
  {
   "cell_type": "markdown",
   "id": "4362e62b-a33a-4b1b-9ee9-12036bbd455e",
   "metadata": {},
   "source": [
    "## (E) A look in the future - 10P\n",
    "We will assume that in the future the average of the average temperature in a day in January will increase by 1.5 degrees because of the climate change. Additionally, at the same time the standard deviation of this distribution will increase by 2.5 degrees. Plot again the gaussian for the daily averages temperatures in January. How has it changed? How do the expected number of days with less than 0 degrees and more than 6 degrees in January change?"
   ]
  },
  {
   "cell_type": "code",
   "execution_count": null,
   "id": "cbf26bd4-6854-4770-861a-6d5994d3fb1d",
   "metadata": {
    "tags": []
   },
   "outputs": [],
   "source": [
    "# Your code here"
   ]
  },
  {
   "cell_type": "markdown",
   "id": "badfe28c-814c-4db7-b3e9-0f74456fdabe",
   "metadata": {},
   "source": [
    "## (F) A new Poisson distribution - 15P\n",
    "Repeat point (C) and (D) but considering the Bochum of the future. Plot the old and the new Poisson distribution together in the same axes. How has the Poisson distribution changed? How do you interpet the new results?"
   ]
  },
  {
   "cell_type": "code",
   "execution_count": null,
   "id": "c34560db-00d0-43af-9f85-7b7a0dac505e",
   "metadata": {
    "tags": []
   },
   "outputs": [],
   "source": [
    "# Your code here"
   ]
  },
  {
   "cell_type": "code",
   "execution_count": null,
   "id": "5b308c7d-eae0-4bf1-81db-fcd2373382a2",
   "metadata": {},
   "outputs": [],
   "source": []
  }
 ],
 "metadata": {
  "kernelspec": {
   "display_name": "Python 3",
   "language": "python",
   "name": "python3"
  },
  "language_info": {
   "codemirror_mode": {
    "name": "ipython",
    "version": 3
   },
   "file_extension": ".py",
   "mimetype": "text/x-python",
   "name": "python",
   "nbconvert_exporter": "python",
   "pygments_lexer": "ipython3",
   "version": "3.8.8"
  }
 },
 "nbformat": 4,
 "nbformat_minor": 5
}
