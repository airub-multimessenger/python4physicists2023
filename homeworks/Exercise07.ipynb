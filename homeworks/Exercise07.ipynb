{
 "cells": [
  {
   "cell_type": "markdown",
   "id": "6a802baf",
   "metadata": {},
   "source": [
    "## Name: "
   ]
  },
  {
   "cell_type": "code",
   "execution_count": 1,
   "id": "19076920",
   "metadata": {},
   "outputs": [],
   "source": [
    "import numpy as np\n",
    "import matplotlib.pyplot as plt"
   ]
  },
  {
   "cell_type": "markdown",
   "id": "debcdee4",
   "metadata": {},
   "source": [
    "# Problem 1: Reproducing plot from a scientific paper (50 P)"
   ]
  },
  {
   "cell_type": "markdown",
   "id": "cebde093",
   "metadata": {},
   "source": [
    "You are given a data file containing information about measuring anisotropy levels of gamma rays coming from outside of our Galaxy as a function of energy. This data corresponds to Table 1 in the following paper: https://journals.aps.org/prl/abstract/10.1103/PhysRevLett.121.241101\n",
    "\n",
    "\n",
    "In this task you will reproduce Fig. 2 from the paper.\n",
    "\n",
    "The exact meaning of what was measured is absolutely not important for this task, but if you are running out of books during the dark cold winter evenings, you are always welcome to read it fully."
   ]
  },
  {
   "cell_type": "markdown",
   "id": "aa6c5cfa",
   "metadata": {},
   "source": [
    "### (A) (10 P)\n",
    "Import data from the txt file and define arrays that correspond to the table's columns. The last point in the table is not an exact measured value but an apper limit, meaning that the real value can be anywhere below the $C_p + \\delta C_p$ where $\\delta C_p$ is the error of the last value. Correct this in your $C_p$ array."
   ]
  },
  {
   "cell_type": "code",
   "execution_count": 3,
   "id": "3be0d7fc",
   "metadata": {},
   "outputs": [],
   "source": [
    "# Your code here:"
   ]
  },
  {
   "cell_type": "markdown",
   "id": "54b4933f",
   "metadata": {},
   "source": [
    "### (B) (8 P)\n",
    "\n",
    "Make an array consisting of zeros and ones indicating whether the data point is an upper limit. Remember: only the last point in the table is an upper limit. "
   ]
  },
  {
   "cell_type": "code",
   "execution_count": 1,
   "id": "79f12fba",
   "metadata": {},
   "outputs": [],
   "source": [
    "#Your code here:"
   ]
  },
  {
   "cell_type": "markdown",
   "id": "5bc368ca",
   "metadata": {},
   "source": [
    "### (C) (32 P)\n",
    "Using ```matplotlib.pyplot.errorbar()```, plot the values of $C_p \\cdot E^4/\\Delta E^2$ where $C_p$ are values from 4th column in the txt file, $E$ is the mean energy (column 3) and $\\Delta E = (E_{max}- E_{min})$ (columns 2 and 1 correspondingly). Errors $\\delta C_p$ will change by the same formula! \n",
    "\n",
    "Make a plot similar to Fig. 2.\n",
    "\n",
    "Make sure:\n",
    "- The correct values of $C_p \\cdot E^4/\\Delta E^2$ are plotted (check the plot from the paper!) - 7P\n",
    "- Both vertical and horizontal error bars are plotted - 7 P\n",
    "- The last point is displayed correctly as upper limit (with the arrow, the arrow must be visible) - 7 P\n",
    "- The data points have label 'Ackermann et al. 2018 PRL 121' as the reference for the data - 1 P\n",
    "- No line connecting the data points (as in scatter plot) - 1 P\n",
    "- Both x and y axes have logarithmic scale - 2 P\n",
    "- Both x and y axes have labels and don't forget to include units in the axis labels - 2 P\n",
    "- The label for y-axis uses $\\LaTeX$ - 2 P\n",
    "\n",
    "Make the figure even better by:\n",
    "- changing its size to (10,6) - 1 P\n",
    "- setting the font size 16 - 1 P\n",
    "- changing size of x and y ticks to 16 - 1 P\n"
   ]
  },
  {
   "cell_type": "code",
   "execution_count": 2,
   "id": "8d007888",
   "metadata": {},
   "outputs": [],
   "source": [
    "# Your code here:"
   ]
  },
  {
   "cell_type": "markdown",
   "id": "3174cb76-3775-48f2-958f-470b20aca404",
   "metadata": {},
   "source": [
    "# Problem 2: Bifurcation diagram - The logistic map (50 P)"
   ]
  },
  {
   "cell_type": "markdown",
   "id": "5152890b-a4fd-4940-a9b8-800e587e4320",
   "metadata": {},
   "source": [
    "### **Little introduction** \n",
    "Chaos theory states that within the apparent randomness of chaotic complex systems, there are underlying patterns. It deals with orders in special dynamic systems whose temporal development appears unpredictable, although the underlying equations are actually deterministic.\n",
    "\n",
    "The butterfly effect, an underlying principle of chaos, describes how a small change in one state of a deterministic nonlinear system can result in large differences in a later state meaning that there is sensitive dependence on initial conditions. A metaphor for this behavior is that a butterfly flapping its wings in Texas can cause a tornado in Brazil. \n",
    "In 1960, Edward Norton Lorenz worked on numerical weather prediction, which relied on computers to forecast weather by processing observational data on such things as temperature, pressure, and wind. The computer worked with 6-digit precision, but the printout rounded variables off to a 3-digit number, so a value like 0.506127 printed as 0.506. Lorenz observed that this small variation in the initial data of the variables in his simple weather model produced very different weather forecast results. This sensitive dependence on the initial conditions became known as the butterfly effect.\n",
    "\n",
    "The **logistic map** is an example of how complex, chaotic behaviour can arise from simple non-linear equations and can be expressed with the following equation:"
   ]
  },
  {
   "cell_type": "markdown",
   "id": "29fadccc-be92-4549-8fe0-f969523ea36b",
   "metadata": {},
   "source": [
    "$$ x_{n+1}=r~ x_{n}(1-x_{n})\\quad\\text{with}\\quad n=0,1,2,3…  $$ "
   ]
  },
  {
   "cell_type": "markdown",
   "id": "4813ddf6-f51d-49f8-8ce1-c58659bc3884",
   "metadata": {},
   "source": [
    "It can be explained with the **demographic model**:\n",
    "\n",
    "The delevopment of a population will be described by mathematical laws. From the size $ X_{n}$ of the population at a certain point in time n, the size $ X_{n+1}$ after a reproduction period (e.g. after one year) is to be inferred. The factor r causes the population to change (like a growth/reduction factor). \n",
    "The behaviour depends on r:\n",
    "* With 0 < r <  1, the population dies out in any case.\n",
    "* With 1 < r < 2, the population monotonically approaches the limit value $ \\tfrac{r-1}{r} $ \n",
    "* With 2 < r < 3, the population monotonically approaches the limit value $ \\tfrac{r-1}{r} $ from both sides alternately \n",
    "* At r $\\approx$ 3.57 the chaos begins: The sequence initially jumps periodically between the neighbourhoods of the now unstable accumulation points. Tiny changes to the initial value result in a wide variety of subsequent values - a characteristic of chaos"
   ]
  },
  {
   "cell_type": "markdown",
   "id": "3c97712b-f702-4324-84bc-d5d12bc50bed",
   "metadata": {},
   "source": [
    "The **bifurcation diagram** summarises these observations. The horizontal axis indicates the value of the parameter r and the vertical axis the accumulation points for the sequence $x_{n}$.\n",
    "\n",
    "## **Your Task**:\n",
    "\n",
    "Create the bifurcation diagram in the following steps:\n",
    "\n",
    "**(A) Define the function (20 P)** \n",
    "\n",
    "* Think about how you want to create the logistic map to use it for your plot - remember: The limit value of the sequence depending on r, $x_{n}$, will be on the y-axis and r will be on the x-axis.\n",
    "\n",
    "\n",
    "* Show the region **0 < r < 4** to see the development described above. You can use ```np.linspace``` for that and take at least 50000 steps between the values.\n",
    "\n",
    "(*Hint*: Again, you need the **limit values** of the sequence so it's helpful to go through a loop a few times to reach the limit value and just take ```x_n = r*x_n* (1-x_n)```. You could fill two empty arrays for your x (r) and y (x_lim) values. Another option would be to define the function for the logistic map at first and use it later for plotting. These are just examples, it's up to you. Don't forget that you are working with a recursive function where you can encounter the problem that you have to define your value $x_{n}$ before you start to calculate the values.)\n",
    "\n",
    "**(B) Plot the data and create a good diagram (30 P)** \n",
    "* The **width** of the figure should be 12 and the **height** 6  \n",
    "* It is important to choose the right **markers**: Use ',k' for this case and 0.25 as your **transparency** value alpha\n",
    "* Plot the **title** \"Bifurcation diagram\" with size 20 and the **labels** with size 15\n",
    "* Make sure, the **scale** for the x-axis is between 0 and 4 and for the y-axis between -0.01 and 1\n",
    "* Change **tick size** to 12\n",
    "* In the end, we want to mark the regions mentioned above in the example of the demographic model. Add **vertical lines** at r=1, r=2, r=3 and r= 3.57 in different colors and add for every line a short description for the legend of your plot. Set the transpareny to 0.25 and put the legend in the upper left."
   ]
  },
  {
   "cell_type": "code",
   "execution_count": 4,
   "id": "cd892618-92f8-418b-a820-579e252e878f",
   "metadata": {},
   "outputs": [],
   "source": [
    "#Your code here:"
   ]
  }
 ],
 "metadata": {
  "kernelspec": {
   "display_name": "Python 3",
   "language": "python",
   "name": "python3"
  },
  "language_info": {
   "codemirror_mode": {
    "name": "ipython",
    "version": 3
   },
   "file_extension": ".py",
   "mimetype": "text/x-python",
   "name": "python",
   "nbconvert_exporter": "python",
   "pygments_lexer": "ipython3",
   "version": "3.11.6"
  }
 },
 "nbformat": 4,
 "nbformat_minor": 5
}
