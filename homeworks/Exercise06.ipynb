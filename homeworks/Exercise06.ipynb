{
 "cells": [
  {
   "cell_type": "markdown",
   "id": "6a802baf",
   "metadata": {},
   "source": [
    "## Name: "
   ]
  },
  {
   "cell_type": "markdown",
   "id": "25ef23fe",
   "metadata": {},
   "source": [
    "# Problem 1: A gravity assist to save the Numpyans (50 P)"
   ]
  },
  {
   "cell_type": "markdown",
   "id": "199df16b",
   "metadata": {},
   "source": [
    "In a galaxy far, far away, there is a planet whose inhabitants are one of the most developed civilizations of the Universe. This alien population is known as \"The Numpyans\", and their planet is \"Arreyu\". The planetary system of which Arreyu is part is very particular because at the center there isn't a star but a black hole known as \"Matrixar\". \n",
    "\n",
    "Over the centuries, the Numpyans have been polluting their planet Arreyu more and more, so much so that this isn't any more suitable for hosting life. All their technology couldn't do anything against this environmental disaster, but it could still be capable of saving the Numpyans. How? By transferring the whole population to a different planet. Around Matrixar, no other place is suitable for life. Therefore, the Numpyans must go further away in a new planetary system. To do so, they should accelerate their spaceships to very high velocities. The planetary task force for interstellar migration is considering obtaining this acceleration by approaching closely the black hole Matrixar. This acceleration process is known as \"Gravity assist\". The task force is, however, concerned by the tidal forces close to the black hole because they fear they could tear apart the single Numpyan.\n",
    "\n",
    "In this problem you will have to estimate the effect of tidal forces on the whole population of the Numpyans"
   ]
  },
  {
   "cell_type": "markdown",
   "id": "4a8b4d29",
   "metadata": {},
   "source": [
    "### Population heights\n",
    "For the next tasks you will need the whole data relative to the Numpyans population. In particular, you will need to know the height of the single individual. To do so you have to use the numpy funcion `numpy.random.normal(mean, scale, size)`. This funcion generates random numbers following a normal distribution, the parameters are:\n",
    "- `mean` is the mean $\\mu$ of the gaussian;\n",
    "- `scale` is the standard deviation $\\sigma$;\n",
    "- `size` determines the size of the numpy array that is filled with this random numbers (if it is just an integer `n`, it generates a numpy array with `n` elements)."
   ]
  },
  {
   "cell_type": "markdown",
   "id": "d11d02b4",
   "metadata": {},
   "source": [
    "### A (2 P)\n",
    "Generate a numpy array with the heights for each single Numpyan. To do so, use the function `numpy.random.normal()` to generate $10^7$ random numbers following a gaussian distribution centered in $150$ cm and with a standard deviation of $10$ cm."
   ]
  },
  {
   "cell_type": "code",
   "execution_count": null,
   "id": "2008f00b",
   "metadata": {
    "tags": []
   },
   "outputs": [],
   "source": [
    "#your code here"
   ]
  },
  {
   "cell_type": "markdown",
   "id": "a61f17fa",
   "metadata": {},
   "source": [
    "### The Schwarzschild radius\n",
    "For a non-rotating black hole (a Schwarzschild black hole), the Swcharzschild radius defines the event horizon (the distance from the black hole center where the escape velocity is equal to the speed of light). Any object that goes over the event horizon can never return back. The Schwarzschild radius $r_s$ depends only on the black hole mass:\n",
    "$$ r_s = \\frac{2GM}{c^2} $$\n",
    "Where $G$ is the gravitational constant $G=6.674\\times10^{-11}$ $\\frac{\\mathrm{m}^3}{\\mathrm{kg}\\,\\mathrm{s}^2}$, and $c$ is the speed of light $c\\simeq3\\times10^8$ m/s."
   ]
  },
  {
   "cell_type": "markdown",
   "id": "73c7d4ca",
   "metadata": {},
   "source": [
    "### B (2 P)\n",
    "Calculate the Schwarzschild radius for Matrixar. For its mass use $M = 3.5\\times10^{34}$ kg. Express it in meters as well in units of Earth radius $r_\\mathrm{Earth} = 6371$ km."
   ]
  },
  {
   "cell_type": "code",
   "execution_count": null,
   "id": "4e65f74c",
   "metadata": {
    "tags": []
   },
   "outputs": [],
   "source": [
    "#Your code here\n"
   ]
  },
  {
   "cell_type": "markdown",
   "id": "344a08af",
   "metadata": {},
   "source": [
    "### C (4 P)\n",
    "The task force for intestellar migration proposes for the gravity assist to pass between 1 to 2 Scwarzschild radii from the black hole. Generate a numpy array with 100 radii linearly distributed between these two limits. Express these distances both in meters and in Earth radii."
   ]
  },
  {
   "cell_type": "code",
   "execution_count": null,
   "id": "ac2fdc51",
   "metadata": {
    "tags": []
   },
   "outputs": [],
   "source": [
    "#Your code here\n"
   ]
  },
  {
   "cell_type": "markdown",
   "id": "143115f3",
   "metadata": {},
   "source": [
    "### Tidal acceleration\n",
    "The gravitational force generated by the black hole is not constant over the space. If an object has a linear size $r$, at its extremes there may be two different gravitational forces. The difference between these two forces is a force as well, and is known as *tidal force*. This translates in an acceleration, the *tidal acceleration*. For a body with an extension $r$, at a distance $D$ from the black hole (or any other object), the tidal acceleration $a_g$ is given by:\n",
    "$$a_g=\\frac{2rGM}{D^3}$$"
   ]
  },
  {
   "cell_type": "markdown",
   "id": "c7180682",
   "metadata": {},
   "source": [
    "### D (18 P)\n",
    "The maximum tidal acceleration that a Numpyan can withstand is about $a_{g,\\,\\mathrm{max}} = 50$ m/s$^2$. At higher accelerations a Numpyan would die. Find which is the smallest distance to the black hole at which no Numpyan dies because of the tidal forces when approaching the black hole. In this task you are supposed to use the most possible the numpy functions seen at the lecture."
   ]
  },
  {
   "cell_type": "code",
   "execution_count": null,
   "id": "3aaa8f49",
   "metadata": {
    "tags": []
   },
   "outputs": [],
   "source": [
    "#Your code here\n",
    "\n"
   ]
  },
  {
   "cell_type": "markdown",
   "id": "bafc36bb-240e-4881-8153-dcd478cb9106",
   "metadata": {},
   "source": [
    "### E (12 P)\n",
    "How many Numpyans would die if they would approach Matrixar at the Scwarzschild radius? Which would be their minimum height? In this task you are supposed to use the most possible the numpy functions seen at the lecture. It is possible to calculate these two quantities in two lines of code."
   ]
  },
  {
   "cell_type": "code",
   "execution_count": null,
   "id": "e99405cb",
   "metadata": {
    "tags": []
   },
   "outputs": [],
   "source": [
    "#Your code here\n"
   ]
  },
  {
   "cell_type": "markdown",
   "id": "8b4fa1b7-ff0d-42bd-8234-eb55e66ff72e",
   "metadata": {
    "tags": []
   },
   "source": [
    "### F (12 P)\n",
    "Among the maximum accelerations for each proposed distance from the Matrixar, would any of these be between 9 and 10 m/s$^2$? You have to solve this point in one line of code."
   ]
  },
  {
   "cell_type": "code",
   "execution_count": null,
   "id": "a3b0172a-f318-4089-a9d5-6e60b872d67d",
   "metadata": {
    "tags": []
   },
   "outputs": [],
   "source": [
    "#Your code here\n"
   ]
  },
  {
   "cell_type": "markdown",
   "id": "9b33f900",
   "metadata": {},
   "source": [
    " "
   ]
  },
  {
   "cell_type": "markdown",
   "id": "49fe58fd",
   "metadata": {},
   "source": [
    "\n",
    "# Problem 2: Ohm's law (50 P)"
   ]
  },
  {
   "cell_type": "markdown",
   "id": "c4055699",
   "metadata": {},
   "source": [
    "The Ohm's law states that the electric current through the conductor is directly proportinal to the voltage measured across this conductor. "
   ]
  },
  {
   "cell_type": "markdown",
   "id": "1516fe1e",
   "metadata": {},
   "source": [
    "$$V = I \\; \\times \\; R$$\n",
    "\n",
    "where $V$ is voltage, $I$ is current flowing through the conductor and $R$ is the resistance of the conductor."
   ]
  },
  {
   "cell_type": "markdown",
   "id": "91655eda",
   "metadata": {},
   "source": [
    "You work in the laboratory that has a source of current that can generate currents from 0 to 20 A and a set of resistors, 2, 4, 6, ..., 100 $\\Omega$."
   ]
  },
  {
   "cell_type": "markdown",
   "id": "580dbeaf",
   "metadata": {},
   "source": [
    "### A (12 points)"
   ]
  },
  {
   "cell_type": "markdown",
   "id": "1fdebbc2",
   "metadata": {},
   "source": [
    "Create two ```numpy``` arrays that contain 50 values of currents ranging from 0 to 20 A and 50 values of resistance containing values from 2 to 100 Ohm. Round the values of the resistances to the integers and values of currents to the second digit after decimal point using the round() function from numpy.  Calculate a matrix of voltages for all combinations of $I$ and $R$ using operations with ```numpy``` arrays (__any loops are forbidden!__)\n",
    "Check its shape."
   ]
  },
  {
   "cell_type": "code",
   "execution_count": null,
   "id": "016bf4d9",
   "metadata": {},
   "outputs": [],
   "source": [
    "#your code here\n"
   ]
  },
  {
   "cell_type": "markdown",
   "id": "6806690f",
   "metadata": {},
   "source": [
    "### B (6 points)"
   ]
  },
  {
   "cell_type": "markdown",
   "id": "87869139",
   "metadata": {},
   "source": [
    "Your lab got more funding and now you can buy one more resistor! \n",
    "$$R_{new} = 1000 \\, \\Omega$$\n",
    "Calculate the voltage values for all combinations of currents and add them to the voltages matrix. Use ```numpy.hstack()``` or ```numpy.vstack()``` for this (depending on the design of your matrix). Check the shape of updated voltage matrix."
   ]
  },
  {
   "cell_type": "code",
   "execution_count": null,
   "id": "1e2fa6f7",
   "metadata": {},
   "outputs": [],
   "source": [
    "#your code here\n"
   ]
  },
  {
   "cell_type": "markdown",
   "id": "527fe4b7",
   "metadata": {},
   "source": [
    "### C (6 points)"
   ]
  },
  {
   "cell_type": "markdown",
   "id": "7485b49a",
   "metadata": {},
   "source": [
    "After successful experiments, your lab got even more money and now they can buy more powerful current source with \n",
    "$$I = 50 \\, \\mathrm{A}$$\n",
    "Calculate the voltage values for all available resistors and add them to the voltages matrix. Check again the shape of the voltage matrix."
   ]
  },
  {
   "cell_type": "code",
   "execution_count": null,
   "id": "ddeb348e",
   "metadata": {},
   "outputs": [],
   "source": [
    "#your code here\n"
   ]
  },
  {
   "cell_type": "markdown",
   "id": "05cfb960",
   "metadata": {},
   "source": [
    "### D (4 points)"
   ]
  },
  {
   "cell_type": "markdown",
   "id": "260f06eb",
   "metadata": {},
   "source": [
    "Oops, the new expenisve and powerful current source (with $I = 50 A$) was actually broken, so the measured values are not valid anymore. While your colleagues are trying to return it back to the manufacturer, delete the corresponing voltages from the voltage matrix using ```numpy.delete()``` function. "
   ]
  },
  {
   "cell_type": "code",
   "execution_count": null,
   "id": "b941fd3a",
   "metadata": {},
   "outputs": [],
   "source": [
    "#your code here\n"
   ]
  },
  {
   "cell_type": "markdown",
   "id": "cdebbf5b",
   "metadata": {},
   "source": [
    "### E (6 points)"
   ]
  },
  {
   "cell_type": "markdown",
   "id": "55cca9d9",
   "metadata": {},
   "source": [
    "- Instead of the more powerful current source, your lab is getting new super-precise voltmeter but it cannot measure voltages above $1000 \\; \\textrm{V}$. Substiture measurments that are higher than 1000 V with -100 in the matrix (__no loops are allowed__). \n",
    "- What is the maximum voltage under 1000 V that can be measured with your sets of currents and resistors? Which combination of current and resistance produces the higher voltage under 1000 V? "
   ]
  },
  {
   "cell_type": "code",
   "execution_count": null,
   "id": "05ae74fb",
   "metadata": {},
   "outputs": [],
   "source": [
    "#your code here\n"
   ]
  },
  {
   "cell_type": "markdown",
   "id": "5f28c420",
   "metadata": {},
   "source": [
    "### F (8 points)"
   ]
  },
  {
   "cell_type": "markdown",
   "id": "7f0489a8",
   "metadata": {},
   "source": [
    "Due to the previous problems in running experiment, your lab is at risk of loosing funding. You are now working hard on understanding what impact your measurments. You discovered there is some noice present in your circuit.It has a shape of \n",
    "$$V = V_0 + 5\\sin (X)$$ \n",
    "where X is a random variable from $-\\pi$ to $\\pi$ and $V_0$ is a voltage from your matrix. Use ```numpy.random.uniform()``` to generate random variable ```X```. Add this noise to your matrix."
   ]
  },
  {
   "cell_type": "code",
   "execution_count": null,
   "id": "d3f52d4a",
   "metadata": {},
   "outputs": [],
   "source": [
    "#your code here\n"
   ]
  },
  {
   "cell_type": "markdown",
   "id": "bf3d8bde",
   "metadata": {},
   "source": [
    "### G (8 points)"
   ]
  },
  {
   "cell_type": "markdown",
   "id": "313dc5c3",
   "metadata": {},
   "source": [
    "Turns out the previous assumption about the random noise was wrong and your lab was left without funding. You were working hard to save the lab and have found out that there is some exsitation in the circle and it appears only above 100 V. This introduces an additional systematic error of 20% of the measured value for all the values above 100 V. Recalculate your matrix (and save your lab)."
   ]
  },
  {
   "cell_type": "code",
   "execution_count": null,
   "id": "70d202f5",
   "metadata": {},
   "outputs": [],
   "source": [
    "#your code here\n"
   ]
  }
 ],
 "metadata": {
  "kernelspec": {
   "display_name": "Python 3",
   "language": "python",
   "name": "python3"
  },
  "language_info": {
   "codemirror_mode": {
    "name": "ipython",
    "version": 3
   },
   "file_extension": ".py",
   "mimetype": "text/x-python",
   "name": "python",
   "nbconvert_exporter": "python",
   "pygments_lexer": "ipython3",
   "version": "3.8.8"
  }
 },
 "nbformat": 4,
 "nbformat_minor": 5
}
