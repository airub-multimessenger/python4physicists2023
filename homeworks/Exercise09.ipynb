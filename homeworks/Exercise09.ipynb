{
 "cells": [
  {
   "cell_type": "markdown",
   "id": "c3e087bc",
   "metadata": {},
   "source": [
    "# Homework 9\n",
    "\n",
    "## Name: \n"
   ]
  },
  {
   "cell_type": "markdown",
   "id": "89df2650",
   "metadata": {},
   "source": [
    "# Problem 1: fitting functions and finding extrema (50P)"
   ]
  },
  {
   "cell_type": "markdown",
   "id": "0a64074d",
   "metadata": {},
   "source": [
    "**A (5P)**\n",
    "\n",
    "In this task, we are going to work again with the function we already used in homework 3:\n",
    "\n",
    "<center> $f(x) = (x-6)^2$\n",
    "\n",
    "Use this function to generate an array **f1** that contains values for the **negative** function **-f(x)** on the interval: \n",
    "   \n",
    "<center> $x \\in [0,20]$\n",
    "\n",
    "The **x-interval** must be devided into **10 equal steps**!"
   ]
  },
  {
   "cell_type": "code",
   "execution_count": null,
   "id": "348969f5",
   "metadata": {},
   "outputs": [],
   "source": [
    "# your code here\n"
   ]
  },
  {
   "cell_type": "markdown",
   "id": "f7a8d554",
   "metadata": {},
   "source": [
    "**B (5P)**\n",
    "\n",
    "Create a scatter plot that shows the array f1!"
   ]
  },
  {
   "cell_type": "code",
   "execution_count": null,
   "id": "4988f052",
   "metadata": {
    "scrolled": true
   },
   "outputs": [],
   "source": [
    "# your code here"
   ]
  },
  {
   "cell_type": "markdown",
   "id": "40df9c40",
   "metadata": {},
   "source": [
    "**C (25P)**\n",
    "\n",
    "Now, we want to fit f1 values with a function. Fit a model function \n",
    "\n",
    "<center> $g(x) = m(x-a)^2 + b$\n",
    "    \n",
    "where **m,a,b** are the fitting parameters\n",
    "\n",
    "Print the parameter values with their errors. \n",
    "    \n",
    "Use significant decimals as you have learned in the \"Grundpraktikum\"! \n",
    "\n",
    "**(Hint: the errors can be very small)**"
   ]
  },
  {
   "cell_type": "code",
   "execution_count": null,
   "id": "fa582bd4",
   "metadata": {
    "scrolled": true
   },
   "outputs": [],
   "source": [
    "# your code here"
   ]
  },
  {
   "cell_type": "markdown",
   "id": "bbe83a9e",
   "metadata": {},
   "source": [
    "**D (15P)**\n",
    "\n",
    "After fitting the function, we want to find the maximum of the fitted curve. **You have to use ```scipy``` for this task!**\n",
    "\n",
    "Plot f1 again and mark the maximum!"
   ]
  },
  {
   "cell_type": "code",
   "execution_count": null,
   "id": "39989764",
   "metadata": {
    "scrolled": true
   },
   "outputs": [],
   "source": [
    "# your code here"
   ]
  },
  {
   "cell_type": "markdown",
   "id": "86c289a6",
   "metadata": {},
   "source": [
    "# Problem 2: CERN physicist for an hour (50 P)"
   ]
  },
  {
   "cell_type": "markdown",
   "id": "a9438446",
   "metadata": {},
   "source": [
    "Phi mesons, $\\phi$(1020), are registered by their decays into two kaons.\n",
    "\n",
    "$$\\phi \\rightarrow K^- K^+$$\n",
    "\n",
    "In this task, you fit pseudo-data to find the mass of phi meson and its lifetime.\n",
    "\n",
    "The decay of short living particles, such as phi mesons, is described by Breit-Wigner formula:\n",
    "\n",
    "$$f(m) = A \\frac{m \\cdot m_\\phi \\Gamma_\\phi(m)}{(m^2 - m^2_\\phi)^2 + m^2_\\phi \\Gamma^2_\\phi(m)}$$\n",
    "\n",
    "where \n",
    "\n",
    "$$\\Gamma_\\phi = \\frac{m_\\phi}{m} \\Gamma_0 \\left (\\frac{p}{p_0}\\right )^3$$\n",
    "\n",
    "$$p = \\sqrt{\\left (\\frac{m}{2}\\right)^2 - m_K^2}$$\n",
    "\n",
    "$$p_0 = \\sqrt{\\left (\\frac{m_\\phi}{2}\\right)^2 - m_K^2}$$\n",
    "\n",
    "where \n",
    "$m_K$ = 494 MeV, kaon mass\n",
    "\n",
    "$m$ - center-of-mass energy that produces $\\phi$ meson\n",
    "\n",
    "$A$ - normalization factor that is equal to the area under the curve,\n",
    "\n",
    "$m_\\phi$ - phi meson mass,\n",
    "\n",
    "$\\Gamma_0$ - phi meson decay width. \n",
    "\n",
    "$A$, $m_\\phi$ and $\\Gamma_0$ are model parameters that describe peak.\n"
   ]
  },
  {
   "cell_type": "markdown",
   "id": "8dd257c5",
   "metadata": {},
   "source": [
    "### (A).  Check the given data  (5 P)\n",
    "\n",
    "You have are provided with two arrays cointaining information about center-of-mass energies and counts (which can be proportional to physical quantities like cross-section). Make a quick plot to check the data (but don't forget about axis labels and specifying energy units)\n"
   ]
  },
  {
   "cell_type": "code",
   "execution_count": null,
   "id": "ba3741f9",
   "metadata": {},
   "outputs": [],
   "source": [
    "m = np.asarray([ 990.28571429,  992.57142857,  994.85714286,\n",
    "        997.14285714,  999.42857143, 1001.71428571, 1004.        ,\n",
    "       1006.28571429, 1008.57142857, 1010.85714286, 1013.14285714,\n",
    "       1015.42857143, 1017.71428571, 1020.        , 1022.28571429,\n",
    "       1024.57142857, 1026.85714286, 1029.14285714, 1031.42857143,\n",
    "       1033.71428571, 1036.        , 1038.28571429, 1040.57142857,\n",
    "       1042.85714286, 1045.14285714, 1047.42857143, 1049.71428571,\n",
    "       1052.        , 1054.28571429, 1056.57142857, 1058.85714286,\n",
    "       1061.14285714, 1063.42857143, 1065.71428571, 1068.        ,\n",
    "       1070.28571429, 1072.57142857, 1074.85714286, 1077.14285714,\n",
    "       1079.42857143, 1081.71428571, 1084.        , 1086.28571429,\n",
    "       1088.57142857, 1090.85714286, 1093.14285714, 1095.42857143,\n",
    "       1097.71428571, 1100.        ]) # MeV\n",
    "\n",
    "counts = np.asarray([2.31003417e-02, 7.66381726e-02, 1.67455262e-01,\n",
    "       3.11741087e-01, 5.37405428e-01, 8.93031098e-01, 1.46719670e+00,\n",
    "       2.43247872e+00, 4.15598459e+00, 7.51568994e+00, 1.49749055e+01,\n",
    "       3.51070312e+01, 1.03632842e+02, 2.16252822e+02, 1.04639025e+02,\n",
    "       4.59616350e+01, 2.54388979e+01, 1.64404712e+01, 1.17257576e+01,\n",
    "       8.93503238e+00, 7.13459944e+00, 5.89708248e+00, 5.00438128e+00,\n",
    "       4.33551917e+00, 3.81884184e+00, 3.40960414e+00, 3.07862337e+00,\n",
    "       2.80616244e+00, 2.57845502e+00, 2.38564205e+00, 2.22049899e+00,\n",
    "       2.07762447e+00, 1.95290808e+00, 1.84317215e+00, 1.74592527e+00,\n",
    "       1.65918918e+00, 1.58137500e+00, 1.51119320e+00, 1.44758725e+00,\n",
    "       1.38968394e+00, 1.33675579e+00, 1.28819224e+00, 1.24347735e+00,\n",
    "       1.20217236e+00, 1.16390196e+00, 1.12834334e+00, 1.09521741e+00,\n",
    "       1.06428173e+00, 1.03532473e+00])  # (in units of 1)"
   ]
  },
  {
   "cell_type": "code",
   "execution_count": null,
   "id": "868fd4c4",
   "metadata": {},
   "outputs": [],
   "source": [
    "# your code here"
   ]
  },
  {
   "cell_type": "markdown",
   "id": "9f73ceaa",
   "metadata": {},
   "source": [
    "### (B) Breit - Wigner distribution (12 P)\n",
    "\n",
    "Write a function that takes center-of-mass energy and model parameters (A, $m_\\phi$, $\\Gamma_0$) and returns value of $f(E)$ from the formula above. \n",
    "\n",
    "As many things in physics, Breit-Wigner distribution is not a trivial or simple function and depends on many factors which in turn are some functions of particle masses/energies. **Implement the Breit-Wigner formula carefully and double check the correspondance between written formulas and your code!**"
   ]
  },
  {
   "cell_type": "code",
   "execution_count": null,
   "id": "57e66879",
   "metadata": {},
   "outputs": [],
   "source": [
    "#your code here"
   ]
  },
  {
   "cell_type": "markdown",
   "id": "132d37d8",
   "metadata": {},
   "source": [
    "### (C)  Fit the data (18 P)\n",
    "\n",
    "Using ```scipy```, fit the data with the Breit-Wigner distribution. Since the parameters of the model differ even in orders of magnitude, it is required to give a starting point for a successfull fit.\n",
    "\n",
    "\n",
    "Make an _educated guess_ of where approximately the parameters may be if you know that $A$ is an area under the curve, $m_\\phi$ is the location of the peak, and $\\Gamma_0$ is the width of the peak.\n",
    "\n",
    "Print the obtined parameters with their units round to two decimal points."
   ]
  },
  {
   "cell_type": "code",
   "execution_count": null,
   "id": "d35c11a1",
   "metadata": {},
   "outputs": [],
   "source": [
    "#your code here"
   ]
  },
  {
   "cell_type": "markdown",
   "id": "4996be0c",
   "metadata": {},
   "source": [
    "### (D). Plot the fit (10 P)\n",
    "\n",
    "You have obtained the values of Breit-Wigner distribution that describe the given data. Plot the data together with its fit. \n",
    "\n",
    "The plot should contain all necessary scientific information to be presented e.g. at the conference."
   ]
  },
  {
   "cell_type": "code",
   "execution_count": null,
   "id": "5cddb36e",
   "metadata": {},
   "outputs": [],
   "source": [
    "# your code here"
   ]
  },
  {
   "cell_type": "markdown",
   "id": "fda7502a",
   "metadata": {},
   "source": [
    "### (E). Comparing to the previously measured values ( 1 + 4 P)"
   ]
  },
  {
   "cell_type": "markdown",
   "id": "be9628f9",
   "metadata": {},
   "source": [
    "Particle Data Group provides avarage value of the mass of $\\phi$ meson as\n",
    "\n",
    "$$m_\\phi = 1019.455 \\; \\pm 0.020 \\; \\textrm{MeV}$$\n",
    "\n",
    "Compare this to the corresponding parameter of your fit."
   ]
  },
  {
   "cell_type": "code",
   "execution_count": null,
   "id": "a91583e0",
   "metadata": {},
   "outputs": [],
   "source": [
    "# your comment about comparison here\n"
   ]
  },
  {
   "cell_type": "markdown",
   "id": "631bcf9f",
   "metadata": {},
   "source": [
    "Lifetime of a particle is another important characteristics alongside its mass. The lifetime is connected to the particle decay width (same as one of the model parameters) as\n",
    "\n",
    "$$\\Gamma = \\hbar/\\tau$$\n",
    "\n",
    "where $\\hbar = \\frac{h}{2\\pi}$ is Dirac constant.\n",
    "\n",
    "Calculate lifetime of $\\phi$ meson and compare it to the mean value of previous measuments which is $1.55 \\pm 0.01 \\times 10^{-22}$ s.\n",
    "\n",
    "_Don't forget that your decay width has units of MeV!_"
   ]
  },
  {
   "cell_type": "code",
   "execution_count": null,
   "id": "b8e9824e",
   "metadata": {},
   "outputs": [],
   "source": [
    "# your code here\n"
   ]
  }
 ],
 "metadata": {
  "kernelspec": {
   "display_name": "Python 3",
   "language": "python",
   "name": "python3"
  },
  "language_info": {
   "codemirror_mode": {
    "name": "ipython",
    "version": 3
   },
   "file_extension": ".py",
   "mimetype": "text/x-python",
   "name": "python",
   "nbconvert_exporter": "python",
   "pygments_lexer": "ipython3",
   "version": "3.8.8"
  }
 },
 "nbformat": 4,
 "nbformat_minor": 5
}
