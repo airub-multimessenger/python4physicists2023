{
 "cells": [
  {
   "cell_type": "code",
   "execution_count": 1,
   "id": "6412312c",
   "metadata": {},
   "outputs": [],
   "source": [
    "#name of student:"
   ]
  },
  {
   "cell_type": "markdown",
   "id": "bf75401f",
   "metadata": {},
   "source": [
    "# Problem 1: Lists, arrays and python as a calculator (44P)"
   ]
  },
  {
   "cell_type": "markdown",
   "id": "c9c016a7",
   "metadata": {},
   "source": [
    "As mentioned in last week's exercise, lists can become large and sometimes confusing.\n",
    "In this exercise, we will use Python as a calculator and use an array to save the values.\n",
    "You will use a list that contains data for a special class of exceptionally bright supernovae. Some models try to explain the high brightness.\n",
    "In the following, you will find the parameters for such a model, assuming a magnetar is formed during the explosion.\n",
    "\n",
    "First, import the document \"NichollSample_python homework.txt,\" which contains all the data needed for this exercise.\n",
    "\n",
    "You can import it by using the following code:"
   ]
  },
  {
   "cell_type": "code",
   "execution_count": 2,
   "id": "255c2237",
   "metadata": {},
   "outputs": [],
   "source": [
    "import numpy as np\n",
    "List_1= np.loadtxt('NichollSample_python homework.txt', dtype={'names': ('sourceName', 'P_i', 'B_14', 'M_ej', 'v8', 'z'), 'formats': ('S12', 'f4', 'f4', 'f4', 'f4', 'f4')})\n"
   ]
  },
  {
   "cell_type": "markdown",
   "id": "76c6050e",
   "metadata": {},
   "source": [
    "This code creates a list with the data from the document, where each column gets its own name.\n",
    "\n",
    "On Anaconda, numpy should be preinstalled. In case it is not, for Anaconda, you can install it with the command: 'conda install numpy.' \n",
    "If you have Python directly installed on your computer (with pip-connection), you can use pip install numpy.\n",
    "You will learn more about numpy later in the lecture!\n",
    "\n",
    "If you want to get the values for a specific quantity (e.g., the spinning period P_i), you can do this by using P_i = List_1['P_i'], which creates a list with the P_i values.\n",
    "\n",
    "Now, write a code that allows you to calculate the distance in Mpc to the transients. (6P)\n",
    "\n",
    "For distance calculation, use $D = (z c) / H_0 $, where $D$ is the distance, $c=3\\times10^8$ m/s the speed of light, $z$ the redshift, and $H_0 =70$ km/s/MPc is the Hubble constant.\n",
    "\n",
    "Python has a built-in round-function round(x,y) that allows you to round a number x on y decimals. However, since $D$ is currently an array, you cannot round D directly. \n",
    "Find a way to round the entries of $D$ to 2 decimals using the round()-function. (11P) \n",
    "\n",
    "Afterwards, compare the rounded values with the not-rounded ones. What do you notice? (6P) \n",
    "\n",
    "(Hint: look at the last entry of $D$, which is D_not_rounded = 6805.71453912).\n"
   ]
  },
  {
   "cell_type": "code",
   "execution_count": 3,
   "id": "50f0943b",
   "metadata": {},
   "outputs": [],
   "source": [
    "#Your code:\n"
   ]
  },
  {
   "cell_type": "code",
   "execution_count": 4,
   "id": "9c132f8a",
   "metadata": {},
   "outputs": [],
   "source": [
    "#Space to write down your rounding observation(s):\n"
   ]
  },
  {
   "cell_type": "markdown",
   "id": "5b95154e",
   "metadata": {},
   "source": [
    "Now print all objects from this document that have an ejecta mass $M_{\\mathrm{ej}} > 10 M_{\\mathrm{sun}}$ (The values are already in solar masses).\n",
    "\n",
    "Use the printorder (name, P_i, B_14, M_ej, v8, z, D).\n",
    "\n",
    "In case $M_{\\mathrm{ej}} < 10 M_\\mathrm{sun}$, print 'Ejecta mass too small!'.\n",
    "\n",
    "To make the list more readable, use a tab as a space between each entry. For this, you can use \\t, which generates a tab. (21P)\n",
    "\n",
    "(Hint: Don't be confused if the names appear like b'name'. If you add .decode() to the element that you want to print, this vanishes.) "
   ]
  },
  {
   "cell_type": "code",
   "execution_count": 5,
   "id": "0a445fed",
   "metadata": {},
   "outputs": [],
   "source": [
    "#Your code with indexes:\n"
   ]
  },
  {
   "cell_type": "markdown",
   "id": "5e5da27a",
   "metadata": {},
   "source": [
    "The exact meaning of the values is not important. The objects/events are superluminous supernovae. \n",
    "In case you want to read more about this special type of supernova, you can read the following paper, \n",
    "where all values are coming from: \n",
    "\n",
    "The Astrophysical Journal, 850:55 (26pp), 2017 November 20, \n",
    "\"The Magnetar Model for Type I Superluminous Supernovae. I. Bayesian Analysis of the Full Multicolor Light-curve Sample with MOSFiT\" by Matt Nicholl, James Guillochon, Edo Berger"
   ]
  },
  {
   "cell_type": "markdown",
   "id": "ee769ea1",
   "metadata": {},
   "source": [
    "# Problem 2: Writing in a pythonic way (56P)"
   ]
  },
  {
   "cell_type": "markdown",
   "id": "8e2cac79",
   "metadata": {},
   "source": [
    "Create a list t_true with all the first 30 integers (from 0 to 29) all divided by 3 (6P)"
   ]
  },
  {
   "cell_type": "code",
   "execution_count": 6,
   "id": "b2fcc604",
   "metadata": {},
   "outputs": [],
   "source": [
    "#Your code here\n"
   ]
  },
  {
   "cell_type": "markdown",
   "id": "d5519f46",
   "metadata": {},
   "source": [
    "Now create a second list t_approx with the elements from L1 rounded to an integer. Do this with one line of code and without using the built-in round() function. (4P)"
   ]
  },
  {
   "cell_type": "code",
   "execution_count": 7,
   "id": "c7f6370a",
   "metadata": {},
   "outputs": [],
   "source": [
    "#Your code here\n"
   ]
  },
  {
   "cell_type": "markdown",
   "id": "14bbac47",
   "metadata": {},
   "source": [
    "The position of a car $x$ is given by $x(t) = vt$. The velocity of the car is $v=2$ m/s. \n",
    "- Using t_true as the list of times $t$, calculate the actual positions $x_\\mathrm{true}$; (3P)\n",
    "- Using t_approx as the list of times $t$, calculate the approximated positions $x_\\mathrm{approx}$; (3P)\n",
    "- Find the error that we have using the approximated times $\\Delta x = x_\\mathrm{true}-x_\\mathrm{approx}$; (5P)\n",
    "- Find the relative error $\\Delta x_r = \\Delta x / x_\\mathrm{true}$. (5P)"
   ]
  },
  {
   "cell_type": "code",
   "execution_count": 8,
   "id": "0c788d0c",
   "metadata": {},
   "outputs": [],
   "source": [
    "#Your code here\n"
   ]
  },
  {
   "cell_type": "markdown",
   "id": "7a010b98",
   "metadata": {},
   "source": [
    "The position of the car is now given by $x(t)=\\frac{1}{2}at^2$ where $a$ is the acceleration of $2$ m/s$^2$.\n",
    "\n",
    "Which error and relative error would you have now using the approximated time instead of the true one? (3P + 3P)"
   ]
  },
  {
   "cell_type": "code",
   "execution_count": 9,
   "id": "04ce00df",
   "metadata": {},
   "outputs": [],
   "source": [
    "#Your code here\n"
   ]
  },
  {
   "cell_type": "markdown",
   "id": "a2250ea9",
   "metadata": {},
   "source": [
    "You have now a population of bacteria whose number goes as $N(t)=N_02^{t/\\tau}$ where $N_0 = 10$ is the population at the instant $t=0$ and $\\tau=1$ h is the time that the bacteria need to duplicate. Treat your lists of times as if they were in units of hours, without applying any modification to them (so if a number before was 10 s, not it is 10 h). Keep in mind that the number of bacteria must always be an integer (here you can use the built-in function round()).\n",
    "\n",
    "How do error and relative error now go? (12 P)"
   ]
  },
  {
   "cell_type": "code",
   "execution_count": 10,
   "id": "85ec4bf7",
   "metadata": {},
   "outputs": [],
   "source": [
    "#Your code here\n"
   ]
  },
  {
   "cell_type": "markdown",
   "id": "fff847ba",
   "metadata": {},
   "source": [
    "Print the list of errors from the precedent point until there is an error with absolute value greater than 1000, once using break, and one using while (6P + 6P)"
   ]
  },
  {
   "cell_type": "code",
   "execution_count": 11,
   "id": "78d7816b",
   "metadata": {},
   "outputs": [],
   "source": [
    "#Your code here, using while\n"
   ]
  },
  {
   "cell_type": "code",
   "execution_count": 12,
   "id": "bf70ad7a",
   "metadata": {},
   "outputs": [],
   "source": [
    "#your code here, using break\n"
   ]
  }
 ],
 "metadata": {
  "kernelspec": {
   "display_name": "Python 3 (ipykernel)",
   "language": "python",
   "name": "python3"
  },
  "language_info": {
   "codemirror_mode": {
    "name": "ipython",
    "version": 3
   },
   "file_extension": ".py",
   "mimetype": "text/x-python",
   "name": "python",
   "nbconvert_exporter": "python",
   "pygments_lexer": "ipython3",
   "version": "3.11.5"
  }
 },
 "nbformat": 4,
 "nbformat_minor": 5
}
