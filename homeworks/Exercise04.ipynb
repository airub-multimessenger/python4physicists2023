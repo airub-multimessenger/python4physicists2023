{
 "cells": [
  {
   "cell_type": "markdown",
   "id": "fff5d541",
   "metadata": {},
   "source": [
    "# Problem 1: Lupus in Tabula (80P)"
   ]
  },
  {
   "cell_type": "markdown",
   "id": "8b5893e7",
   "metadata": {},
   "source": [
    "Lupus in Tabula is a famous board game in which the players are villagers in a fictitious town infested by werewolfs. In the game, the werewolfs have to kill all the villagers, while the latter have to understand who among them is a werewolf, and kill them before they do the same with them.\n",
    "\n",
    "In this problem we will just very basically program a small lupus in Tabula with the basic characters\n",
    "\n",
    "### Step 1: define the Villager class (25P)\n",
    "Create the Villager class with the attributes:\n",
    " - **name**: the name of the villager\n",
    " - **is_alive**: a boolean value that is True if the villager is alive and False if not\n",
    " \n",
    "The class must also have the following methods:\n",
    " - **get_name**: *getter_method* for the name\n",
    " - **still_alive**: *getter_method* for is_alive\n",
    " - **turn_dead**: method that turns the villager dead (checking if the villager is alive before)"
   ]
  },
  {
   "cell_type": "code",
   "execution_count": 1,
   "id": "7f9f052e",
   "metadata": {},
   "outputs": [],
   "source": [
    "#Your code\n"
   ]
  },
  {
   "cell_type": "markdown",
   "id": "816ecf0b",
   "metadata": {},
   "source": [
    "Now create a villager whose name is Gunther and check if he is still alive"
   ]
  },
  {
   "cell_type": "code",
   "execution_count": 2,
   "id": "9aa80182",
   "metadata": {},
   "outputs": [],
   "source": [
    "#Your code\n"
   ]
  },
  {
   "cell_type": "markdown",
   "id": "4a2602c1",
   "metadata": {},
   "source": [
    "### Step 2: define the Village class (25P)\n",
    "Create the Village class with the attributes:\n",
    " - **name**: the name of the village\n",
    " - **villagers**: a list with all the villagers in the village\n",
    " - **N_alive_villagers**: the number of alive villagers\n",
    " - **N_dead_villagers**: the number of dead villagers\n",
    " \n",
    "The class must also have the following methods:\n",
    " - **get_name**: *getter_method* for the name\n",
    " - **get_villagers**: *getter_method* for the list of villagers\n",
    " - **get_N_alive**: *getter_method* for the number of alive villagers\n",
    " - **get_N_dead**: *getter_method* for the number of dead villagers\n",
    " - **add_villager**: method that adds a villager to the village checking if it isn't already there (remember to update the attributes)\n",
    " - **update_village** method that updates N_alive_villagers and N_dead_villagers, in case things changed"
   ]
  },
  {
   "cell_type": "code",
   "execution_count": 3,
   "id": "eb715425",
   "metadata": {},
   "outputs": [],
   "source": [
    "#Your code\n"
   ]
  },
  {
   "cell_type": "markdown",
   "id": "1667f888",
   "metadata": {},
   "source": [
    "Now create a village whose name is Hattingen, add Gunther to Hattingen, and check how many people are alive in Hattingen"
   ]
  },
  {
   "cell_type": "code",
   "execution_count": 4,
   "id": "5ee19ba8",
   "metadata": {},
   "outputs": [],
   "source": [
    "#Your code\n"
   ]
  },
  {
   "cell_type": "markdown",
   "id": "fd830da1",
   "metadata": {},
   "source": [
    "### Step 3: define the Werewolf class (30P)\n",
    "Create the Werewolf class that inherits from the Villager class and with the following additional attributes:\n",
    " - **village**: the Village object of which the werewolf will be part (add the wolf to this village automatically)\n",
    " \n",
    "The class must also have the following additional methods:\n",
    " - **get_village**: *getter_method* for the village of which the warewolf is part\n",
    " - **kill**: method that kills a specific villager. The werewolf must be still alive to be able to kill. The villager must be still alive and in the same village of the werewolf. Remember that the attributes in the village must be updated. Try to use all the possible methods that you already defined."
   ]
  },
  {
   "cell_type": "code",
   "execution_count": 5,
   "id": "40d99537",
   "metadata": {},
   "outputs": [],
   "source": [
    "#Your code\n"
   ]
  },
  {
   "cell_type": "markdown",
   "id": "21e7fa9e",
   "metadata": {},
   "source": [
    "Now create a warewolf in Hattingen whose name is Sven. Let Sven kill Gunther, and check how many people are alive and dead in Hattingen"
   ]
  },
  {
   "cell_type": "code",
   "execution_count": 6,
   "id": "b2eaf014",
   "metadata": {},
   "outputs": [],
   "source": [
    "#Your code\n"
   ]
  },
  {
   "cell_type": "markdown",
   "id": "6351b1c2",
   "metadata": {},
   "source": [
    "The problem ends here. This is a very basic structure. If you have time and you want to, we would encourage you to add characters of Lupus in Tabula and to test the various interactions (but still to be clear, you don't have to). If you want to, you can also send us what you created and/or it could be shared during the tutorials."
   ]
  },
  {
   "cell_type": "code",
   "execution_count": 7,
   "id": "81f80ccc",
   "metadata": {},
   "outputs": [],
   "source": [
    "#Your creation (no points)"
   ]
  },
  {
   "cell_type": "markdown",
   "id": "f74526ed",
   "metadata": {},
   "source": [
    "# Problem 2: Some trigonometry and lambda (20P)"
   ]
  },
  {
   "cell_type": "markdown",
   "id": "bd0a6321",
   "metadata": {},
   "source": [
    "**(A)** Consider the following two lists which represent the lengths of the adjacent and the opposite in right triangles.\n",
    "Write a code, that calculates the length of the hypotenuses for the given triangels. **You have to use the lambda function!**\n",
    "Round the values for the hypotenuses on two decimals. You can use the round() function.\n",
    "Print the values for the hypotenuses! (5P)"
   ]
  },
  {
   "cell_type": "code",
   "execution_count": null,
   "id": "6bf5aa0a",
   "metadata": {},
   "outputs": [],
   "source": []
  },
  {
   "cell_type": "markdown",
   "id": "bde7a70e",
   "metadata": {},
   "source": [
    "**(B)** Now, write codes to calculate the $\\sin(\\alpha)$, $\\cos(\\alpha)$, and $\\tan(\\alpha)$ for the lists from **(A)**.\n",
    "Again, all values should be rounded to 2 decimals and printed! **You MUST use the lambda function.** (3 x 5P)"
   ]
  },
  {
   "cell_type": "code",
   "execution_count": 8,
   "id": "5cbd5915",
   "metadata": {},
   "outputs": [],
   "source": [
    "#your code for cosine\n"
   ]
  },
  {
   "cell_type": "code",
   "execution_count": 9,
   "id": "6ac15e7e",
   "metadata": {},
   "outputs": [],
   "source": [
    "#your code for sine\n"
   ]
  },
  {
   "cell_type": "code",
   "execution_count": 10,
   "id": "de1099e5",
   "metadata": {},
   "outputs": [],
   "source": [
    "#your code for tangent\n"
   ]
  },
  {
   "cell_type": "code",
   "execution_count": null,
   "id": "bfd392ce",
   "metadata": {},
   "outputs": [],
   "source": []
  }
 ],
 "metadata": {
  "kernelspec": {
   "display_name": "Python 3 (ipykernel)",
   "language": "python",
   "name": "python3"
  },
  "language_info": {
   "codemirror_mode": {
    "name": "ipython",
    "version": 3
   },
   "file_extension": ".py",
   "mimetype": "text/x-python",
   "name": "python",
   "nbconvert_exporter": "python",
   "pygments_lexer": "ipython3",
   "version": "3.11.5"
  }
 },
 "nbformat": 4,
 "nbformat_minor": 5
}
