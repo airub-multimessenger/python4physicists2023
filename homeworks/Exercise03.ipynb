{
 "cells": [
  {
   "cell_type": "markdown",
   "id": "7c143b78-587c-4c77-9546-e53f7625d264",
   "metadata": {},
   "source": [
    "# Homework 3\n",
    "\n",
    "## name: \n",
    "\n"
   ]
  },
  {
   "cell_type": "markdown",
   "id": "699df018-6ee3-45da-b2dd-290c104c9118",
   "metadata": {},
   "source": [
    "## Problem 1: Vector calculus (50P)\n"
   ]
  },
  {
   "cell_type": "markdown",
   "id": "ee522355-56aa-4bcc-8b08-5b13b9cda83f",
   "metadata": {},
   "source": [
    "The gradient of a function $f(x,y,z)$ is defined as:\n",
    "$$∇f= \\frac{∂f}{∂x} ~\\vec{e_{x}} + \\frac{∂f}{∂y} ~\\vec{e_{y}} + \\frac{∂f}{∂z} ~\\vec{e_{z}} $$\n",
    "\n",
    ", where $\\frac{∂f}{∂x}, \\frac{∂f}{∂y},\\frac{∂f}{∂z}$ are the partial derivatives of f with respect to the variables x, y and z.\n",
    "\n",
    "**(A)** Given the function $g(x,y,z) = x \\cdot z^{2}$, calculate the gradient analytically (here you don't have to write a code). Define the gradient as a function. (5P)"
   ]
  },
  {
   "cell_type": "code",
   "execution_count": 1,
   "id": "996cb11c-5960-4019-8a9c-d3f53eb27db1",
   "metadata": {},
   "outputs": [],
   "source": [
    "#your code"
   ]
  },
  {
   "cell_type": "markdown",
   "id": "28ec872e-8554-4708-aacd-26000c0babdf",
   "metadata": {},
   "source": [
    "Test your function by inserting the following three points into your vector field:\n",
    "- **(2, 0, -5)**\n",
    "- **(4, 0, 1)**\n",
    "- **(-1, 0, 2)**"
   ]
  },
  {
   "cell_type": "code",
   "execution_count": 2,
   "id": "54b4f463-5e52-4a32-95c8-8caf926c4812",
   "metadata": {},
   "outputs": [],
   "source": [
    "#your code"
   ]
  },
  {
   "cell_type": "markdown",
   "id": "81d4c89f-6fbe-48cb-9674-55fc4c60fc94",
   "metadata": {},
   "source": [
    "**(B)** Write a general function that adds two vectors and test your function by adding $∇g~(2, 0, -5)$ with $\\vec{K} = -2 \\vec{e_{y}}$. Don't forget to consider the case of two vectors with different dimensions! Write a function that gives an error in case of two vectors with different dimensions. Test this case by adding $∇g~(2, 0, 0)$ with $\\vec{K} = (0,1)$. (7P)"
   ]
  },
  {
   "cell_type": "code",
   "execution_count": 3,
   "id": "dee89c8c-87ed-4f3c-83dd-cf22503d00ec",
   "metadata": {},
   "outputs": [],
   "source": [
    "#your code"
   ]
  },
  {
   "cell_type": "code",
   "execution_count": 4,
   "id": "83f28621-5360-4d4b-95d5-c2463fbac855",
   "metadata": {},
   "outputs": [],
   "source": [
    "#test 1"
   ]
  },
  {
   "cell_type": "code",
   "execution_count": 5,
   "id": "7b1cfe53-8ec0-48ff-8832-77cb42a9a881",
   "metadata": {},
   "outputs": [],
   "source": [
    "#test 2"
   ]
  },
  {
   "cell_type": "markdown",
   "id": "04926c2a-f234-4168-886d-16889bdcaaa4",
   "metadata": {},
   "source": [
    "**(C)** Write a function that calculates the scalar product of two vectors and test this for $\\vec{A} = -3 \\vec{e_{x}} + 5  \\vec{e_{y}} - 1 \\vec{e_{z}}$ and $\\vec{B} = 3 \\vec{e_{x}} + 6  \\vec{e_{y}} - 9 \\vec{e_{z}}$. (10P)"
   ]
  },
  {
   "cell_type": "code",
   "execution_count": 6,
   "id": "a7dec0ed-844a-4422-8300-c27b12f3b32e",
   "metadata": {},
   "outputs": [],
   "source": [
    "#your code"
   ]
  },
  {
   "cell_type": "markdown",
   "id": "59f61be9-5614-4a1d-8163-8d48327a0918",
   "metadata": {},
   "source": [
    "**(D)** Finally, we would like to calculate the triple product of three vectors. The scalar triple product is defined as the dot product of one of the vectors with the cross product of the other two.\n",
    "$$ \\mathbf{a}\\cdot(\\mathbf{b}\\times \\mathbf{c}) = {\\displaystyle {\\begin{bmatrix}a_{1}\\\\a_{2}\\\\a_{3}\\end{bmatrix}} \\cdot{\\begin{bmatrix}b_{2}c_{3}-c_{3}b_{2}\\\\b_{3}c_{1}-b_{1}c_{3}\\\\b_{1}c_{2}-b_{2}c_{1}\\end{bmatrix}}}$$\n",
    "Write a function that already includes your function for the scalar product. Test this for the following three vectors (15P):\n",
    "\n",
    "|  | | |\n",
    "|:--------:|:--------:|:--------:|\n",
    "|\\begin{bmatrix} 0 \\\\ 2 \\\\ 4 \\end{bmatrix} |  \\begin{bmatrix} -1 \\\\ 4 \\\\ 0 \\end{bmatrix} |  \\begin{bmatrix} 2 \\\\ 8 \\\\ 1 \\end{bmatrix} |. \n"
   ]
  },
  {
   "cell_type": "code",
   "execution_count": 7,
   "id": "5afc80f2-0287-4c25-875a-c85d7d90fd6c",
   "metadata": {},
   "outputs": [],
   "source": [
    "#your code"
   ]
  },
  {
   "cell_type": "markdown",
   "id": "d549c6ba-4630-4ab5-9ff8-c86ced332d07",
   "metadata": {},
   "source": [
    "**(E)** Now we are looking for a function that finds every combination of numbers inside a specific range for a 3D vector. This means for example, if we have range(2,5), we need a function that finds every combination of 2,3 and 4 and generates the different vectors for us. (13P)\n"
   ]
  },
  {
   "cell_type": "code",
   "execution_count": 8,
   "id": "081d069c-866c-4018-9664-0b264f8c08e6",
   "metadata": {},
   "outputs": [],
   "source": [
    "#your code"
   ]
  },
  {
   "cell_type": "markdown",
   "id": "344d4f6c-2737-41a0-934e-6da2ae40e01d",
   "metadata": {},
   "source": [
    "Use the combination function to generate every possible combination of the numbers 1 and 2. Try to combine these vectors again "
   ]
  },
  {
   "cell_type": "code",
   "execution_count": 9,
   "id": "7ed72108-19b1-4bf6-8ae9-fa3f80a55a00",
   "metadata": {},
   "outputs": [],
   "source": [
    "#your code"
   ]
  },
  {
   "cell_type": "markdown",
   "id": "5230999b",
   "metadata": {},
   "source": [
    "## Problem 2: Extrema of functions (50 P)\n",
    "\n",
    "In this exercise, we want to build an exemplary code to calculate the extremum of a function. Since we have no packages introduced yet, we will use a numerical method to estimate the derivative. For the following task, you are NOT allowed to use the scipy package or something similar except for the 'linspace' function from the numpy package, or it is already included in python and must not be imported!\n",
    "\n",
    "As you have already learned in school and in previous semesters, you can calculate the derivative by the differential quotient with infinitesimal small h:\n",
    "\n",
    "<center> $\\frac{df}{dx} = \\lim_{h \\to 0} \\frac{f(x+h) - f(x)}{h}$.\n",
    "    \n",
    "In the case of a numerical approach, we can use three different methods:\n",
    "    \n",
    "1) Forward-difference discrete derivative:\n",
    "    \n",
    "<center> $\\frac{df}{dx} \\approx \\frac{f(x+h) - f(x)}{h}$,\n",
    "    \n",
    "2) Backward-difference discrete derivative:\n",
    "    \n",
    "<center> $\\frac{df}{dx} \\approx \\frac{f(x) - f(x-h)}{h}$,\n",
    "    \n",
    "3) Central-difference discrete derivate:\n",
    "    \n",
    "<center> $\\frac{df}{dx} \\approx \\frac{f(x+h) - f(x-h)}{2h}$.\n",
    "    \n",
    "The precision of these methods is different. As in the continuous way, h is a small deviation of x.\n",
    "\n",
    "The aim is to write a code that allows you to calculate the extremum by only giving the function as input.\n",
    "We will work step by step.\n",
    "    \n",
    "In the case you do not have a solution that works properly for a subtask, write a pseudocode for the following ones. This will also grand you points!\n",
    "\n",
    "**(A)** First, we need some functions to make life easier.\n",
    "Write functions to define a function f(x) = (x-6)**2, the first derivative f_prime, the second derivative f_2prime, and the third derivative f_3prime! \n",
    "\n",
    "    \n",
    "The second and third derivatives should not be written by hand. You have to find a way that f_2prime uses the function f_prime directly (same for f_3prime and f_2prime)!(15P)\n"
   ]
  },
  {
   "cell_type": "code",
   "execution_count": 10,
   "id": "0ce6adcd",
   "metadata": {},
   "outputs": [],
   "source": [
    "#your code"
   ]
  },
  {
   "cell_type": "markdown",
   "id": "5d08a2ec",
   "metadata": {},
   "source": [
    "**(B)** Now, we need to find a way, to estimate the x, where the f_prime becomes 0. Because we are using numerical methods, we won't reach 0 exactly, but we will get close there. For this, we need to define a range of numbers that should be investigated. For this, we need to import the numpy package again. In this package, you can find a function 'linspace(a,b,c)'. 'a' and 'b' define the start and endpoint of your interval. 'c' divides this interval into a certain amount of steps. This interval will the be stored as an array. Use a=-10, b=10, c=10000. \n",
    "\n",
    "\n",
    "For h, we use h=1, which is small enough for our purpose.\n",
    "In case you want to find a specific index inside a list 'list', you can use list.index(). In the brackets, you can add the function that gives you the values you are looking for. (15P)\n",
    "\n",
    "\n",
    "(Hint: You can look up ways to find the minimum of a list. Keep it simple.)"
   ]
  },
  {
   "cell_type": "code",
   "execution_count": 11,
   "id": "7e9f41d6",
   "metadata": {},
   "outputs": [],
   "source": [
    "#your code"
   ]
  },
  {
   "cell_type": "markdown",
   "id": "0e660947",
   "metadata": {},
   "source": [
    "**(C)** After we found the zero, we want to get a few more information. Write a code, that prints automatically, whether you have a minimum, maximum, or turning point. In case of a turning point, we want also the information if it is a saddle point! Keep in mind, this time f(x) is pretty easy. Of course, one could think about more difficult situations where the answer is not clear in advance! (15P)"
   ]
  },
  {
   "cell_type": "code",
   "execution_count": 12,
   "id": "5e54c6f4",
   "metadata": {},
   "outputs": [],
   "source": [
    "#your code"
   ]
  },
  {
   "cell_type": "markdown",
   "id": "a39a1b85",
   "metadata": {},
   "source": [
    "**(D)** In the last step, you have to show, by printing, that the central-difference method has the highest precision of the three given methods. \n",
    "\n",
    "You can use your previous code for this task! (5P)"
   ]
  },
  {
   "cell_type": "code",
   "execution_count": 13,
   "id": "a536e2e9",
   "metadata": {},
   "outputs": [],
   "source": [
    "#test 1"
   ]
  },
  {
   "cell_type": "code",
   "execution_count": 14,
   "id": "4ee6f090",
   "metadata": {},
   "outputs": [],
   "source": [
    "#test 2"
   ]
  },
  {
   "cell_type": "code",
   "execution_count": 15,
   "id": "0a60eaa6",
   "metadata": {},
   "outputs": [],
   "source": [
    "#method with highest precission:"
   ]
  },
  {
   "cell_type": "markdown",
   "id": "f879b828",
   "metadata": {},
   "source": [
    "This way only works for functions with one extremum. In case, there is more than one, one would need to modify the code so that the lists are slized to find multiple zeros this way. This is for this task not needed but something to keep in mind."
   ]
  }
 ],
 "metadata": {
  "kernelspec": {
   "display_name": "Python 3 (ipykernel)",
   "language": "python",
   "name": "python3"
  },
  "language_info": {
   "codemirror_mode": {
    "name": "ipython",
    "version": 3
   },
   "file_extension": ".py",
   "mimetype": "text/x-python",
   "name": "python",
   "nbconvert_exporter": "python",
   "pygments_lexer": "ipython3",
   "version": "3.11.5"
  }
 },
 "nbformat": 4,
 "nbformat_minor": 5
}
