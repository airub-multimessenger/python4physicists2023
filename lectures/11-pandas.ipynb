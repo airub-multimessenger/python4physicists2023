{
 "cells": [
  {
   "cell_type": "markdown",
   "id": "c94c899b",
   "metadata": {},
   "source": [
    "# Lecture 11: Data analysis with ```pandas```"
   ]
  },
  {
   "cell_type": "code",
   "execution_count": null,
   "id": "65c2bc4c",
   "metadata": {},
   "outputs": [],
   "source": [
    "import pandas as pd\n",
    "import numpy as np\n",
    "import csv\n",
    "\n",
    "import matplotlib.pyplot as plt"
   ]
  },
  {
   "cell_type": "markdown",
   "id": "f8afd178",
   "metadata": {},
   "source": [
    "In the Lecture 5, you have already looked into ```csv.reader``` which converts data from CSV files into python strings. Working with this type of data is not always convenient. \n"
   ]
  },
  {
   "cell_type": "markdown",
   "id": "44a263eb",
   "metadata": {},
   "source": [
    "## Recap from the previous lectures"
   ]
  },
  {
   "cell_type": "markdown",
   "id": "92568cbb",
   "metadata": {},
   "source": [
    "### ```csv``` library"
   ]
  },
  {
   "cell_type": "markdown",
   "id": "65f4558b",
   "metadata": {},
   "source": [
    "### Isotope database\n",
    "\n",
    "As an example, we will work with ```isotop_data.csv``` that was generated from https://www-nds.iaea.org/relnsd/vcharthtml/VChartHTML.html\n",
    "\n",
    "This database contains information on physical properties of most of the known isotops (but not all!)"
   ]
  },
  {
   "cell_type": "code",
   "execution_count": null,
   "id": "4481539c",
   "metadata": {},
   "outputs": [],
   "source": [
    "with open(\"isotop_data.csv\",'r') as dest_f:\n",
    "    csv_reader = csv.reader(dest_f,\n",
    "                           delimiter = ',',\n",
    "                           quotechar = '\"')\n",
    "    data = [data for data in csv_reader]\n",
    "    \n",
    "data_array = np.asarray(data)"
   ]
  },
  {
   "cell_type": "code",
   "execution_count": null,
   "id": "52d7b20b",
   "metadata": {},
   "outputs": [],
   "source": [
    "data_array"
   ]
  },
  {
   "cell_type": "markdown",
   "id": "ad3ec199",
   "metadata": {},
   "source": [
    "### ```numpy``` library"
   ]
  },
  {
   "cell_type": "code",
   "execution_count": null,
   "id": "947a674e",
   "metadata": {},
   "outputs": [],
   "source": [
    "np.genfromtxt('isotop_data.csv', delimiter=',',invalid_raise=False)"
   ]
  },
  {
   "cell_type": "markdown",
   "id": "2f1281ef",
   "metadata": {},
   "source": [
    "## Pandas\n",
    " - library for data manipulation and analysis\n",
    " - imports data from CSV, JSON, SQL, Excel etc.\n",
    " - built on top of ```numpy```\n",
    " - most machine learning tools support ```pandas``` $\\rightarrow$ used for data preprocessing in machine learning\n",
    " - optimized performance for big tables"
   ]
  },
  {
   "cell_type": "markdown",
   "id": "b1e66b2a",
   "metadata": {},
   "source": [
    "## Reading the data file"
   ]
  },
  {
   "cell_type": "code",
   "execution_count": null,
   "id": "ab2868ee",
   "metadata": {},
   "outputs": [],
   "source": [
    "df = pd.read_csv(\"isotop_data.csv\")"
   ]
  },
  {
   "cell_type": "markdown",
   "id": "90451bf2",
   "metadata": {},
   "source": [
    "If you already know the content of the file and you don't need all the columns, you can read the file more efficiently with \n",
    "\n",
    "```usecols = ['column1', 'column2', 'column3']```"
   ]
  },
  {
   "cell_type": "code",
   "execution_count": null,
   "id": "51f9151d",
   "metadata": {
    "scrolled": true
   },
   "outputs": [],
   "source": [
    "df"
   ]
  },
  {
   "cell_type": "code",
   "execution_count": null,
   "id": "0950b2c1",
   "metadata": {},
   "outputs": [],
   "source": [
    "type(df)"
   ]
  },
  {
   "cell_type": "code",
   "execution_count": null,
   "id": "31fc5659",
   "metadata": {},
   "outputs": [],
   "source": [
    "df['Z']"
   ]
  },
  {
   "cell_type": "code",
   "execution_count": null,
   "id": "959f8e6d",
   "metadata": {},
   "outputs": [],
   "source": [
    "type(df['Z'])"
   ]
  },
  {
   "cell_type": "markdown",
   "id": "ee0ab665",
   "metadata": {},
   "source": [
    "### What is inside?"
   ]
  },
  {
   "cell_type": "code",
   "execution_count": null,
   "id": "116d7596",
   "metadata": {
    "scrolled": true
   },
   "outputs": [],
   "source": [
    "print(df.info())"
   ]
  },
  {
   "cell_type": "code",
   "execution_count": null,
   "id": "ca6c78af",
   "metadata": {},
   "outputs": [],
   "source": [
    "df.describe()"
   ]
  },
  {
   "cell_type": "code",
   "execution_count": null,
   "id": "0def1e67",
   "metadata": {
    "scrolled": true
   },
   "outputs": [],
   "source": [
    "df.head()"
   ]
  },
  {
   "cell_type": "code",
   "execution_count": null,
   "id": "d489cd94",
   "metadata": {
    "scrolled": true
   },
   "outputs": [],
   "source": [
    "df.tail()"
   ]
  },
  {
   "cell_type": "code",
   "execution_count": null,
   "id": "c3c8e3ea",
   "metadata": {},
   "outputs": [],
   "source": [
    "df.shape"
   ]
  },
  {
   "cell_type": "code",
   "execution_count": null,
   "id": "74741313",
   "metadata": {},
   "outputs": [],
   "source": [
    "df.columns"
   ]
  },
  {
   "cell_type": "markdown",
   "id": "4ae9bfab",
   "metadata": {},
   "source": [
    "## Selecting data from the table"
   ]
  },
  {
   "cell_type": "markdown",
   "id": "227f64d4",
   "metadata": {},
   "source": [
    "### Selecting columns"
   ]
  },
  {
   "cell_type": "code",
   "execution_count": null,
   "id": "da27b391",
   "metadata": {},
   "outputs": [],
   "source": [
    "df.loc[:, \"N\"]"
   ]
  },
  {
   "cell_type": "code",
   "execution_count": null,
   "id": "edb2cb84",
   "metadata": {},
   "outputs": [],
   "source": [
    "df.iloc[:, 1]"
   ]
  },
  {
   "cell_type": "code",
   "execution_count": null,
   "id": "d4c5a003",
   "metadata": {},
   "outputs": [],
   "source": [
    "df[[\"Z\",\"N\"]]"
   ]
  },
  {
   "cell_type": "markdown",
   "id": "b169067e",
   "metadata": {},
   "source": [
    "### Selecting rows"
   ]
  },
  {
   "cell_type": "code",
   "execution_count": null,
   "id": "572acd4e",
   "metadata": {
    "scrolled": true
   },
   "outputs": [],
   "source": [
    "df.loc[2:3]"
   ]
  },
  {
   "cell_type": "code",
   "execution_count": null,
   "id": "a31854f2",
   "metadata": {},
   "outputs": [],
   "source": [
    "df.iloc[2:3]"
   ]
  },
  {
   "cell_type": "markdown",
   "id": "8ddfc174",
   "metadata": {},
   "source": [
    "### Selecting a range from the table"
   ]
  },
  {
   "cell_type": "code",
   "execution_count": null,
   "id": "ce06700f",
   "metadata": {},
   "outputs": [],
   "source": [
    "df.loc[2:5, [\"Z\",\"N\",\"symbol\" ,\"radius [fm]\",\"half_life\"]]"
   ]
  },
  {
   "cell_type": "code",
   "execution_count": null,
   "id": "63b34366",
   "metadata": {},
   "outputs": [],
   "source": [
    "df.iloc[2:6, [0,1,2,3,12]]"
   ]
  },
  {
   "cell_type": "markdown",
   "id": "5f3122b5",
   "metadata": {},
   "source": [
    "### Selecting by condition"
   ]
  },
  {
   "cell_type": "code",
   "execution_count": null,
   "id": "3c355f85",
   "metadata": {
    "scrolled": true
   },
   "outputs": [],
   "source": [
    "df[df['half_life']=='STABLE'] #selecting only stable isotops"
   ]
  },
  {
   "cell_type": "code",
   "execution_count": null,
   "id": "18907996",
   "metadata": {
    "scrolled": true
   },
   "outputs": [],
   "source": [
    "df[df['symbol']=='Ra'][['symbol', 'radius [fm]',' half_life [s]']] # selecting only Ra isotops"
   ]
  },
  {
   "cell_type": "code",
   "execution_count": null,
   "id": "ba838f87",
   "metadata": {
    "scrolled": true
   },
   "outputs": [],
   "source": [
    "df[(df['half_life']=='STABLE')&(df['N']>120)] # selecting isotops that have more than 120 neutrons"
   ]
  },
  {
   "cell_type": "markdown",
   "id": "63046075",
   "metadata": {},
   "source": [
    "\n",
    "\n",
    "__Caution!__ Comparing values in ```pandas``` series works the same as in numpy arrays. For example, logical operator ```and``` can compare only two single values and cannot do element-wise comparison of the arrays. You can use ```numpy.logical_and``` or ```&``` for 1d Boolean arrays, but better use ```numpy.logical_and``` for more complex structures.\n"
   ]
  },
  {
   "cell_type": "code",
   "execution_count": null,
   "id": "c374b91a",
   "metadata": {},
   "outputs": [],
   "source": [
    "df_test[np.logical_and(df_test['radius [fm]']>1,pd.to_numeric(df_test['half_life'])>1)]"
   ]
  },
  {
   "cell_type": "code",
   "execution_count": null,
   "id": "374b6096",
   "metadata": {},
   "outputs": [],
   "source": [
    "df_test[(df_test['radius [fm]']>1)|(pd.to_numeric(df_test['half_life'])>1)]"
   ]
  },
  {
   "cell_type": "markdown",
   "id": "46e3479d",
   "metadata": {},
   "source": [
    "## Manipulating the dataframe - saving into new file, adding entries, renaming"
   ]
  },
  {
   "cell_type": "code",
   "execution_count": null,
   "id": "22ce43f3",
   "metadata": {},
   "outputs": [],
   "source": [
    "df.columns"
   ]
  },
  {
   "cell_type": "code",
   "execution_count": null,
   "id": "33f0f868",
   "metadata": {},
   "outputs": [],
   "source": [
    "df_reduced = df[['Z', 'N', 'symbol', 'radius [fm]',' abundance [mole fract.]',' half_life [s]','atomic mass [AMU * 1.E-3 ]',' discovery']]\n",
    "\n",
    "# please note, that doing df = df[[\"column1\", \"column2\", ...]] is a bad style that leads to many possible errors!"
   ]
  },
  {
   "cell_type": "code",
   "execution_count": null,
   "id": "dfc4776e",
   "metadata": {
    "scrolled": true
   },
   "outputs": [],
   "source": [
    "df_reduced"
   ]
  },
  {
   "cell_type": "markdown",
   "id": "7260c748",
   "metadata": {},
   "source": [
    "### Rename columns"
   ]
  },
  {
   "cell_type": "code",
   "execution_count": null,
   "id": "e730294c",
   "metadata": {
    "scrolled": true
   },
   "outputs": [],
   "source": [
    "df_reduced.rename({'radius [fm]': 'R_fm', ' abundance [mole fract.]': 'abund.',' half_life [s]':'tau', 'atomic mass [AMU * 1.E-3 ]':'A', ' discovery':'year'}, axis=1)"
   ]
  },
  {
   "cell_type": "markdown",
   "id": "b40a6aaf",
   "metadata": {},
   "source": [
    "```df.raname``` does not modify the original ```df```"
   ]
  },
  {
   "cell_type": "code",
   "execution_count": null,
   "id": "123eef80",
   "metadata": {
    "scrolled": true
   },
   "outputs": [],
   "source": [
    "df_reduced = df_reduced.rename({'radius [fm]': 'R_fm', ' abundance [mole fract.]': 'abund.',' half_life [s]':'tau', 'atomic mass [AMU * 1.E-3 ]':'A', ' discovery':'year'}, axis=1)"
   ]
  },
  {
   "cell_type": "code",
   "execution_count": null,
   "id": "77524934",
   "metadata": {},
   "outputs": [],
   "source": [
    "df_reduced['A'] = df_reduced['A']/1e6"
   ]
  },
  {
   "cell_type": "code",
   "execution_count": null,
   "id": "3338e3eb",
   "metadata": {
    "scrolled": true
   },
   "outputs": [],
   "source": [
    "df_reduced"
   ]
  },
  {
   "cell_type": "markdown",
   "id": "22d5f7e8",
   "metadata": {},
   "source": [
    "### Add/delete a column or raw  "
   ]
  },
  {
   "cell_type": "code",
   "execution_count": null,
   "id": "be18dfcc",
   "metadata": {},
   "outputs": [],
   "source": [
    "df_reduced['stability']=df_reduced['tau'].isnull()"
   ]
  },
  {
   "cell_type": "code",
   "execution_count": null,
   "id": "5b195b60",
   "metadata": {},
   "outputs": [],
   "source": [
    "df_reduced"
   ]
  },
  {
   "cell_type": "code",
   "execution_count": null,
   "id": "38f82d9c",
   "metadata": {},
   "outputs": [],
   "source": [
    "df_reduced['stability2']=df_reduced['tau'].isnull()"
   ]
  },
  {
   "cell_type": "code",
   "execution_count": null,
   "id": "0fe1d442",
   "metadata": {},
   "outputs": [],
   "source": [
    "# adding a row of ones at the end of the table\n",
    "df_reduced.loc[df_reduced.shape[0]] = np.ones(df_reduced.shape[1])"
   ]
  },
  {
   "cell_type": "code",
   "execution_count": null,
   "id": "ba223708",
   "metadata": {
    "scrolled": true
   },
   "outputs": [],
   "source": [
    "df_reduced"
   ]
  },
  {
   "cell_type": "code",
   "execution_count": null,
   "id": "508e014e",
   "metadata": {},
   "outputs": [],
   "source": [
    "# deleting the recentrly added row and column\n",
    "\n",
    "df_reduced=df_reduced.drop('stability2',axis=1)\n",
    "df_reduced=df_reduced.drop([df_reduced.shape[0]-1])"
   ]
  },
  {
   "cell_type": "code",
   "execution_count": null,
   "id": "673d214c",
   "metadata": {
    "scrolled": true
   },
   "outputs": [],
   "source": [
    "df_reduced"
   ]
  },
  {
   "cell_type": "markdown",
   "id": "e1726099",
   "metadata": {},
   "source": [
    "### Saving into a file"
   ]
  },
  {
   "cell_type": "code",
   "execution_count": null,
   "id": "558cdc35",
   "metadata": {},
   "outputs": [],
   "source": [
    "df_stable = df_reduced[df_reduced['stability']==1]\n",
    "df_stable.to_csv(\"stable_isotops.csv\")\n",
    "\n",
    "\n",
    "df_unstable = df_reduced[df_reduced['stability']==0]\n",
    "df_unstable.to_csv(\"unstable_isotops.csv\")\n"
   ]
  },
  {
   "cell_type": "markdown",
   "id": "4c5102af",
   "metadata": {},
   "source": [
    "## Quick analysis tools"
   ]
  },
  {
   "cell_type": "markdown",
   "id": "7381c679",
   "metadata": {},
   "source": [
    "### Histogram"
   ]
  },
  {
   "cell_type": "code",
   "execution_count": null,
   "id": "3207f5b6",
   "metadata": {},
   "outputs": [],
   "source": [
    "df_stable[\"year\"].hist()"
   ]
  },
  {
   "cell_type": "code",
   "execution_count": null,
   "id": "399b6d35",
   "metadata": {},
   "outputs": [],
   "source": [
    "df_unstable[\"year\"].hist()"
   ]
  },
  {
   "cell_type": "code",
   "execution_count": null,
   "id": "9a0ebcdd",
   "metadata": {
    "scrolled": true
   },
   "outputs": [],
   "source": [
    "# same plot, combine with matplotlib functions\n",
    "\n",
    "plt.hist(df_stable[\"year\"], bins=20)\n",
    "plt.xlabel(\"Year\")\n",
    "plt.ylabel (\"Number of discovered stable isotops\")"
   ]
  },
  {
   "cell_type": "markdown",
   "id": "b70e09ab",
   "metadata": {},
   "source": [
    "### Scatter plot"
   ]
  },
  {
   "cell_type": "code",
   "execution_count": null,
   "id": "f3ca1e60",
   "metadata": {},
   "outputs": [],
   "source": [
    "df_stable[[\"R_fm\", \"A\"]].plot.scatter(\"A\", \"R_fm\")"
   ]
  },
  {
   "cell_type": "code",
   "execution_count": null,
   "id": "430397c9",
   "metadata": {
    "scrolled": true
   },
   "outputs": [],
   "source": [
    "df_unstable[[\"R_fm\", \"A\"]].plot.scatter(\"A\", \"R_fm\")\n",
    "# plt.plot(df_unstable[\"A\"],1.2*df_unstable['A']**(1/3))\n",
    "# plt.xlim([0,50])"
   ]
  },
  {
   "cell_type": "markdown",
   "id": "57199afb",
   "metadata": {},
   "source": [
    "### Bar plot"
   ]
  },
  {
   "cell_type": "code",
   "execution_count": null,
   "id": "427509b7",
   "metadata": {},
   "outputs": [],
   "source": [
    "df_stable[df_stable['symbol']=='Fe']\n",
    "\n",
    "df_stable[df_stable['symbol']=='Fe'].plot.bar(\"N\",\"abund.\")"
   ]
  },
  {
   "cell_type": "markdown",
   "id": "ec78bb28",
   "metadata": {},
   "source": [
    "### Example 1: finding the most long-living Radium isotop"
   ]
  },
  {
   "cell_type": "code",
   "execution_count": null,
   "id": "9f084573",
   "metadata": {},
   "outputs": [],
   "source": [
    "df_unstable.describe()"
   ]
  },
  {
   "cell_type": "code",
   "execution_count": null,
   "id": "acb2255e",
   "metadata": {},
   "outputs": [],
   "source": [
    "df_radium = df_unstable[df_unstable['symbol']=='Ra']"
   ]
  },
  {
   "cell_type": "code",
   "execution_count": null,
   "id": "bc9178b8",
   "metadata": {},
   "outputs": [],
   "source": [
    "df_radium.loc[df_radium['tau'].idxmax()]"
   ]
  },
  {
   "cell_type": "markdown",
   "id": "75e6cb30",
   "metadata": {},
   "source": [
    "### Example 2: Finding only unstable elements"
   ]
  },
  {
   "cell_type": "code",
   "execution_count": null,
   "id": "ec8bc4a8",
   "metadata": {},
   "outputs": [],
   "source": [
    "df_unstable[~df_unstable['symbol'].isin(df_stable['symbol'])]"
   ]
  },
  {
   "cell_type": "markdown",
   "id": "82ef87b1",
   "metadata": {},
   "source": [
    "### Example 3: ten lagest nuclei "
   ]
  },
  {
   "cell_type": "code",
   "execution_count": null,
   "id": "a243ef6b",
   "metadata": {},
   "outputs": [],
   "source": [
    "df_unstable.sort_values(by='R_fm',na_position='first')"
   ]
  },
  {
   "cell_type": "code",
   "execution_count": null,
   "id": "20951bb2",
   "metadata": {},
   "outputs": [],
   "source": [
    "df_unstable.sort_values(by='R_fm',na_position='first').iloc[-10:]"
   ]
  },
  {
   "cell_type": "code",
   "execution_count": null,
   "id": "a41d9343",
   "metadata": {},
   "outputs": [],
   "source": []
  }
 ],
 "metadata": {
  "kernelspec": {
   "display_name": "Python 3",
   "language": "python",
   "name": "python3"
  },
  "language_info": {
   "codemirror_mode": {
    "name": "ipython",
    "version": 3
   },
   "file_extension": ".py",
   "mimetype": "text/x-python",
   "name": "python",
   "nbconvert_exporter": "python",
   "pygments_lexer": "ipython3",
   "version": "3.8.8"
  }
 },
 "nbformat": 4,
 "nbformat_minor": 5
}
