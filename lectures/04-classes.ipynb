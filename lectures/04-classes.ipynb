{
 "cells": [
  {
   "cell_type": "markdown",
   "metadata": {},
   "source": [
    "# Classes\n",
    "Or \"a short and hopefully effective introduction to object-based/oriented programming\".  "
   ]
  },
  {
   "cell_type": "markdown",
   "metadata": {},
   "source": [
    "Classes are a more hierarchical way of organizing your data *and* code. They allow you to bundle together data and functions into objects. As the examples will hopefully demonstrate, objects provide an intuitive way to model and solve problems. \n",
    "\n",
    "Classes allow you to create multiple objects with the same functionality but different data. We will also talk about inheritance, which makes it possible to extend the functionality of different objects. In both cases, this makes code more reusuable and avoids duplication, making it more maintainable.\n",
    "\n",
    "- A **class** defines the description of an **object**.\n",
    "- An object of a given class is called an ***instance*** of the class.\n",
    "- An object contains data (attributes) and the class specific functions that can make use of such data (methods).\n",
    "\n",
    "This notebook takes several examples from this tutorial: https://realpython.com/python-classes/#getting-started-with-python-classes."
   ]
  },
  {
   "cell_type": "code",
   "execution_count": null,
   "metadata": {},
   "outputs": [],
   "source": [
    "import math\n",
    "\n",
    "class Circle:\n",
    "    def __init__(self, radius):\n",
    "        self.radius = radius\n",
    "\n",
    "    def calculate_area(self):\n",
    "        return round(math.pi * self.radius ** 2, 2)"
   ]
  },
  {
   "cell_type": "markdown",
   "metadata": {},
   "source": [
    "The `class` keyword signals that we are defining a class. The `__init__` method should be part of every class, it is the ***initializer*** which defines the class attributes and sets their initial values. "
   ]
  },
  {
   "cell_type": "code",
   "execution_count": null,
   "metadata": {},
   "outputs": [],
   "source": [
    "circle_1 = Circle(42)\n",
    "circle_2 = Circle(7)\n",
    "\n",
    "print(circle_1)\n",
    "print(circle_2)"
   ]
  },
  {
   "cell_type": "markdown",
   "metadata": {},
   "source": [
    "`Circle()` with a value for the radius is a ***class constructor***. This allows us to make a Circle object. Note that we will get an error if we try to make a Circle object without a value for the radius."
   ]
  },
  {
   "cell_type": "code",
   "execution_count": null,
   "metadata": {},
   "outputs": [],
   "source": [
    "circle_3 = Circle()"
   ]
  },
  {
   "cell_type": "markdown",
   "metadata": {},
   "source": [
    "As with functions last week, it is possible to set a default value for expected arguments."
   ]
  },
  {
   "cell_type": "code",
   "execution_count": null,
   "metadata": {},
   "outputs": [],
   "source": [
    "import math\n",
    "\n",
    "class Circle:\n",
    "    def __init__(self, radius=1):\n",
    "        self.radius = radius\n",
    "\n",
    "    def calculate_area(self):\n",
    "        return round(math.pi * self.radius ** 2, 2)\n",
    "\n",
    "circle_3 = Circle()\n",
    "print(circle_3)"
   ]
  },
  {
   "cell_type": "markdown",
   "metadata": {},
   "source": [
    "We can access attributes of an object with the `.` operator."
   ]
  },
  {
   "cell_type": "code",
   "execution_count": null,
   "metadata": {},
   "outputs": [],
   "source": [
    "print(f\"Radius of circle 1: {circle_1.radius}\")\n",
    "print(f\"Radius of circle 2: {circle_2.radius}\")\n",
    "print(f\"Radius of circle 3: {circle_3.radius}\")"
   ]
  },
  {
   "cell_type": "markdown",
   "metadata": {},
   "source": [
    "It is even possible to change the values of the attributes using the `.` operator."
   ]
  },
  {
   "cell_type": "code",
   "execution_count": null,
   "metadata": {},
   "outputs": [],
   "source": [
    "circle_3.radius = 10\n",
    "print(f\"Radius of circle 3: {circle_3.radius}\")"
   ]
  },
  {
   "cell_type": "markdown",
   "metadata": {},
   "source": [
    "We've also defined a ***method*** in the `Circle` class, called `calculate_area`. What is difference between a method and a function? When would you use a method instead of a function, and vice versa?\n",
    "\n",
    "We can call methods via the `.` operator."
   ]
  },
  {
   "cell_type": "code",
   "execution_count": null,
   "metadata": {},
   "outputs": [],
   "source": [
    "print(f\"Area of circle 1: {circle_1.calculate_area()}\")"
   ]
  },
  {
   "cell_type": "markdown",
   "metadata": {},
   "source": [
    "This is in contrast to other object-oriented languages (C++, Java), where direct access to attributes is usually not permitted unless explicitly declared.\n",
    "\n",
    "As we'll see shortly, we often prefer to hide the inner details of how a class works, and exposing to the user a so-called *interface*, i.e. a set of functions (methods) that allows the user to interact with the object.\n",
    "\n",
    "You'll notice that the method `__calculate_area__` has `self` as its first argument. We'll discuss this more with ***instance methods***."
   ]
  },
  {
   "cell_type": "markdown",
   "metadata": {},
   "source": [
    "### Class attributes versus instance attributes"
   ]
  },
  {
   "cell_type": "code",
   "execution_count": null,
   "metadata": {},
   "outputs": [],
   "source": [
    "import math\n",
    "\n",
    "class Circle:\n",
    "    num_instances = 0\n",
    "    def __init__(self, radius=1):\n",
    "        self.radius = radius\n",
    "        Circle.num_instances += 1"
   ]
  },
  {
   "cell_type": "markdown",
   "metadata": {},
   "source": [
    "Here `num_instances` is an example of a class attribute."
   ]
  },
  {
   "cell_type": "code",
   "execution_count": null,
   "metadata": {},
   "outputs": [],
   "source": [
    "print(\"We haven't made an instance of a circle yet...\")\n",
    "print(f\"Number of circle instances: {Circle.num_instances}\")\n",
    "print(\"Now we make one circle...\")\n",
    "circle_1 = Circle(42)\n",
    "print(f\"Number of circle instances: {Circle.num_instances}\")\n",
    "print(\"Now we make a second circle...\")\n",
    "circle_2 = Circle(7)\n",
    "print(f\"Number of circle instances: {Circle.num_instances}\")"
   ]
  },
  {
   "cell_type": "markdown",
   "metadata": {},
   "source": [
    "A better way to code this is using the built-in `type()` function."
   ]
  },
  {
   "cell_type": "code",
   "execution_count": null,
   "metadata": {},
   "outputs": [],
   "source": [
    "import math\n",
    "\n",
    "class Circle:\n",
    "    num_instances = 0\n",
    "    def __init__(self, radius=1):\n",
    "        self.radius = radius\n",
    "        type(self).num_instances += 1"
   ]
  },
  {
   "cell_type": "code",
   "execution_count": null,
   "metadata": {},
   "outputs": [],
   "source": [
    "print(\"We haven't made an instance of a circle yet...\")\n",
    "print(f\"Number of circle instances: {Circle.num_instances}\")\n",
    "print(\"Now we make one circle...\")\n",
    "circle_1 = Circle(42)\n",
    "print(f\"Number of circle instances: {Circle.num_instances}\")\n",
    "print(\"Now we make a second circle...\")\n",
    "circle_2 = Circle(7)\n",
    "print(f\"Number of circle instances: {Circle.num_instances}\")"
   ]
  },
  {
   "cell_type": "markdown",
   "metadata": {},
   "source": [
    "This behaves identically, but avoids hard-coding the class name.\n",
    "\n",
    "Note that we can access `num_instances` via the instances of the class."
   ]
  },
  {
   "cell_type": "code",
   "execution_count": null,
   "metadata": {},
   "outputs": [],
   "source": [
    "print(circle_1.num_instances)\n",
    "print(circle_2.num_instances)"
   ]
  },
  {
   "cell_type": "markdown",
   "metadata": {},
   "source": [
    "`radius`, on the other had, is an example of an instance attribute, and can only be accessed for instances of the class."
   ]
  },
  {
   "cell_type": "code",
   "execution_count": null,
   "metadata": {},
   "outputs": [],
   "source": [
    "print(f\"Circle radius: {Circle.radius}\")"
   ]
  },
  {
   "cell_type": "markdown",
   "metadata": {},
   "source": [
    "You may also want to include instance attributes whose values are not defined by the user. In this case, the value should be set in the `__init__` method."
   ]
  },
  {
   "cell_type": "code",
   "execution_count": null,
   "metadata": {},
   "outputs": [],
   "source": [
    "import math\n",
    "\n",
    "class Circle:\n",
    "    def __init__(self, radius):\n",
    "        self.radius = radius\n",
    "        self.color = \"blue\""
   ]
  },
  {
   "cell_type": "code",
   "execution_count": null,
   "metadata": {},
   "outputs": [],
   "source": [
    "circle_1 = Circle(13)\n",
    "print(f\"Circle radius: {circle_1.radius}\")\n",
    "print(f\"Circle color: {circle_1.color}\")"
   ]
  },
  {
   "cell_type": "markdown",
   "metadata": {},
   "source": [
    "### Property attributes and setter functions"
   ]
  },
  {
   "cell_type": "markdown",
   "metadata": {},
   "source": [
    "You can use the `@property` and `@attribute_name.setter` decorators define property attributes and a *getter* method, as well as a *setter* method. This is handy for adding some function-like behavior related to an attribute, for example, if you want to insist that an attribute has a range of valid values."
   ]
  },
  {
   "cell_type": "code",
   "execution_count": null,
   "metadata": {},
   "outputs": [],
   "source": [
    "import math\n",
    "\n",
    "class Circle:\n",
    "    def __init__(self, radius):\n",
    "        self.radius = radius\n",
    "\n",
    "    @property\n",
    "    def radius(self):\n",
    "        return self._radius\n",
    "\n",
    "    @radius.setter\n",
    "    def radius(self, value):\n",
    "        if not isinstance(value, int | float) or value <= 0:\n",
    "            raise ValueError(\"positive number expected\")\n",
    "        self._radius = value\n",
    "\n",
    "    def calculate_area(self):\n",
    "        return round(math.pi * self._radius**2, 2)"
   ]
  },
  {
   "cell_type": "code",
   "execution_count": null,
   "metadata": {},
   "outputs": [],
   "source": [
    "circle_1 = Circle(100)\n",
    "circle_1.radius"
   ]
  },
  {
   "cell_type": "code",
   "execution_count": null,
   "metadata": {},
   "outputs": [],
   "source": [
    "circle_2 = Circle(0)"
   ]
  },
  {
   "cell_type": "markdown",
   "metadata": {},
   "source": [
    "Now suppose we want a similar shape class, for making a square."
   ]
  },
  {
   "cell_type": "code",
   "execution_count": null,
   "metadata": {},
   "outputs": [],
   "source": [
    "class Square:\n",
    "    def __init__(self, side):\n",
    "        self.side = side\n",
    "\n",
    "    @property\n",
    "    def side(self):\n",
    "        return self._side\n",
    "\n",
    "    @side.setter\n",
    "    def side(self, value):\n",
    "        if not isinstance(value, int | float) or value <= 0:\n",
    "            raise ValueError(\"positive number expected\")\n",
    "        self._side = value\n",
    "\n",
    "    def calculate_area(self):\n",
    "        return round(self._side**2, 2)"
   ]
  },
  {
   "cell_type": "markdown",
   "metadata": {},
   "source": [
    "This starts to be repetitive with the code in the `Circle` class. How can we rewrite it to be less repetitive?"
   ]
  },
  {
   "cell_type": "code",
   "execution_count": null,
   "metadata": {},
   "outputs": [],
   "source": [
    "import math\n",
    "\n",
    "class PositiveNumber:\n",
    "    def __set_name__(self, owner, name):\n",
    "        self._name = name\n",
    "\n",
    "    def __get__(self, instance, owner):\n",
    "        return instance.__dict__[self._name]\n",
    "\n",
    "    def __set__(self, instance, value):\n",
    "        if not isinstance(value, int | float) or value <= 0:\n",
    "            raise ValueError(\"positive number expected\")\n",
    "        instance.__dict__[self._name] = value\n",
    "\n",
    "class Circle:\n",
    "    radius = PositiveNumber()\n",
    "\n",
    "    def __init__(self, radius):\n",
    "        self.radius = radius\n",
    "\n",
    "    def calculate_area(self):\n",
    "        return round(math.pi * self.radius**2, 2)\n",
    "\n",
    "class Square:\n",
    "    side = PositiveNumber()\n",
    "\n",
    "    def __init__(self, side):\n",
    "        self.side = side\n",
    "\n",
    "    def calculate_area(self):\n",
    "        return round(self.side**2, 2)"
   ]
  },
  {
   "cell_type": "code",
   "execution_count": null,
   "metadata": {},
   "outputs": [],
   "source": [
    "circle = Circle(100)\n",
    "circle.radius"
   ]
  },
  {
   "cell_type": "code",
   "execution_count": null,
   "metadata": {},
   "outputs": [],
   "source": [
    "circle = Circle(0)"
   ]
  },
  {
   "cell_type": "code",
   "execution_count": null,
   "metadata": {},
   "outputs": [],
   "source": [
    "square = Square(100)\n",
    "square.side"
   ]
  },
  {
   "cell_type": "code",
   "execution_count": null,
   "metadata": {},
   "outputs": [],
   "source": [
    "square = Square(0)"
   ]
  },
  {
   "cell_type": "markdown",
   "metadata": {},
   "source": [
    "### Naming: public versus non-public members"
   ]
  },
  {
   "cell_type": "markdown",
   "metadata": {},
   "source": [
    "In e.g. C++, attributes and methods associated with a class can have different access options, private (not accessible outside the class, public (accessible outside the class), and protected (not accessible outside the class, but can be inherited). These options do not exist in python, but there are some naming conventions to indicate how members ***should*** be used.\n",
    "\n",
    "`radius`, `calculate_area` indicate public members\n",
    "\n",
    "`_radius`, `_calculate_area` indicate non-public members"
   ]
  },
  {
   "cell_type": "markdown",
   "metadata": {},
   "source": [
    "## Example from previous weeks\n",
    "We will use last week's example to show how to re-organise our code in classes."
   ]
  },
  {
   "cell_type": "code",
   "execution_count": null,
   "metadata": {},
   "outputs": [],
   "source": [
    "names = [\"NGC 5128\", \"TXS 0506+056\", \"NGC 1068\", \"GB6 J1040+0617\", \"TXS 2226-184\"]\n",
    "distances = [3.7, 1.75e3, 14.4, 1.51e4, 107.1]  # Mpc\n",
    "luminosities = [1e40, 3e46, 4.9e38, 6.2e45, 5.5e41] # erg/s"
   ]
  },
  {
   "cell_type": "code",
   "execution_count": null,
   "metadata": {},
   "outputs": [],
   "source": [
    "class Source:\n",
    "    default_distance_unit = 'Mpc'\n",
    "    default_luminosity_unit = 'erg.s-1'\n",
    "\n",
    "    def __init__(self, name, distance, luminosity):\n",
    "        self.name = name\n",
    "        self.distance = distance\n",
    "        self.luminosity = luminosity"
   ]
  },
  {
   "cell_type": "code",
   "execution_count": null,
   "metadata": {},
   "outputs": [],
   "source": [
    "def load_sources():\n",
    "    sources = []\n",
    "    for n, d, l in zip(names, distances, luminosities):\n",
    "        s = Source(n, d, l)\n",
    "        sources.append(s)\n",
    "    return sources\n",
    "\n",
    "sources = load_sources()"
   ]
  },
  {
   "cell_type": "markdown",
   "metadata": {},
   "source": [
    "We have now built a new list. This list does not contain our \"raw\" information anymore. "
   ]
  },
  {
   "cell_type": "code",
   "execution_count": null,
   "metadata": {},
   "outputs": [],
   "source": [
    "s = sources[0]"
   ]
  },
  {
   "cell_type": "code",
   "execution_count": null,
   "metadata": {},
   "outputs": [],
   "source": [
    "print(s.name, s.distance, s.luminosity)"
   ]
  },
  {
   "cell_type": "markdown",
   "metadata": {},
   "source": [
    "As mentioned before, we may prefer to have the user interact with the object and object attributes via an interface, rather than accessing attributes directly via the `.` operator."
   ]
  },
  {
   "cell_type": "code",
   "execution_count": null,
   "metadata": {},
   "outputs": [],
   "source": [
    "class Source:\n",
    "    default_distance_unit = 'Mpc'\n",
    "    default_luminosity_unit = 'erg.s-1'\n",
    "\n",
    "    def __init__(self, name, distance, luminosity):\n",
    "        self.name = name\n",
    "        self.distance = distance\n",
    "        self.luminosity = luminosity\n",
    "        self.detected = False\n",
    "\n",
    "    # ====================\n",
    "\n",
    "    def get_name(self):\n",
    "        return self.name\n",
    "\n",
    "    def get_distance(self, unit=Source.default_distance_unit):\n",
    "        if unit == Source.default_distance_unit:\n",
    "            return self.distance\n",
    "        elif unit == 'ly':\n",
    "            return self.distance * 3.26156e6\n",
    "        else:\n",
    "            return None\n",
    "\n",
    "    def get_luminosity(self):\n",
    "        return self.luminosity\n",
    "\n",
    "    # ====================\n",
    "\n",
    "    def is_detected(self):\n",
    "        return self.detected\n",
    "\n",
    "    # ====================\n",
    "\n",
    "    def set_detected(self, detected):\n",
    "        self.is_detected = detected\n",
    "\n",
    "    \"\"\"\n",
    "    def set_name(self, name):\n",
    "        self.name = name\n",
    "\n",
    "    def set_distance(self, distance):\n",
    "        self.distance = distance\n",
    "\n",
    "    def set_luminosity(self, luminosity):\n",
    "        self.luminosity = luminosity\n",
    "    \"\"\""
   ]
  },
  {
   "cell_type": "markdown",
   "metadata": {},
   "source": [
    "Even without the decorators that we saw above, we can add an interface of *setter methods* and *getter methods*.\n",
    "- Getter methods are useful because allow you to establish a layer of *abstraction* between the inner representation of the class data and the way this information is accessed!\n",
    "- Do you always need a getter method for all attributes? Not necessarily, but it can be a choice that pays off as your code grows more complex. Remember: methods (functions) are much more easily documented than individual attributes!\n",
    "- Setter methods may be useful... or not. Some attributes may need to be modified *after* the object creations, other should be better \n",
    "- There is no way to ensure the immutability of an attribute, but setter methods are a good way to let the user know what should be and what should not be touched!\n"
   ]
  },
  {
   "cell_type": "code",
   "execution_count": null,
   "metadata": {},
   "outputs": [],
   "source": [
    "sources = load_sources()\n",
    "\n",
    "s = sources[0]\n",
    "\n",
    "print(f\"{s.name} is {s.get_distance()} Mpc or {s.get_distance(unit='ly')} light years away\")"
   ]
  },
  {
   "cell_type": "markdown",
   "metadata": {},
   "source": [
    "### Instance, class method and static methods\n",
    "\n",
    "Instance methods take the current instance of the class as their first argument, `self`. `__init__` is an example of an instance method. Instance methods are heavily used in python. Note that `self` is not a keyword (you could use another name and get the same behavior), but it is a strong convention.\n",
    "\n",
    "Class methods take the class, `cls`, as their first argument. Like with `self`, `cls` is not a keyword but a strong convention.\n",
    "\n",
    "Static methods do not take the current instance or the class as arguments. They could be defined as normal functions outside of the class, but are useful for packaging the function together with the class.\n",
    "\n",
    "Class and static methods are indicated with the decorators `@classmethod` and `@staticmethod`. "
   ]
  },
  {
   "cell_type": "code",
   "execution_count": null,
   "metadata": {},
   "outputs": [],
   "source": [
    "import math\n",
    "\n",
    "class Source:\n",
    "    default_distance_unit = 'Mpc'\n",
    "    default_luminosity_unit = 'erg.s-1'\n",
    "\n",
    "    @staticmethod\n",
    "    def luminosity_to_flux(luminosity, distance):\n",
    "        \"\"\" convert luminosity to flux \"\"\"\n",
    "        return luminosity * 4 * math.pi * distance**2\n",
    "\n",
    "    @classmethod\n",
    "    def convert_distance(cls, distance, to_unit):\n",
    "        \"\"\" convert a distance from the default unit of the class to another tabulated unit \"\"\" \n",
    "        conversion_factors = { cls.default_distance_unit : 1.0, 'ly' : 3.26156e6 }\n",
    "        return distance * conversion_factors[to_unit]\n",
    "\n",
    "\n",
    "\n",
    "    def __init__(self, name, distance, luminosity):\n",
    "        self.name = name\n",
    "        self.distance = distance\n",
    "        self.luminosity = luminosity\n",
    "        self.detected = False\n",
    "\n",
    "    # ====================\n",
    "\n",
    "    def get_name(self):\n",
    "        return self.name\n",
    "\n",
    "    def get_distance(self, unit=Source.default_distance_unit):\n",
    "        return self.convert_distance(self.distance, unit)\n",
    "\n",
    "    def get_luminosity(self):\n",
    "        return self.luminosity\n",
    "\n",
    "    # ====================\n",
    "\n",
    "    def is_detected(self):\n",
    "        return self.detected\n",
    "\n",
    "    # ====================\n",
    "\n",
    "    def set_detected(self, detected):\n",
    "        self.is_detected = detected\n"
   ]
  },
  {
   "cell_type": "code",
   "execution_count": null,
   "metadata": {},
   "outputs": [],
   "source": [
    "sources = load_sources()\n",
    "\n",
    "s = sources[0]\n",
    "\n",
    "s.get_distance('ly')"
   ]
  },
  {
   "cell_type": "markdown",
   "metadata": {},
   "source": [
    "As mentioned before, both `self` and `cls` are conventional but arbitrary names.\n",
    "- Instance methods are always passed the object itself as first (implicit) argument\n",
    "- Class methods are always passed the class itself as first (implicit) argument"
   ]
  },
  {
   "cell_type": "code",
   "execution_count": null,
   "metadata": {},
   "outputs": [],
   "source": [
    "class DummyClass:\n",
    "    def __init__(self):\n",
    "        pass\n",
    "\n",
    "    @staticmethod\n",
    "    def dummy_static_method(*args):\n",
    "        print(args)\n",
    "\n",
    "    @classmethod\n",
    "    def dummy_class_method(*args):\n",
    "        print(args)\n",
    "\n",
    "    def dummy_method(*args):\n",
    "        print(args)\n",
    "\n",
    "dummy = DummyClass()\n",
    "\n",
    "dummy.dummy_static_method(\"foo\")\n",
    "dummy.dummy_class_method(\"foo\")\n",
    "dummy.dummy_method(\"foo\")"
   ]
  },
  {
   "cell_type": "markdown",
   "metadata": {},
   "source": [
    "## Inheritance and composition\n",
    "- Classes can be extended by other classes (inheritance), or contain objects of other classes (composition).\n",
    "- Sometimes is not clear which one to use: think in terms if \"is a\" (inheritance) vs \"has a\" (composition)! \n",
    "\n",
    "Inheritance has a hierarchical structure, the base classes that are inherited from tend to be much more abstract than the specific classes that inherit from the base classes. The classes at the top of the hierarchy can be referred to as base classes, superclasses, or parent classes. The classes inheriting from the top-level classes can be referred to as derived classes, subclasses, or child classes.\n",
    "\n",
    "Inheritance only goes in one direction, subclasses inherit from base classes, not vice versa!"
   ]
  },
  {
   "cell_type": "code",
   "execution_count": null,
   "metadata": {},
   "outputs": [],
   "source": [
    "class Galaxy(Source): # inherits from Source\n",
    "    def __init__(self, name, distance, luminosity, galaxy_type):\n",
    "        super().__init__(name, distance, luminosity)\n",
    "        self.galaxy_type = galaxy_type\n",
    "\n",
    "class Supernova(Source): # inherits from Source\n",
    "    def __init__(self, name, distance, luminosity, duration, host_galaxy):\n",
    "        super().__init__(name, distance, luminosity)\n",
    "        self.duration = duration\n",
    "        self.host_galaxy = host_galaxy"
   ]
  },
  {
   "cell_type": "markdown",
   "metadata": {},
   "source": [
    "The derived classes inherit the name, distance, and luminosity attributes from the base class, but then add on additional, specialized attributes (galaxy type in the first class, and duration and host galaxy in the second).\n",
    "\n",
    "`super()` is a built-in function that calls the `.__init__()` method of the base class. Note that the values of the attributes need to be passed in!"
   ]
  },
  {
   "cell_type": "code",
   "execution_count": null,
   "metadata": {},
   "outputs": [],
   "source": [
    "LMC = Galaxy(\"LMC\", 0.05, None, \"satellite\")\n",
    "\n",
    "SN = Supernova(\"SN1987A\", 0.05, 1e42, duration=150, host_galaxy=LMC)"
   ]
  },
  {
   "cell_type": "markdown",
   "metadata": {},
   "source": [
    "Composition combines together components to make more complicated objects. Here's a very abstract example."
   ]
  },
  {
   "cell_type": "code",
   "execution_count": null,
   "metadata": {},
   "outputs": [],
   "source": [
    "class Component: \n",
    "  \n",
    "   # composite class constructor \n",
    "    def __init__(self): \n",
    "        print('Component class object created...') \n",
    "  \n",
    "    # composite class instance method \n",
    "    def component_method(self): \n",
    "        print('Component class method component_method() executed...') \n",
    "  \n",
    "  \n",
    "class Composite: \n",
    "  \n",
    "    # composite class constructor \n",
    "    def __init__(self): \n",
    "  \n",
    "        # creating object of component class \n",
    "        self.composite_object = Component() \n",
    "          \n",
    "        print('Composite class object also created...') \n",
    "  \n",
    "     # composite class instance method \n",
    "    def composite_method(self): \n",
    "        \n",
    "        print('Composite class method composite_method() executed...') \n",
    "  \n",
    "        # calling component_method() method of component class \n",
    "        self.composite_object.component_method() \n",
    "  \n",
    "  \n",
    "# creating object of composite class \n",
    "compobj = Composite() \n",
    "  \n",
    "# calling composite_method() method of composite class \n",
    "compobj.composite_method() "
   ]
  },
  {
   "cell_type": "markdown",
   "metadata": {},
   "source": [
    "How do you decide when to use inheritance and when to use composition? \n",
    "\n",
    "\"Inheritance is used where a class wants to derive the nature of parent class and then modify or extend the functionality of it. Inheritance will extend the functionality with extra features allows overriding of methods, but in the case of Composition, we can only use that class we can not modify or extend the functionality of it. It will not provide extra features. Thus, when one needs to use the class as it without any modification, the composition is recommended and when one needs to change the behavior of the method in another class, then inheritance is recommended.\" (https://www.geeksforgeeks.org/inheritance-and-composition-in-python/)"
   ]
  },
  {
   "cell_type": "markdown",
   "metadata": {},
   "source": [
    "## Polymorphism"
   ]
  },
  {
   "cell_type": "code",
   "execution_count": null,
   "metadata": {},
   "outputs": [],
   "source": [
    "message = \"Hello!\"\n",
    "numbers = [1, 2, 3]\n",
    "letters = (\"A\", \"B\", \"C\")"
   ]
  },
  {
   "cell_type": "code",
   "execution_count": null,
   "metadata": {},
   "outputs": [],
   "source": [
    "print(f\"Length of a string: {len(message)}\")\n",
    "print(f\"Length of a list: {len(numbers)}\")\n",
    "print(f\"Length of a tuple: {len(letters)}\")"
   ]
  },
  {
   "cell_type": "markdown",
   "metadata": {},
   "source": [
    "It is possible to use `len()` on three different types of objects, because all of them have an implementation of this function."
   ]
  },
  {
   "cell_type": "markdown",
   "metadata": {},
   "source": [
    "## Final notes on methods\n",
    "### Factory methods\n",
    "- Sometimes, a single constructor is not enough. You may want to create an object from different type of inputs.\n",
    "- Unfortunately, python does not allow to specify multiple versions of a method with different arguments (overloading).\n",
    "- The common paradigm is to use a single `__init__` and define *factory* methods as class methods, that act as interfaces to the constructor.\n",
    "\n",
    "### Special methods\n",
    "- `__repr__` and `__str__` controls how the object will appear when inspected and printed!\n",
    "- `__call__` allows the object to be used as a function!\n",
    "- `__eq__` will define how the `==` operator works between two objects of the same class (also possible for all comparison operators, as well as arithmetics (`__add__`)...\n",
    "\n",
    "See https://docs.python.org/3/reference/datamodel.html for cool stuff!"
   ]
  },
  {
   "cell_type": "code",
   "execution_count": null,
   "metadata": {},
   "outputs": [],
   "source": [
    "class Source:\n",
    "    default_distance_unit = 'Mpc'\n",
    "    default_luminosity_unit = 'erg.s-1'\n",
    "\n",
    "    @staticmethod\n",
    "    def luminosity_to_flux(luminosity, distance):\n",
    "        \"\"\" convert luminosity to flux \"\"\"\n",
    "        return luminosity * 4 * math.pi * distance**2\n",
    "\n",
    "    @classmethod\n",
    "    def convert_distance(cls, distance, to_unit):\n",
    "        \"\"\" convert a distance from the default unit of the class to another tabulated unit \"\"\" \n",
    "        conversion_factors = { cls.default_distance_unit : 1.0, 'ly' : 3.26156e6 }\n",
    "        return distance * conversion_factors[to_unit]\n",
    "\n",
    "    @classmethod\n",
    "    def from_dict(cls, d):\n",
    "        return cls(d['name'], d['distance'], d['luminosity'])\n",
    "\n",
    "    def __init__(self, name, distance, luminosity):\n",
    "        self.name = name\n",
    "        self.distance = distance\n",
    "        self.luminosity = luminosity\n",
    "        self.detected = False\n",
    "\n",
    "    # ====================\n",
    "\n",
    "    def get_name(self):\n",
    "        return self.name\n",
    "\n",
    "    def get_distance(self, unit=Source.default_distance_unit):\n",
    "        return self.convert_distance(self.distance, unit)\n",
    "\n",
    "    def get_luminosity(self):\n",
    "        return self.luminosity\n",
    "\n",
    "    # ====================\n",
    "\n",
    "    def is_detected(self):\n",
    "        return self.detected\n",
    "\n",
    "    # ====================\n",
    "\n",
    "    def set_detected(self, detected):\n",
    "        self.is_detected = detected\n",
    "\n",
    "    def __repr__(self):\n",
    "        return 'Source {0} @ {1} {2}'.format(self.name, self.distance, self.default_distance_unit)\n",
    "\n",
    "    def __str__(self):\n",
    "        return \"This is a source object with name {0}, distance {1}, luminosity {2}\".format(self.name, self.distance, self.luminosity)"
   ]
  },
  {
   "cell_type": "code",
   "execution_count": null,
   "metadata": {},
   "outputs": [],
   "source": [
    "d = { 'name': 'SN1987A', 'distance' :  0.05, 'luminosity': 1e42} \n",
    "\n",
    "SN = Source.from_dict(d)\n",
    "\n",
    "print(SN)"
   ]
  },
  {
   "cell_type": "code",
   "execution_count": null,
   "metadata": {},
   "outputs": [],
   "source": [
    "SN"
   ]
  },
  {
   "cell_type": "markdown",
   "metadata": {},
   "source": [
    "## When should you not use classes?"
   ]
  },
  {
   "cell_type": "markdown",
   "metadata": {},
   "source": [
    "Classes combine data and functionality. If you are only interested in storing data, or only interested in a particular functionality, you don't need a class. You can stick to containers for data storage, and to normal functions for implementing a behavior."
   ]
  }
 ],
 "metadata": {
  "kernelspec": {
   "display_name": "Python 3 (ipykernel)",
   "language": "python",
   "name": "python3"
  },
  "language_info": {
   "codemirror_mode": {
    "name": "ipython",
    "version": 3
   },
   "file_extension": ".py",
   "mimetype": "text/x-python",
   "name": "python",
   "nbconvert_exporter": "python",
   "pygments_lexer": "ipython3",
   "version": "3.11.4"
  },
  "vscode": {
   "interpreter": {
    "hash": "a27840a7b1c12ed5c4097e0c82ce74f146693c21815a51f33b43828b75394333"
   }
  }
 },
 "nbformat": 4,
 "nbformat_minor": 4
}
