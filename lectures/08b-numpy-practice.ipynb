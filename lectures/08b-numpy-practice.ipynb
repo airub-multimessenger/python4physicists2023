{
 "cells": [
  {
   "cell_type": "markdown",
   "id": "7c459035-29c3-4b17-80df-cee6eb7febd6",
   "metadata": {},
   "source": [
    "# Wrap-up numpy arrays"
   ]
  },
  {
   "cell_type": "markdown",
   "id": "64addb07-075a-40bb-ad9e-109507a0a37a",
   "metadata": {},
   "source": [
    "## Concatenating arrays in multiple dimensions\n",
    "Let's take two 2D arrays:"
   ]
  },
  {
   "cell_type": "code",
   "execution_count": 1,
   "id": "5f8469bb-01d1-4747-9287-98247b8c215e",
   "metadata": {},
   "outputs": [
    {
     "name": "stdout",
     "output_type": "stream",
     "text": [
      "[[ 0  1  2]\n",
      " [ 3  4  5]\n",
      " [ 6  7  8]\n",
      " [ 9 10 11]\n",
      " [12 13 14]]\n",
      "[[  0  10  20]\n",
      " [ 30  40  50]\n",
      " [ 60  70  80]\n",
      " [ 90 100 110]\n",
      " [120 130 140]]\n",
      "(5, 3) (5, 3)\n"
     ]
    }
   ],
   "source": [
    "import numpy as np\n",
    "\n",
    "arr1 = np.arange(15).reshape(5,3)\n",
    "arr2 = arr1 * 10\n",
    "print(arr1)\n",
    "print(arr2)\n",
    "print(arr1.shape, arr2.shape)"
   ]
  },
  {
   "cell_type": "markdown",
   "id": "8e332c82-b66a-4740-a7a7-855fe556bcc8",
   "metadata": {},
   "source": [
    "By default, concatenation happens along the first dimension (i.e. axis 0):"
   ]
  },
  {
   "cell_type": "code",
   "execution_count": 2,
   "id": "5bd24fd6-da08-46ee-8911-461070c291e5",
   "metadata": {},
   "outputs": [
    {
     "name": "stdout",
     "output_type": "stream",
     "text": [
      "[[  0   1   2]\n",
      " [  3   4   5]\n",
      " [  6   7   8]\n",
      " [  9  10  11]\n",
      " [ 12  13  14]\n",
      " [  0  10  20]\n",
      " [ 30  40  50]\n",
      " [ 60  70  80]\n",
      " [ 90 100 110]\n",
      " [120 130 140]]\n",
      "(10, 3)\n"
     ]
    }
   ],
   "source": [
    "conc1 = np.concatenate([arr1, arr2]) # same as passing axis=0\n",
    "print(conc1)\n",
    "print(conc1.shape)"
   ]
  },
  {
   "cell_type": "markdown",
   "id": "385c42ca-14fd-4765-b975-10fccd6bc47e",
   "metadata": {},
   "source": [
    "To concatenate arrays along other axes, you can specify axis parameter, which tells the function the axis along which you want to concatenate the arrays:"
   ]
  },
  {
   "cell_type": "code",
   "execution_count": 3,
   "id": "dde6a1da-973c-4d3a-8dfe-cf5ed8c08f87",
   "metadata": {},
   "outputs": [
    {
     "name": "stdout",
     "output_type": "stream",
     "text": [
      "[[  0   1   2   0  10  20]\n",
      " [  3   4   5  30  40  50]\n",
      " [  6   7   8  60  70  80]\n",
      " [  9  10  11  90 100 110]\n",
      " [ 12  13  14 120 130 140]]\n"
     ]
    }
   ],
   "source": [
    "conc2 = np.concatenate([arr1, arr2], axis=1)\n",
    "print(conc2)"
   ]
  },
  {
   "cell_type": "markdown",
   "id": "4df51965-9ac0-4489-98ea-4576c75787bc",
   "metadata": {},
   "source": [
    "Think-pair-share: which of these 2 operations leads to an error?"
   ]
  },
  {
   "cell_type": "code",
   "execution_count": 8,
   "id": "8ff04d97-dda3-4683-8a37-5e3f38ad7ce0",
   "metadata": {},
   "outputs": [
    {
     "name": "stdout",
     "output_type": "stream",
     "text": [
      "(5, 3) (5, 2)\n",
      "[[ 0  1  2]\n",
      " [ 3  4  5]\n",
      " [ 6  7  8]\n",
      " [ 9 10 11]\n",
      " [12 13 14]]\n",
      "[[0 1]\n",
      " [2 3]\n",
      " [4 5]\n",
      " [6 7]\n",
      " [8 9]]\n"
     ]
    }
   ],
   "source": [
    "arr15 = np.arange(15).reshape(5,3)\n",
    "arr10 = np.arange(10).reshape(5,2)\n",
    "print(arr15.shape, arr10.shape)\n",
    "print(arr15)\n",
    "print(arr10)\n",
    "\n",
    "## This:\n",
    "# np.concatenate((arr15, arr10), axis=0)\n",
    "## or this:\n",
    "# np.concatenate((arr15, arr10), axis=1)"
   ]
  },
  {
   "cell_type": "markdown",
   "id": "5b5dada8-e620-4510-8792-6b2889b2200b",
   "metadata": {},
   "source": [
    "Multiplying matrices of different shapes"
   ]
  },
  {
   "cell_type": "code",
   "execution_count": 5,
   "id": "ce7f55b6-80f3-4971-9f25-eb9d3650ea98",
   "metadata": {},
   "outputs": [
    {
     "name": "stdout",
     "output_type": "stream",
     "text": [
      "[[ 0  1  2  3  4  5  6  7  8  9]\n",
      " [10 11 12 13 14 15 16 17 18 19]]\n",
      "[0 1 2 3 4 5 6 7 8 9]\n",
      "[0 1]\n"
     ]
    }
   ],
   "source": [
    "mat1 = np.arange(20).reshape(2,10)\n",
    "vec1 = np.arange(10)\n",
    "vec2 = np.arange(2)\n",
    "\n",
    "print(mat1)\n",
    "print(vec1)\n",
    "print(vec2)"
   ]
  },
  {
   "cell_type": "markdown",
   "id": "22e1f10e-e9b7-4410-9443-5d916ca43424",
   "metadata": {},
   "source": [
    "Here, the vector has to have the same size as the last dimension of your matrix!"
   ]
  },
  {
   "cell_type": "code",
   "execution_count": 11,
   "id": "59454f36-6aa4-415f-a1b1-67396e3ff5b3",
   "metadata": {},
   "outputs": [
    {
     "data": {
      "text/plain": [
       "array([[False, False, False, False, False, False, False, False, False,\n",
       "        False],\n",
       "       [ True,  True,  True,  True,  True,  True,  True,  True,  True,\n",
       "         True]])"
      ]
     },
     "execution_count": 11,
     "metadata": {},
     "output_type": "execute_result"
    }
   ],
   "source": [
    "mat1 > vec1"
   ]
  },
  {
   "cell_type": "markdown",
   "id": "e036d1b5-e6b1-4489-8b0b-b2e9ae5c72bf",
   "metadata": {},
   "source": [
    "The same goes for other operations like addition, division, comparison, and so on."
   ]
  },
  {
   "cell_type": "code",
   "execution_count": 12,
   "id": "e31b2f56-7719-4cf3-9f98-205628e5f897",
   "metadata": {},
   "outputs": [
    {
     "name": "stdout",
     "output_type": "stream",
     "text": [
      "[[ 0 10]\n",
      " [ 1 11]\n",
      " [ 2 12]\n",
      " [ 3 13]\n",
      " [ 4 14]\n",
      " [ 5 15]\n",
      " [ 6 16]\n",
      " [ 7 17]\n",
      " [ 8 18]\n",
      " [ 9 19]]\n"
     ]
    },
    {
     "data": {
      "text/plain": [
       "array([[False,  True],\n",
       "       [ True,  True],\n",
       "       [ True,  True],\n",
       "       [ True,  True],\n",
       "       [ True,  True],\n",
       "       [ True,  True],\n",
       "       [ True,  True],\n",
       "       [ True,  True],\n",
       "       [ True,  True],\n",
       "       [ True,  True]])"
      ]
     },
     "execution_count": 12,
     "metadata": {},
     "output_type": "execute_result"
    }
   ],
   "source": [
    "# This won't work: \n",
    "# mat1 > vec2\n",
    "\n",
    "# But this will:\n",
    "print(mat1.transpose())\n",
    "mat1.transpose() > vec2 # I'm comparing the elements of vec2\n",
    "                        # with the elements of mat1 line by line"
   ]
  },
  {
   "cell_type": "markdown",
   "id": "2b719738",
   "metadata": {},
   "source": [
    "# More numpy practice "
   ]
  },
  {
   "cell_type": "code",
   "execution_count": 2,
   "id": "2d883f4e",
   "metadata": {},
   "outputs": [],
   "source": [
    "from matplotlib import pyplot as plt"
   ]
  },
  {
   "cell_type": "markdown",
   "id": "dad9d386",
   "metadata": {},
   "source": [
    "# Saving and loading arrays"
   ]
  },
  {
   "cell_type": "code",
   "execution_count": 2,
   "id": "3e8f4a82",
   "metadata": {},
   "outputs": [
    {
     "data": {
      "text/plain": [
       "<matplotlib.collections.PathCollection at 0x10c41b350>"
      ]
     },
     "execution_count": 2,
     "metadata": {},
     "output_type": "execute_result"
    },
    {
     "data": {
      "image/png": "[encoded data removed]",
      "text/plain": [
       "<Figure size 640x480 with 1 Axes>"
      ]
     },
     "metadata": {},
     "output_type": "display_data"
    }
   ],
   "source": [
    "energy_arr = np.linspace(3,9,15)              \n",
    "spectrum_arr = 100 - energy_arr * 3\n",
    "\n",
    "plt.scatter(energy_arr, spectrum_arr)"
   ]
  },
  {
   "cell_type": "markdown",
   "id": "4d0e0928",
   "metadata": {},
   "source": [
    "The next line creates a file called `myspectrum.csv` and saves the content of the arrays into it.\n",
    "\n",
    "By zipping the two arrays I'm simply writing them into the file as columns rather than lines, which makes the file easier to understand if you open it with a text editor."
   ]
  },
  {
   "cell_type": "code",
   "execution_count": 3,
   "id": "9f61dac2",
   "metadata": {},
   "outputs": [],
   "source": [
    "np.savetxt(\"myspectrum.csv\", list(zip(energy_arr, spectrum_arr)), fmt='%.3e', delimiter=',')"
   ]
  },
  {
   "cell_type": "markdown",
   "id": "a9bc0cab",
   "metadata": {},
   "source": [
    "The next line reads the data from the file `myspectrum.csv` and loads it back into numpy arrays.\n",
    "\n",
    "Setting `unpack=True` is a useful trick that allows me to save the two columns of the file separately into different numpy arrays, in this case called `specx` and `specy`."
   ]
  },
  {
   "cell_type": "code",
   "execution_count": 6,
   "id": "80b5846a",
   "metadata": {},
   "outputs": [
    {
     "data": {
      "text/plain": [
       "<matplotlib.collections.PathCollection at 0x110eaaf90>"
      ]
     },
     "execution_count": 6,
     "metadata": {},
     "output_type": "execute_result"
    },
    {
     "data": {
      "image/png": "[encoded data removed]",
      "text/plain": [
       "<Figure size 640x480 with 1 Axes>"
      ]
     },
     "metadata": {},
     "output_type": "display_data"
    }
   ],
   "source": [
    "specx, specy = np.loadtxt(\"myspectrum.csv\", delimiter=',', unpack=True)\n",
    "\n",
    "plt.scatter(specx, specy)"
   ]
  },
  {
   "cell_type": "markdown",
   "id": "c2ac1014",
   "metadata": {},
   "source": [
    "# Random numbers with numpy"
   ]
  },
  {
   "cell_type": "code",
   "execution_count": 7,
   "id": "3ff5c351",
   "metadata": {},
   "outputs": [
    {
     "name": "stdout",
     "output_type": "stream",
     "text": [
      "[402 430 426 420 404 420 497 468 463 426 434 453 424 461 403]\n"
     ]
    }
   ],
   "source": [
    "random_integers  = np.random.randint(400,500,15)\n",
    "print(random_integers)"
   ]
  },
  {
   "cell_type": "code",
   "execution_count": 9,
   "id": "046eff6b",
   "metadata": {},
   "outputs": [
    {
     "name": "stdout",
     "output_type": "stream",
     "text": [
      "[0.31764319 0.55591185 0.3873221  0.7218119  0.02766172 0.87100161\n",
      " 0.64682037 0.05519002 0.38316127 0.31320254 0.27872753 0.84965539\n",
      " 0.3784198  0.49509454 0.17986349]\n"
     ]
    }
   ],
   "source": [
    "random_floats_1d = np.random.rand(15) # 1D array of random floating point \n",
    "                                      # numbers between 0 and 1.\n",
    "                                      # Every time you re-run this cell,\n",
    "                                      # you'll be creating a new set of \n",
    "                                      # pseudo-random numbers\n",
    "print(random_floats_1d)"
   ]
  },
  {
   "cell_type": "code",
   "execution_count": 11,
   "id": "78bc0e26",
   "metadata": {},
   "outputs": [
    {
     "name": "stdout",
     "output_type": "stream",
     "text": [
      "[[0.25711306 0.99736988 0.33684344 0.90427614 0.47866252 0.33910838]\n",
      " [0.25688067 0.15372754 0.62399408 0.23751869 0.20980321 0.02739611]\n",
      " [0.24205607 0.74301527 0.91774693 0.11782878 0.25957178 0.00456629]]\n"
     ]
    }
   ],
   "source": [
    "random_floats_2d = np.random.rand(3,6) # 2D array of random floating point \n",
    "                                       # numbers between 0 and 1\n",
    "print(random_floats_2d)"
   ]
  },
  {
   "cell_type": "markdown",
   "id": "4e3dae4f",
   "metadata": {},
   "source": [
    "### Seeding:\n",
    "\n",
    "To make your experiment reproducible, you may want to *seed* the random numbers you produce:"
   ]
  },
  {
   "cell_type": "code",
   "execution_count": 18,
   "id": "4299c213",
   "metadata": {},
   "outputs": [
    {
     "name": "stdout",
     "output_type": "stream",
     "text": [
      "[[0.5488135  0.71518937 0.60276338]\n",
      " [0.54488318 0.4236548  0.64589411]\n",
      " [0.43758721 0.891773   0.96366276]]\n"
     ]
    }
   ],
   "source": [
    "np.random.seed(0) # This fixes the random numbers that are produced next\n",
    "\n",
    "random_but_predictable = np.random.rand(3,3) # If you re-run this cell, these \n",
    "                                             # values won't change\n",
    "print(random_but_predictable)"
   ]
  },
  {
   "cell_type": "markdown",
   "id": "fcbf3941",
   "metadata": {},
   "source": [
    "### Group activity:  \n",
    "\n",
    "Write a function that estimates the value of $\\pi$ with a Monte Carlo approach:\n",
    "\n",
    "- First, we want to create a random set of $n$ points dixtributed randomly inside a 2x2 square, so with x- and y- coordinates between 0 and 2.\n",
    "- Then we count how many of these points lie inside a circle of radius 1 centered in the middle of the square.\n",
    "- Because our points are randomly distributed, the ratio between the fraction of points that lie inside the circle gives you an estimate of the ratio between the area of the circle and the total area of the square:\n",
    "\n",
    "$$\n",
    "\\frac{N_\\rm{inside}}{N_\\rm{total}} = \\frac{A_\\bigodot}{A_\\square} = \\frac{\\pi}{4}\n",
    "$$"
   ]
  },
  {
   "cell_type": "code",
   "execution_count": null,
   "id": "f3743b3d-2273-4f1b-9867-83c32ee6fbb7",
   "metadata": {},
   "outputs": [],
   "source": []
  }
 ],
 "metadata": {
  "kernelspec": {
   "display_name": "Python 3 (ipykernel)",
   "language": "python",
   "name": "python3"
  },
  "language_info": {
   "codemirror_mode": {
    "name": "ipython",
    "version": 3
   },
   "file_extension": ".py",
   "mimetype": "text/x-python",
   "name": "python",
   "nbconvert_exporter": "python",
   "pygments_lexer": "ipython3",
   "version": "3.11.4"
  }
 },
 "nbformat": 4,
 "nbformat_minor": 5
}
