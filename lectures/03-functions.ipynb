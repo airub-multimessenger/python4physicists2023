{
 "cells": [
  {
   "cell_type": "markdown",
   "metadata": {},
   "source": [
    "#### Warm-up exercise to recall iterations"
   ]
  },
  {
   "cell_type": "code",
   "execution_count": null,
   "metadata": {},
   "outputs": [],
   "source": [
    "names = [\"NGC 5128\", \"TXS 0506+056\", \"NGC 1068\", \"GB6 J1040+0617\", \"TXS 2226-184\"]\n",
    "distances = [3.7, 1.75e3, 14.4, 1.51e4, 107.1]  # Mpc\n",
    "luminosities = [1e40, 3e46, 4.9e38, 6.2e45, 5.5e41] # erg/s\n",
    "\n",
    "gal_cat = list(zip(names, distances, luminosities))\n",
    "\n",
    "for name, dist, lum in gal_cat:\n",
    "    print(f\"{name:15s} D={dist:.2e} Mpc, L={lum:.2e} erg/s\")"
   ]
  },
  {
   "cell_type": "markdown",
   "metadata": {
    "tags": []
   },
   "source": [
    "# (Almost) all about functions"
   ]
  },
  {
   "cell_type": "markdown",
   "metadata": {},
   "source": [
    "Functions make code more maintainable and more organized/modular. If there is a task that you repeat several times in your program, packaging it as a function is much better practice than copying the code snippet for the task repeatedly. If you update the task, you only need to update the function once. Functions allow you to clearly separate different sub-tasks in your program, rather than writing one long list of commands with comments to indicate the sub-tasks.\n",
    "\n",
    "In general, a function takes ***arguments*** as input, processes them (via ***statements*** in the function body), and ***returns*** a result as output. A generic function looks like this:"
   ]
  },
  {
   "cell_type": "code",
   "execution_count": null,
   "metadata": {},
   "outputs": [],
   "source": [
    "def <function_name>([<parameters>]):\n",
    "    <statement(s)>"
   ]
  },
  {
   "cell_type": "markdown",
   "metadata": {},
   "source": [
    "The function is executed only if it is called in the main body of the code. Here's a real example:"
   ]
  },
  {
   "cell_type": "code",
   "execution_count": null,
   "metadata": {},
   "outputs": [],
   "source": [
    "from math import pi\n",
    "\n",
    "def calc_flux(luminosity, distance_mpc):\n",
    "    distance_cm = distance_mpc * 3e24\n",
    "    flux = luminosity / (4 * pi * distance_cm ** 2)\n",
    "    return flux\n",
    "\n",
    "lum, dist = 4e45, 100\n",
    "\n",
    "flux = calc_flux(lum, dist)\n",
    "\n",
    "print(f\"{flux:.2e} erg/s\")"
   ]
  },
  {
   "cell_type": "markdown",
   "metadata": {},
   "source": [
    "Here, two arguments are passed to the function. Since there are no default values for the arguments defined, the number of arguments passed must match the number of parameters the function expects, otherwise an error will be thrown. Only the ordering shows which argument is mapped to which parameter; these are called positional arguments."
   ]
  },
  {
   "cell_type": "markdown",
   "metadata": {},
   "source": [
    "## Indentation\n",
    "You'll notice above that indentation is important - it delimits the body of the function, and separates between the main code and the function definition. \n",
    "- *indentation* means shifting a line of code by either a given number of spaces or a tab (`Tab` key);\n",
    "- a tab is a *single* special character that is visualised as an empty space;\n",
    "- tab-style indentation may have been popular in the past, but today the standard is space-style indentation using 4 whitespaces;\n",
    "- most editors will produce 4 whitespaces by default (or can be set up to do so!)\n",
    "\n",
    "### In python\n",
    "- indentation in python is ***part of the syntax!***\n",
    "- indentation delimits the code of a function, an `if/elif/else` clause, a loop etc.\n",
    "- any number of spaces is recognised, but it has to be consistent"
   ]
  },
  {
   "cell_type": "markdown",
   "metadata": {},
   "source": [
    "If you forget a `return` statement, your function will return `None`"
   ]
  },
  {
   "cell_type": "code",
   "execution_count": null,
   "metadata": {},
   "outputs": [],
   "source": [
    "def add_one(num):\n",
    "    num += 1\n",
    "    #return num\n",
    "    \n",
    "print(add_one(10))"
   ]
  },
  {
   "cell_type": "markdown",
   "metadata": {},
   "source": [
    "## Scope"
   ]
  },
  {
   "cell_type": "code",
   "execution_count": null,
   "metadata": {
    "tags": []
   },
   "outputs": [],
   "source": [
    "count = 0\n",
    "\n",
    "def bad_function():\n",
    "    count += 1\n",
    "    return count\n",
    "\n",
    "# bad_function() # Calling this function will return an error"
   ]
  },
  {
   "cell_type": "markdown",
   "metadata": {},
   "source": [
    "Variables defined inside the namespace of a function are *local* to that function. The namespace refers to the defined names and objects that the names refer to.\n",
    "\n",
    "Variables created outside a function are called *global* variables"
   ]
  },
  {
   "cell_type": "code",
   "execution_count": null,
   "metadata": {},
   "outputs": [],
   "source": [
    "def add_one(count):\n",
    "    count += 1 # count is a local variable because it's an argument\n",
    "    return count\n",
    "\n",
    "\n",
    "count = 1      # global \n",
    "print(count)\n",
    "\n",
    "add_one(count) # this is returning 2 and we're doing nothing with the result\n",
    "print(count)   # global variable is unaffected\n",
    "\n",
    "count = add_one(count) # only now are we updating the variable count \n",
    "print(count)"
   ]
  },
  {
   "cell_type": "markdown",
   "metadata": {},
   "source": [
    "Best practice: call differently your arguments, local variables and global variables"
   ]
  },
  {
   "cell_type": "code",
   "execution_count": null,
   "metadata": {},
   "outputs": [],
   "source": [
    "# Exercise: rewrite the code snippet above so that the local and global variables are clearly defined\n",
    "def add_one(n):\n",
    "    res = n + 1  # Both n and res are local variables\n",
    "    return res\n",
    "\n",
    "count = 1      # Calling our global and local variables differently\n",
    "               # avoids confusion\n",
    "print(count)\n",
    "count = add_one(count) # this returns 2 and we're replacing our global variable with it\n",
    "print(count)   # global variable is changed"
   ]
  },
  {
   "cell_type": "markdown",
   "metadata": {},
   "source": [
    "Note that scope is important not just with functions, but with classes, which we'll see next week, and comprehension, which we saw last week. For example this code snippet returns an error:"
   ]
  },
  {
   "cell_type": "code",
   "execution_count": null,
   "metadata": {},
   "outputs": [],
   "source": [
    "[item for item in range(5)]\n",
    "item"
   ]
  },
  {
   "cell_type": "markdown",
   "metadata": {},
   "source": [
    "However this is not an issue with a standard `for` loop, though it might not give you the behavior you want."
   ]
  },
  {
   "cell_type": "code",
   "execution_count": null,
   "metadata": {},
   "outputs": [],
   "source": [
    "for item in range(5):\n",
    "    print(item)\n",
    "\n",
    "item"
   ]
  },
  {
   "cell_type": "markdown",
   "metadata": {},
   "source": [
    "### Function returns"
   ]
  },
  {
   "cell_type": "markdown",
   "metadata": {},
   "source": [
    "A function can return *any* type, including lists, dictionaries, booleans, or even functions"
   ]
  },
  {
   "cell_type": "code",
   "execution_count": null,
   "metadata": {},
   "outputs": [],
   "source": [
    "def is_detectable(flux):\n",
    "    return flux > 1e-11\n",
    "\n",
    "print(is_detectable(1e-12))"
   ]
  },
  {
   "cell_type": "code",
   "execution_count": null,
   "metadata": {},
   "outputs": [],
   "source": [
    "# Exercise: use function is_detectable and galaxy catalog to print whether each galaxy in catalog is detectable or not\n",
    "def is_detectable(luminosity, distance):\n",
    "    flux = calc_flux(luminosity, distance)\n",
    "    return flux > 1e-11\n",
    "\n",
    "for name,dis,lum in gal_cat:\n",
    "    if is_detectable(lum, dis):\n",
    "        print(f\"{name:15s} is detectable\")\n",
    "    else:\n",
    "        print(f\"{name:15s} is not detectable\")"
   ]
  },
  {
   "cell_type": "markdown",
   "metadata": {},
   "source": [
    "A function terminates the first time that `return` is called - beware of pitfalls!"
   ]
  },
  {
   "cell_type": "code",
   "execution_count": null,
   "metadata": {},
   "outputs": [],
   "source": [
    "def find_first_detectable(catalog):\n",
    "    for name, dis, lum in catalog:\n",
    "        if is_detectable(lum, dis):\n",
    "            return name\n",
    "\n",
    "firstname = find_first_detectable(gal_cat)\n",
    "print(f\"First resolved galaxy: {firstname}\")  # I can do this\n",
    "#print(f\"First resolved galaxy: {firstname:s}\") # But I wouldn't be able to do this if the flux limit is too high, e.g. 1e-10"
   ]
  },
  {
   "cell_type": "markdown",
   "metadata": {},
   "source": [
    "The problem with the above function is that if there are no elements that satisfy our requirement, the `return` statement will never be called and the function will return a `NoneType`. Let's fix that:"
   ]
  },
  {
   "cell_type": "code",
   "execution_count": null,
   "metadata": {},
   "outputs": [],
   "source": [
    "# Exercise: rewrite the above function to always return a string\n",
    "\n",
    "def find_first_detectable(catalog):\n",
    "    firstname = \"None!\"\n",
    "    for name, dis, lum in catalog:\n",
    "        if is_detectable(lum, dis):\n",
    "            firstname = name\n",
    "    return firstname\n",
    "\n",
    "firstname = find_first_detectable(gal_cat)\n",
    "print(f\"First resolved galaxy: {firstname:s}\") # Now I know that a string will always be returned"
   ]
  },
  {
   "cell_type": "markdown",
   "metadata": {},
   "source": [
    "Python functions are extremely flexible and can even return multiple variables of different types"
   ]
  },
  {
   "cell_type": "code",
   "execution_count": null,
   "metadata": {},
   "outputs": [],
   "source": [
    "def assess_flux(luminosity, distance):\n",
    "    flux = calc_flux(luminosity, distance)\n",
    "    isdetect = is_detectable(luminosity, distance)\n",
    "    return flux, isdetect\n",
    "\n",
    "results  = assess_flux(1e45, 100) # above detectability threshold\n",
    "# results  = assess_flux(1e43, 100) # below detectability threshold\n",
    "print(results)\n",
    "\n",
    "if results[1]:\n",
    "    print(f\"A flux of {results[0]:.2e} erg/cm2/s is detectable!\\n\")\n",
    "\n",
    "# A better syntax is to \"unpack\" the result into different variables:\n",
    "\n",
    "flx, isdet = assess_flux(1e45, 100) # above detectability threshold\n",
    "# flx, isdet = assess_flux(1e43, 100) # below detectability threshold\n",
    "\n",
    "print(flx, isdet)\n",
    "\n",
    "if isdet:\n",
    "    print(f\"A flux of {flx:.2e} erg/cm2/s is detectable!\\n\")"
   ]
  },
  {
   "cell_type": "markdown",
   "metadata": {},
   "source": [
    "### Keyword arguments"
   ]
  },
  {
   "cell_type": "code",
   "execution_count": null,
   "metadata": {},
   "outputs": [],
   "source": [
    "from math import sqrt\n",
    "\n",
    "def quadratic(a, b, c):\n",
    "    x1 = -b / (2*a)\n",
    "    x2 = sqrt(b**2 - 4*a*c) / (2*a)\n",
    "    return (x1 + x2), (x1 - x2)\n",
    "\n",
    "print(quadratic(a=31, b=93, c=62))\n",
    "print(quadratic(c=62, a=31, b=93))"
   ]
  },
  {
   "cell_type": "markdown",
   "metadata": {},
   "source": [
    "But positional arguments must come first, if we use a mix of both."
   ]
  },
  {
   "cell_type": "code",
   "execution_count": null,
   "metadata": {},
   "outputs": [],
   "source": [
    "# This will work\n",
    "a, b = 31, 93\n",
    "print(quadratic(a, b, c=62))"
   ]
  },
  {
   "cell_type": "code",
   "execution_count": null,
   "metadata": {},
   "outputs": [],
   "source": [
    "# This will not\n",
    "a, c = 31, 62\n",
    "print(quadratic(a, b=93, c))"
   ]
  },
  {
   "cell_type": "markdown",
   "metadata": {},
   "source": [
    "### Default parameters"
   ]
  },
  {
   "cell_type": "markdown",
   "metadata": {},
   "source": [
    "We can give some parameters default values. "
   ]
  },
  {
   "cell_type": "code",
   "execution_count": null,
   "metadata": {},
   "outputs": [],
   "source": [
    "def is_detectable(luminosity, distance, threshold=1e-11): # luminosity and distance are positional: \n",
    "                                                          # they must always be passed then calling \n",
    "                                                          # the function. threshold is keyword, and will\n",
    "                                                          # be defaulted to 1e-11 if I don't pass it\n",
    "                                                          # to the function\n",
    "                                                        \n",
    "    flux = calc_flux(luminosity, distance)\n",
    "    return flux > threshold\n",
    "\n",
    "print(is_detectable(1e45,100)) # I don't give any value of threshold,\n",
    "                        # so Python assumes the default value \n",
    "                        # I defined in the function (in this case 1e-11) \n",
    "        \n",
    "print(is_detectable(1e45,100, 1e-12)) # Now Python takes the value I passed to the function\n",
    "\n",
    "print(is_detectable(1e45,100, 1e-9))\n",
    "        "
   ]
  },
  {
   "cell_type": "markdown",
   "metadata": {},
   "source": [
    "These defaulted parameters must come ***after*** all the undefined arguments"
   ]
  },
  {
   "cell_type": "code",
   "execution_count": null,
   "metadata": {
    "scrolled": true
   },
   "outputs": [],
   "source": [
    "# Trying to define a function like this will throw an error:\n",
    "\n",
    "def is_detectable(luminosity, threshold=1e-11, distance):\n",
    "    flux = calc_flux(luminosity, distance)\n",
    "    return flux > threshold"
   ]
  },
  {
   "cell_type": "markdown",
   "metadata": {},
   "source": [
    "When you add a parameter to a function, always remember to update all the functions that depend on it! "
   ]
  },
  {
   "cell_type": "code",
   "execution_count": null,
   "metadata": {},
   "outputs": [],
   "source": [
    "def find_first_detectable(catalog, threshold=1e-11):\n",
    "    firstname = \"None!\"\n",
    "    for name, dis, lum in catalog:\n",
    "        if is_detectable(lum, dis, threshold): # I pass on the threshold\n",
    "                                               # parameter to all functions\n",
    "                                               # that depend on it\n",
    "            firstname = name\n",
    "    return firstname\n",
    "\n",
    "firstname = find_first_detectable(gal_cat)\n",
    "print(firstname)"
   ]
  },
  {
   "cell_type": "markdown",
   "metadata": {},
   "source": [
    "### Variable length argument lists\n",
    "In the examples above, we call a function that takes one luminosity and one distance. What if we want to pass in e.g. a group of distances?"
   ]
  },
  {
   "cell_type": "code",
   "execution_count": null,
   "metadata": {},
   "outputs": [],
   "source": [
    "def calc_dist_cm(*args):\n",
    "    for i in args:\n",
    "        distance_cm = i * 3e24\n",
    "        print(f\"Distance: {distance_cm} cm\")\n",
    "\n",
    "calc_dist_cm(3.7, 1750.0, 14.4, 15100.0, 107.1)"
   ]
  },
  {
   "cell_type": "markdown",
   "metadata": {},
   "source": [
    "More useful is passing a tuple packed up from e.g. a list:"
   ]
  },
  {
   "cell_type": "code",
   "execution_count": null,
   "metadata": {},
   "outputs": [],
   "source": [
    "def calc_dist_cm(*args):\n",
    "    for i in args:\n",
    "        distance_cm = i * 3e24\n",
    "        print(f\"Distance: {distance_cm} cm\")\n",
    "\n",
    "calc_dist_cm(*distances)"
   ]
  },
  {
   "cell_type": "markdown",
   "metadata": {},
   "source": [
    "We can also use a similar syntax for dictionaries."
   ]
  },
  {
   "cell_type": "code",
   "execution_count": null,
   "metadata": {},
   "outputs": [],
   "source": [
    "galaxy_luminosities = dict(zip(names, luminosities))\n",
    "\n",
    "def print_galaxies(**kwargs):\n",
    "    for k, v in kwargs.items():\n",
    "        print(f\"Name: {k}, Luminosity {v} erg/s \")\n",
    "\n",
    "print_galaxies(**galaxy_luminosities)"
   ]
  },
  {
   "cell_type": "markdown",
   "metadata": {},
   "source": [
    "## Recursion\n",
    "\n",
    "Functions can not only depend on other functions, but also on themselves. "
   ]
  },
  {
   "cell_type": "code",
   "execution_count": null,
   "metadata": {},
   "outputs": [],
   "source": [
    "def fibonacci(n):\n",
    "    if n <= 1:\n",
    "        return n\n",
    "    else:\n",
    "        return fibonacci(n - 1) + fibonacci(n - 2)\n",
    "    \n",
    "for i in range(12):\n",
    "    print(fibonacci(i))"
   ]
  },
  {
   "cell_type": "code",
   "execution_count": null,
   "metadata": {},
   "outputs": [],
   "source": [
    "# Exercise: write a function for calculating a factorial, and print 0! through 9!\n",
    "def factorial(n):\n",
    "    if n <= 1:\n",
    "        return 1\n",
    "    else:\n",
    "        return n * factorial(n-1)\n",
    "\n",
    "for i in range(10):\n",
    "    print(i, factorial(i))"
   ]
  },
  {
   "cell_type": "markdown",
   "metadata": {},
   "source": [
    "## Type hints\n",
    "- python is dynamically typed: you can do whatever you want and there will be little control about the types you use!\n",
    "- from python 3.5 *type hints* are supported: we can indicate what types a function is supposed to take as arguments and what type it returns!"
   ]
  },
  {
   "cell_type": "code",
   "execution_count": null,
   "metadata": {},
   "outputs": [],
   "source": [
    "def f(a : int, b : int) -> str:\n",
    "    if a > b:\n",
    "        return f\"{a} is greater than {b}\"\n",
    "    else:\n",
    "        return f\"{a} is less than or equal to {b}\"\n",
    "\n",
    "print(f(1, 2))\n",
    "\n",
    "print(f(1.5, 3.5))"
   ]
  },
  {
   "cell_type": "markdown",
   "metadata": {},
   "source": [
    "- the python interpreter does not complain if you don't respect type hints, after all it is a *dynamically typed* language!\n",
    "- type hints are useful **to you** to remember how a function is supposed to behave: they may seem (and probably are) unnecessary at this level but it is important to **pick good habits** from the start! \n",
    "- there are tools known as **static type checkers** (one is `mypy`) that can check if your code respect all the type declarations."
   ]
  },
  {
   "cell_type": "markdown",
   "metadata": {},
   "source": [
    "### Defining functions in one line with `lambda`\n",
    "`lambda` is an example of python's support for functional programming. They provide a compact alternative for simple functions. They consist of a keyword (`lambda`) a variable, and a body."
   ]
  },
  {
   "cell_type": "code",
   "execution_count": null,
   "metadata": {},
   "outputs": [],
   "source": [
    "# The above factorial function can be rewritten as\n",
    "\n",
    "factorial = lambda n: n * factorial(n-1) if n > 1 else 1\n",
    "\n",
    "print(factorial(4.), factorial(10))"
   ]
  },
  {
   "cell_type": "markdown",
   "metadata": {},
   "source": [
    "`lambda` functions can also take several arguments, but should be used only for simple tasks so as not to become unreadable. Notice that the arguments are separated by commas, but not enclosed in parentheses. "
   ]
  },
  {
   "cell_type": "code",
   "execution_count": null,
   "metadata": {},
   "outputs": [],
   "source": [
    "hypothenuse = lambda x,y: (x ** 2 + y ** 2) ** 0.5\n",
    "\n",
    "sa, sb = 3, 4\n",
    "sc = hypothenuse(sa,sb)\n",
    "print(f\"A={sa}, B={sb} -> C = {sc}\")"
   ]
  },
  {
   "cell_type": "markdown",
   "metadata": {},
   "source": [
    "You can also pass in values for the arguments in the same line."
   ]
  },
  {
   "cell_type": "code",
   "execution_count": null,
   "metadata": {},
   "outputs": [],
   "source": [
    "hypothenuse = (lambda x,y: (x ** 2 + y ** 2) ** 0.5)(3,4)\n",
    "print(hypothenuse)"
   ]
  },
  {
   "cell_type": "markdown",
   "metadata": {},
   "source": [
    "`lambda` functions have some key differences from standard functions. They don't support statements within the body of the function, or type hints. For example, neither of the examples below will work."
   ]
  },
  {
   "cell_type": "code",
   "execution_count": null,
   "metadata": {},
   "outputs": [],
   "source": [
    "(lambda x: return x**2)(2)"
   ]
  },
  {
   "cell_type": "markdown",
   "metadata": {},
   "source": [
    "This is the correct syntax."
   ]
  },
  {
   "cell_type": "code",
   "execution_count": null,
   "metadata": {},
   "outputs": [],
   "source": [
    "(lambda x: x**2)(2)"
   ]
  },
  {
   "cell_type": "code",
   "execution_count": null,
   "metadata": {},
   "outputs": [],
   "source": [
    "hypothenuse = (lambda x: int,y: int: (x ** 2 + y ** 2) ** 0.5)(3,4)"
   ]
  },
  {
   "cell_type": "markdown",
   "metadata": {},
   "source": [
    "In contrast to functions, `lambda` functions are invoked immediately, which can be particularly convenient within a Jupyter notebook."
   ]
  },
  {
   "cell_type": "markdown",
   "metadata": {},
   "source": [
    "### Docstrings"
   ]
  },
  {
   "cell_type": "markdown",
   "metadata": {},
   "source": [
    "Adding docstrings to your functions will help you become a better programmer and a better scientist!\n",
    "\n",
    "Your future self and your collaborators will appreciate it, becuase your code will be clearer, which will help prevent errors in your results. (On top of this, your future employers will love seeing your neatly documented code on your GitHub repository) \n",
    "\n",
    "Even in the most obvious cases, your docstring should be at least one line: "
   ]
  },
  {
   "cell_type": "code",
   "execution_count": null,
   "metadata": {},
   "outputs": [],
   "source": [
    "def add_one(n):\n",
    "    \"\"\"Calculate n+1 and return the result.\"\"\"\n",
    "    res = n + 1  \n",
    "    return res\n",
    "\n",
    "def check_script():\n",
    "    \"\"\"Check if the script is running.\"\"\""
   ]
  },
  {
   "cell_type": "markdown",
   "metadata": {},
   "source": [
    "If the funtion does something more complex, you should write a more complete docstring, in this general form:"
   ]
  },
  {
   "cell_type": "code",
   "execution_count": null,
   "metadata": {},
   "outputs": [],
   "source": [
    "def my_function(par1, par2):\n",
    "    \"\"\"\n",
    "    One-line description of the purpose of the function.\n",
    "\n",
    "    If necessary, you can add here a second paragraph explaining in detail\n",
    "    the rationale and usage of the function, including an example if \n",
    "    necessary. By using three quotation marks, every line in between is \n",
    "    interpreted as part of the same string. So use line breaks like this \n",
    "    to keep your lines short.\n",
    "    \n",
    "    Args:\n",
    "        par1: a number\n",
    "        par2: a second number\n",
    "    \n",
    "    Returns:\n",
    "        The result of some operation on our input\n",
    "    \"\"\"\n",
    "    res = some_operation(par1, par2)\n",
    "    return res"
   ]
  },
  {
   "cell_type": "markdown",
   "metadata": {},
   "source": [
    "Strings written in this fashion will become the docstring of the function, which will help your future self or your collaborators understand your code:"
   ]
  },
  {
   "cell_type": "code",
   "execution_count": null,
   "metadata": {},
   "outputs": [],
   "source": [
    "help(my_function)"
   ]
  },
  {
   "cell_type": "code",
   "execution_count": null,
   "metadata": {},
   "outputs": [],
   "source": [
    "help(len)"
   ]
  },
  {
   "cell_type": "markdown",
   "metadata": {},
   "source": [
    "In the Jupyter environment, you can also get the docstring by pressing Shift+Tab on a function."
   ]
  },
  {
   "cell_type": "markdown",
   "metadata": {},
   "source": [
    "Here I'm using my docstrings in the so-called Google format. There are other options, as you can read about online:\n",
    "\n",
    "https://stackoverflow.com/questions/3898572/what-are-the-most-common-python-docstring-formats https://betterprogramming.pub/3-different-docstring-formats-for-python-d27be81e0d68\n",
    "\n",
    "For more on how to write good docstrings, check out the PEP conventions:\n",
    "\n",
    "https://peps.python.org/pep-0257/"
   ]
  },
  {
   "cell_type": "code",
   "execution_count": null,
   "metadata": {},
   "outputs": [],
   "source": []
  }
 ],
 "metadata": {
  "kernelspec": {
   "display_name": "Python 3 (ipykernel)",
   "language": "python",
   "name": "python3"
  },
  "language_info": {
   "codemirror_mode": {
    "name": "ipython",
    "version": 3
   },
   "file_extension": ".py",
   "mimetype": "text/x-python",
   "name": "python",
   "nbconvert_exporter": "python",
   "pygments_lexer": "ipython3",
   "version": "3.11.4"
  },
  "vscode": {
   "interpreter": {
    "hash": "ad60ba3d6748ebfd779dff164ecdca54fbf007dbac97c522a9077ed5230659e8"
   }
  }
 },
 "nbformat": 4,
 "nbformat_minor": 4
}
