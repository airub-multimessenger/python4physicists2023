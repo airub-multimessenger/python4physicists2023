{
 "cells": [
  {
   "cell_type": "markdown",
   "id": "de05216f-c657-4782-852e-28e3d35844cf",
   "metadata": {},
   "source": [
    "# Problem 1: Some basics about data types and lists"
   ]
  },
  {
   "cell_type": "markdown",
   "id": "ee2c02b9-78a4-497b-8320-6686fd7fd590",
   "metadata": {},
   "source": [
    "**(A)** Below you find the list \"SN_unsorted\" which contains 5 supernovae that have occured this year. The elements are a mixture of the name, brightness, type, host and redshift of the supernovae.\n",
    "\n",
    "At first, write down the number of strings, integer and floats. After that, write a short code, that allows you to print all elements of type float."
   ]
  },
  {
   "cell_type": "code",
   "execution_count": 2,
   "id": "f2ff0403-f192-4394-bbf0-a342a43146fa",
   "metadata": {},
   "outputs": [],
   "source": [
    "SN_unsorted = ['2023rve', '2023fyq', '2023ixf', '2023oho', '2023uda', 14.4, 14.7, 15, 15.8, 16, 'SN II', 'SN Ib', 'SN II', 'SN Ia', 'SN Ia', 0.004, 0.008, 0.001, 0.011, 0.015, 'NGC 1097', 'NGC 4388', 'M101', 'KUG 0227-106', 'CGCG 424-007']\n"
   ]
  },
  {
   "cell_type": "code",
   "execution_count": 3,
   "id": "a901b8f9-975c-4e30-8452-629789993223",
   "metadata": {},
   "outputs": [
    {
     "name": "stdout",
     "output_type": "stream",
     "text": [
      "Number of Strings = 15\n",
      "Number of Floats = 8\n",
      "Number of Integers = 2\n"
     ]
    }
   ],
   "source": [
    "Strings = 0\n",
    "Floats = 0\n",
    "Integers = 0 \n",
    "\n",
    "for i in SN_unsorted:\n",
    "    if isinstance(i, float):\n",
    "        Floats += 1\n",
    "    elif isinstance(i, str):\n",
    "        Strings += 1\n",
    "    else:\n",
    "        Integers += 1\n",
    "print(\"Number of Strings = \" +str(Strings) + \"\\n\" + \"Number of Floats = \" +str(Floats) + \"\\n\" + \"Number of Integers = \" +str(Integers))\n"
   ]
  },
  {
   "cell_type": "code",
   "execution_count": 4,
   "id": "bee06c43-406e-43e1-897a-72f0b6bf494a",
   "metadata": {},
   "outputs": [
    {
     "name": "stdout",
     "output_type": "stream",
     "text": [
      "14.4\n",
      "14.7\n",
      "15.8\n",
      "0.004\n",
      "0.008\n",
      "0.001\n",
      "0.011\n",
      "0.015\n"
     ]
    }
   ],
   "source": [
    "for i in range(len(SN_unsorted)):\n",
    "    if type(SN_unsorted[i]) == float:\n",
    "        print(SN_unsorted[i])"
   ]
  },
  {
   "cell_type": "markdown",
   "id": "ccda0b39-7fdd-4290-afc1-85bf0ce56f79",
   "metadata": {},
   "source": [
    "**(B)** The following lists contain the same values as before but sorted. The order is the same for all 5 lists (first element of each list belong to the first SN, second elements to second Sn and so on).\n",
    "Now, the integers from the previous cell are written as floats. \n",
    "\n",
    "Even if you could just read the values from the top to the bottom, it is more convinient to read them horizontaly. \n",
    "Write a short code, that allows you to print the values for each supernova in the scheme: name, type, magnitude (list SN_mag), redshift, host.\n",
    "\n",
    "Since you can encounter very large lists in real life, think about a simple way to show which unique types of Supernovae are represented in the list.  "
   ]
  },
  {
   "cell_type": "code",
   "execution_count": 5,
   "id": "7b76c340-752a-4e26-b5b3-100ee41dff18",
   "metadata": {},
   "outputs": [],
   "source": [
    "SN_name = ['2023rve', '2023fyq', '2023ixf', '2023oho', '2023uda']\n",
    "SN_mag = [14.4, 14.7, 15.0, 15.8, 16.0]\n",
    "SN_type = ['SN II', 'SN Ib', 'SN II', 'SN Ia', 'SN Ia']\n",
    "SN_redshift = [0.004, 0.008, 0.001, 0.011, 0.015]\n",
    "SN_host = ['NGC 1097', 'NGC 4388', 'M101', 'KUG 0227-106', 'CGCG 424-007']\n"
   ]
  },
  {
   "cell_type": "code",
   "execution_count": 6,
   "id": "3df8656e-0875-40c6-86c1-066c121f9296",
   "metadata": {},
   "outputs": [
    {
     "name": "stdout",
     "output_type": "stream",
     "text": [
      "2023rve SN II 14.4 0.004 NGC 1097\n",
      "2023fyq SN Ib 14.7 0.008 NGC 4388\n",
      "2023ixf SN II 15.0 0.001 M101\n",
      "2023oho SN Ia 15.8 0.011 KUG 0227-106\n",
      "2023uda SN Ia 16.0 0.015 CGCG 424-007\n"
     ]
    }
   ],
   "source": [
    "for i in range(len(SN_name)):\n",
    "    print(SN_name[i], SN_type[i], SN_mag[i], SN_redshift[i], SN_host[i])"
   ]
  },
  {
   "cell_type": "code",
   "execution_count": 7,
   "id": "fff78c63-19ef-47d3-a258-17a6821d094a",
   "metadata": {},
   "outputs": [
    {
     "name": "stdout",
     "output_type": "stream",
     "text": [
      "Types of SNe: {'SN Ia', 'SN Ib', 'SN II'}\n"
     ]
    }
   ],
   "source": [
    "print('Types of SNe: ' +str(set(SN_type)))"
   ]
  },
  {
   "cell_type": "markdown",
   "id": "c98be09e-3f27-40a0-bf7b-9f741a3478f3",
   "metadata": {},
   "source": [
    "**(C)** Now you want to add SN 1987A (use as name just 1987A) to the lists. SN 1987A was a type II (SN II) supernova with a magnitude of 4.5 mag, \n",
    "that occured in the Large Magelanic Cloud (LMC) in year 1987. Because it was so close, we assume the reshift to be 0.\n",
    "You can add the values and elements simply at the end of the lists. Check for each list, if it is working! You can use your code from the cell above."
   ]
  },
  {
   "cell_type": "code",
   "execution_count": 8,
   "id": "6294a377-cf09-4c00-a9dd-f90c1d847fa5",
   "metadata": {},
   "outputs": [
    {
     "name": "stdout",
     "output_type": "stream",
     "text": [
      "2023rve SN II 14.4 0.004 NGC 1097\n",
      "2023fyq SN Ib 14.7 0.008 NGC 4388\n",
      "2023ixf SN II 15.0 0.001 M101\n",
      "2023oho SN Ia 15.8 0.011 KUG 0227-106\n",
      "2023uda SN Ia 16.0 0.015 CGCG 424-007\n",
      "1987A SN II 4 0 LMC\n"
     ]
    }
   ],
   "source": [
    "SN_name.append('1987A')\n",
    "SN_mag.append(4)\n",
    "SN_type.append('SN II')\n",
    "SN_redshift.append(0)\n",
    "SN_host.append('LMC')\n",
    "\n",
    "for i in range(len(SN_name)):\n",
    "    print(SN_name[i], SN_type[i], SN_mag[i], SN_redshift[i], SN_host[i])"
   ]
  },
  {
   "cell_type": "markdown",
   "id": "f4cc2ab4-c995-4526-a883-03f6ab87e4ed",
   "metadata": {},
   "source": [
    "**(D)** Now, delete all elements, that belong to SN 2023rve! Check it again."
   ]
  },
  {
   "cell_type": "code",
   "execution_count": 9,
   "id": "8dd9967c-617e-4322-a9ab-5229ee8da1e8",
   "metadata": {},
   "outputs": [
    {
     "name": "stdout",
     "output_type": "stream",
     "text": [
      "2023fyq SN Ib 14.7 0.008 NGC 4388\n",
      "2023ixf SN II 15.0 0.001 M101\n",
      "2023oho SN Ia 15.8 0.011 KUG 0227-106\n",
      "2023uda SN Ia 16.0 0.015 CGCG 424-007\n",
      "1987A SN II 4 0 LMC\n"
     ]
    }
   ],
   "source": [
    "del(SN_name[0])\n",
    "del(SN_mag[0])\n",
    "del(SN_type[0])\n",
    "del(SN_redshift[0])\n",
    "del(SN_host[0])\n",
    "\n",
    "for i in range(len(SN_name)):\n",
    "    print(SN_name[i], SN_type[i], SN_mag[i], SN_redshift[i] ,SN_host[i])"
   ]
  },
  {
   "cell_type": "markdown",
   "id": "19f102c6-4900-4355-b747-b4812714330e",
   "metadata": {},
   "source": [
    "**(E)** Assume the supernovae events to be sorted by age. The first one is the youngest and the last one the oldest. \n",
    "Sort the list such, that the values for the oldest supernova (SN 1987A) are the first list elements. \n",
    "Do a final check by printing the reversed list, the same way as before!"
   ]
  },
  {
   "cell_type": "code",
   "execution_count": 10,
   "id": "26762123-2aec-42b9-875a-6010b19d3591",
   "metadata": {},
   "outputs": [
    {
     "name": "stdout",
     "output_type": "stream",
     "text": [
      "1987A SN II 4 0 LMC\n",
      "2023uda SN Ia 16.0 0.015 CGCG 424-007\n",
      "2023oho SN Ia 15.8 0.011 KUG 0227-106\n",
      "2023ixf SN II 15.0 0.001 M101\n",
      "2023fyq SN Ib 14.7 0.008 NGC 4388\n"
     ]
    }
   ],
   "source": [
    "SN_name=SN_name[::-1]\n",
    "SN_mag=SN_mag[::-1]\n",
    "SN_type=SN_type[::-1]\n",
    "SN_redshift=SN_redshift[::-1]\n",
    "SN_host=SN_host[::-1]\n",
    "\n",
    "for i in range(len(SN_name)):\n",
    "    print(SN_name[i], SN_type[i], SN_mag[i], SN_redshift[i], SN_host[i])"
   ]
  },
  {
   "cell_type": "markdown",
   "id": "ec82b241-63eb-4cca-b9e0-df9a735be105",
   "metadata": {},
   "source": [
    "# Problem 2: De Morgan's laws\n",
    "\n",
    "\n",
    "In this task we will make use of Booleans. For that we take a look on De Morgan's laws. The rules allow the expression of conjunctions and disjunctions purely in terms of each other via negation. The rules can be expressed as:\n",
    "\n",
    "**The negation of a disjunction is the conjunction of the negations**\n",
    "\n",
    "                                    ¬(A ∧ B) = ¬A ∨ ¬B\n",
    "\n",
    "and\n",
    "\n",
    "**The negation of a conjunction is the disjunction of the negations**\n",
    "\n",
    "                                    ¬(A ∨ B) = ¬A ∧ ¬B,\n",
    "\n",
    "where \n",
    "¬ is the negation logic operator (NOT),\n",
    "∧  is the conjunction logic operator (AND),\n",
    "∨ is the disjunction logic operator (OR).\n",
    "\n",
    "Prove with the help of Booleans that the rules apply.\n",
    "\n",
    "Hint: You can start with A = True as a true statement and B = False as a false statement."
   ]
  },
  {
   "cell_type": "code",
   "execution_count": 11,
   "id": "1b9f447b-db84-4520-a0b1-f2c37394f757",
   "metadata": {},
   "outputs": [
    {
     "name": "stdout",
     "output_type": "stream",
     "text": [
      "The negation of a disjunction is the conjunction of the negations:  True\n"
     ]
    }
   ],
   "source": [
    "A = False\n",
    "B = False\n",
    "left_side = not (A and B)\n",
    "right_side = (not A) or (not B)\n",
    "print('The negation of a disjunction is the conjunction of the negations: ', left_side == right_side)"
   ]
  },
  {
   "cell_type": "code",
   "execution_count": 12,
   "id": "d5520d4b-4e0f-4c96-9d06-630bb6f3854d",
   "metadata": {},
   "outputs": [
    {
     "name": "stdout",
     "output_type": "stream",
     "text": [
      "The negation of a conjunction is the disjunction of the negations:  True\n"
     ]
    }
   ],
   "source": [
    "left_side = not (A or B) \n",
    "right_side = not A and not B\n",
    "\n",
    "print('The negation of a conjunction is the disjunction of the negations: ',left_side == right_side)"
   ]
  },
  {
   "cell_type": "markdown",
   "id": "f7edbbc5-7d11-49ff-b820-87a564e2bdb9",
   "metadata": {},
   "source": [
    "# Problem 3: For Loops and conditional statements"
   ]
  },
  {
   "cell_type": "markdown",
   "id": "bbfc5aa4-e264-417f-bf1e-404a77816375",
   "metadata": {},
   "source": [
    "In this task you will learn to work with For Loops and also the combination of For Loops and If statements. We will start with the list below. \n",
    "\n",
    "**(A)** Write a code to sum up every single element from the list by using a For Loop."
   ]
  },
  {
   "cell_type": "code",
   "execution_count": 13,
   "id": "afe3a5f1-3f96-4767-a0e8-c45abc11b0de",
   "metadata": {},
   "outputs": [],
   "source": [
    "L = [2, -6, -4, 1, 0, -9, 0, 3, 0, -7, -9, 5]"
   ]
  },
  {
   "cell_type": "code",
   "execution_count": 14,
   "id": "c8d9bbca-ba37-4458-aa99-bc1f740d4cbe",
   "metadata": {},
   "outputs": [
    {
     "name": "stdout",
     "output_type": "stream",
     "text": [
      "Sum of all elements of the list: -24\n"
     ]
    }
   ],
   "source": [
    "s = 0 \n",
    "for n in range(len(L)):\n",
    "    s += L[n]\n",
    "\n",
    "print('Sum of all elements of the list: ' + str(sum(L))) "
   ]
  },
  {
   "cell_type": "markdown",
   "id": "9990a3fc-a357-4e63-96e3-44d02981fc05",
   "metadata": {},
   "source": [
    "**(B)**\n",
    "In this task, we would like to get information about the sign of the values. \n",
    "\n",
    "Write a code which counts the amount of positve values of list L."
   ]
  },
  {
   "cell_type": "code",
   "execution_count": 15,
   "id": "364e56d9-bbc5-4173-af02-e1e631be65ef",
   "metadata": {},
   "outputs": [
    {
     "name": "stdout",
     "output_type": "stream",
     "text": [
      "Number of positive values: 4\n"
     ]
    }
   ],
   "source": [
    "pos = 0\n",
    "\n",
    "for i in range(len(L)):\n",
    "    if L[i] > 0:\n",
    "        pos += 1\n",
    "print('Number of positive values: ' +str(pos))   "
   ]
  },
  {
   "cell_type": "code",
   "execution_count": null,
   "id": "593d2c78-c074-43ac-b173-aba01a03dcba",
   "metadata": {},
   "outputs": [],
   "source": []
  }
 ],
 "metadata": {
  "kernelspec": {
   "display_name": "Python 3 (ipykernel)",
   "language": "python",
   "name": "python3"
  },
  "language_info": {
   "codemirror_mode": {
    "name": "ipython",
    "version": 3
   },
   "file_extension": ".py",
   "mimetype": "text/x-python",
   "name": "python",
   "nbconvert_exporter": "python",
   "pygments_lexer": "ipython3",
   "version": "3.11.5"
  }
 },
 "nbformat": 4,
 "nbformat_minor": 5
}
