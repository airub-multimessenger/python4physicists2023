{
 "cells": [
  {
   "cell_type": "markdown",
   "id": "c3e087bc",
   "metadata": {},
   "source": [
    "# Homework 9\n",
    "\n",
    "## Name: \n"
   ]
  },
  {
   "cell_type": "markdown",
   "id": "89df2650",
   "metadata": {},
   "source": [
    "# Problem 1: fitting functions and finding extrema (50P)"
   ]
  },
  {
   "cell_type": "markdown",
   "id": "0a64074d",
   "metadata": {},
   "source": [
    "**A (5P)**\n",
    "\n",
    "In this task, we are going to work again with the function we already used in homework 3:\n",
    "\n",
    "<center> $f(x) = (x-6)^2$\n",
    "\n",
    "Use this function to generate an array **f1** that contains values for the **negative** function **-f(x)** on the interval: \n",
    "   \n",
    "<center> $x \\in [0,20]$\n",
    "\n",
    "The **x-interval** must be devided into **10 equal steps**!"
   ]
  },
  {
   "cell_type": "code",
   "execution_count": 65,
   "id": "348969f5",
   "metadata": {},
   "outputs": [
    {
     "data": {
      "text/plain": [
       "array([ -36.        ,  -14.27160494,   -2.41975309,   -0.44444444,\n",
       "         -8.34567901,  -26.12345679,  -53.77777778,  -91.30864198,\n",
       "       -138.71604938, -196.        ])"
      ]
     },
     "execution_count": 65,
     "metadata": {},
     "output_type": "execute_result"
    }
   ],
   "source": [
    "import numpy as np\n",
    "\n",
    "def f(x):\n",
    "    f = (x-6)**2\n",
    "    return f\n",
    "\n",
    "x = np.linspace(0,20,10)\n",
    "\n",
    "f1 = -f(x)\n",
    "\n",
    "f1"
   ]
  },
  {
   "cell_type": "markdown",
   "id": "f7a8d554",
   "metadata": {},
   "source": [
    "**B (5P)**\n",
    "\n",
    "Create a scatter plot that shows the array f1!"
   ]
  },
  {
   "cell_type": "code",
   "execution_count": 66,
   "id": "4988f052",
   "metadata": {
    "scrolled": true
   },
   "outputs": [
    {
     "data": {
      "image/png": "[encoded data removed]",
      "text/plain": [
       "<Figure size 432x288 with 1 Axes>"
      ]
     },
     "metadata": {
      "needs_background": "light"
     },
     "output_type": "display_data"
    }
   ],
   "source": [
    "import matplotlib.pyplot as plt\n",
    "\n",
    "plt.scatter(x,f1, label='data')\n",
    "plt.legend()\n",
    "plt.show()"
   ]
  },
  {
   "cell_type": "markdown",
   "id": "40df9c40",
   "metadata": {},
   "source": [
    "**C (25P)**\n",
    "\n",
    "Now, we want to fit f1 values with a function. Fit a model function \n",
    "\n",
    "<center> $g(x) = m(x-a)^2 + b$\n",
    "    \n",
    "where **m,a,b** are the fitting parameters\n",
    "\n",
    "Print the parameter values with their errors. \n",
    "    \n",
    "Use significant decimals as you have learned in the \"Grundpraktikum\"! \n",
    "\n",
    "**(Hint: the errors can be very small)**"
   ]
  },
  {
   "cell_type": "code",
   "execution_count": 67,
   "id": "fa582bd4",
   "metadata": {
    "scrolled": true
   },
   "outputs": [
    {
     "data": {
      "image/png": "[encoded data removed]",
      "text/plain": [
       "<Figure size 432x288 with 1 Axes>"
      ]
     },
     "metadata": {
      "needs_background": "light"
     },
     "output_type": "display_data"
    },
    {
     "name": "stdout",
     "output_type": "stream",
     "text": [
      "m = -1.0000000008 ± 0.0000000005\n",
      "a = 6.0000000017 ± 0.0000000029\n",
      "b = 0.000000076 ± 0.000000006\n"
     ]
    }
   ],
   "source": [
    "import scipy.optimize as opt\n",
    "\n",
    "def model(x, m, a, b):\n",
    "    y = m*(x-a)**2 + b \n",
    "    return y\n",
    "\n",
    "parameters, covariance = opt.curve_fit(model, x, f1)\n",
    "\n",
    "fitted_m, fitted_a, fitted_b = parameters\n",
    "\n",
    "perr = np.sqrt(np.diag(covariance))\n",
    "\n",
    "fit_y = model(x, fitted_m, fitted_a, fitted_b)\n",
    "plt.scatter(x, f1, label='data')\n",
    "plt.plot(x, fit_y, '-', label='model fit', color='r', lw=3,alpha=0.7)\n",
    "plt.legend()\n",
    "plt.show()\n",
    "\n",
    "print(\"m = {:.10f} ± {:.10f}\".format(fitted_m, perr[0]))\n",
    "print(\"a = {:.10f} ± {:.10f}\".format(fitted_a, perr[1]))\n",
    "print(\"b = {:.9f} ± {:.9f}\".format(fitted_b, perr[2]))\n"
   ]
  },
  {
   "cell_type": "markdown",
   "id": "bbe83a9e",
   "metadata": {},
   "source": [
    "**D (15P)**\n",
    "\n",
    "After fitting the function, we want to find the maximum of the fitted curve. **You have to use ```scipy``` for this task!**\n",
    "\n",
    "Plot f1 again and mark the maximum!"
   ]
  },
  {
   "cell_type": "code",
   "execution_count": 68,
   "id": "39989764",
   "metadata": {
    "scrolled": true
   },
   "outputs": [
    {
     "name": "stdout",
     "output_type": "stream",
     "text": [
      "     fun: -7.574412355037558e-08\n",
      "    nfev: 10\n",
      "     nit: 4\n",
      " success: True\n",
      "       x: 6.000000001704543\n"
     ]
    },
    {
     "data": {
      "image/png": "[encoded data removed]",
      "text/plain": [
       "<Figure size 432x288 with 1 Axes>"
      ]
     },
     "metadata": {
      "needs_background": "light"
     },
     "output_type": "display_data"
    }
   ],
   "source": [
    "sol = opt.minimize_scalar(lambda x : -model(x, fitted_m, fitted_a, fitted_b))\n",
    "\n",
    "print(sol)\n",
    "\n",
    "plt.plot(x, f1)\n",
    "plt.scatter([sol.x], [sol.fun], marker='x', s=100, c='green',label='global maximum')\n",
    "plt.legend()\n",
    "plt.show()"
   ]
  },
  {
   "cell_type": "markdown",
   "id": "a08cd32e",
   "metadata": {},
   "source": [
    "# Problem 2: CERN physicist for an hour"
   ]
  },
  {
   "cell_type": "markdown",
   "id": "c19f020b",
   "metadata": {},
   "source": [
    "Phi mesons, $\\phi$(1020), are registered by their decays into two kaons.\n",
    "\n",
    "$$\\phi \\rightarrow K^- K^+$$\n",
    "\n",
    "In this task, you fit pseudo-data to find the mass of phi meson and its lifetime.\n",
    "\n",
    "The decay of short living particles, such as phi mesons, is described by Breit-Wigner formula:\n",
    "\n",
    "$$f(m) = A \\frac{m \\cdot m_\\phi \\Gamma_\\phi(m)}{(m^2 - m^2_\\phi)^2 + m^2_\\phi \\Gamma^2_\\phi(m)}$$\n",
    "\n",
    "where \n",
    "\n",
    "$$\\Gamma_\\phi = \\frac{m_\\phi}{m} \\Gamma_0 \\left (\\frac{p}{p_0}\\right )^3$$\n",
    "\n",
    "$$p = \\sqrt{\\left (\\frac{m}{2}\\right)^2 - m_K^2}$$\n",
    "\n",
    "$$p_0 = \\sqrt{\\left (\\frac{m_\\phi}{2}\\right)^2 - m_K^2}$$\n",
    "\n",
    "where \n",
    "$m_K$ = 494 MeV, kaon mass\n",
    "\n",
    "$m$ - center-of-mass energy that produces $\\phi$ meson\n",
    "\n",
    "$A$ - normalization factor that is equal to the area under the curve,\n",
    "\n",
    "$m_\\phi$ - phi meson mass,\n",
    "\n",
    "$\\Gamma_0$ - phi meson decay width. \n",
    "\n",
    "$A$, $m_\\phi$ and $\\Gamma_0$ are model parameters that describe peak.\n"
   ]
  },
  {
   "cell_type": "markdown",
   "id": "2e8046ba",
   "metadata": {},
   "source": [
    "### (A).  Check the given data  (5 P)\n",
    "\n",
    "You have are provided with two arrays cointaining information about center-of-mass energies and counts (which can be proportional to physical quantities like cross-section). Make a quick plot to check the data (but don't forget about axis labels and specifying energy units)\n"
   ]
  },
  {
   "cell_type": "code",
   "execution_count": 18,
   "id": "7cd268cc",
   "metadata": {},
   "outputs": [],
   "source": [
    "import numpy as np\n",
    "import matplotlib.pyplot as plt\n",
    "import scipy.optimize as opt"
   ]
  },
  {
   "cell_type": "code",
   "execution_count": 48,
   "id": "3f454571",
   "metadata": {},
   "outputs": [],
   "source": [
    "m = np.asarray([ 990.28571429,  992.57142857,  994.85714286,\n",
    "        997.14285714,  999.42857143, 1001.71428571, 1004.        ,\n",
    "       1006.28571429, 1008.57142857, 1010.85714286, 1013.14285714,\n",
    "       1015.42857143, 1017.71428571, 1020.        , 1022.28571429,\n",
    "       1024.57142857, 1026.85714286, 1029.14285714, 1031.42857143,\n",
    "       1033.71428571, 1036.        , 1038.28571429, 1040.57142857,\n",
    "       1042.85714286, 1045.14285714, 1047.42857143, 1049.71428571,\n",
    "       1052.        , 1054.28571429, 1056.57142857, 1058.85714286,\n",
    "       1061.14285714, 1063.42857143, 1065.71428571, 1068.        ,\n",
    "       1070.28571429, 1072.57142857, 1074.85714286, 1077.14285714,\n",
    "       1079.42857143, 1081.71428571, 1084.        , 1086.28571429,\n",
    "       1088.57142857, 1090.85714286, 1093.14285714, 1095.42857143,\n",
    "       1097.71428571, 1100.        ]) # MeV\n",
    "\n",
    "counts = np.asarray([2.31003417e-02, 7.66381726e-02, 1.67455262e-01,\n",
    "       3.11741087e-01, 5.37405428e-01, 8.93031098e-01, 1.46719670e+00,\n",
    "       2.43247872e+00, 4.15598459e+00, 7.51568994e+00, 1.49749055e+01,\n",
    "       3.51070312e+01, 1.03632842e+02, 2.16252822e+02, 1.04639025e+02,\n",
    "       4.59616350e+01, 2.54388979e+01, 1.64404712e+01, 1.17257576e+01,\n",
    "       8.93503238e+00, 7.13459944e+00, 5.89708248e+00, 5.00438128e+00,\n",
    "       4.33551917e+00, 3.81884184e+00, 3.40960414e+00, 3.07862337e+00,\n",
    "       2.80616244e+00, 2.57845502e+00, 2.38564205e+00, 2.22049899e+00,\n",
    "       2.07762447e+00, 1.95290808e+00, 1.84317215e+00, 1.74592527e+00,\n",
    "       1.65918918e+00, 1.58137500e+00, 1.51119320e+00, 1.44758725e+00,\n",
    "       1.38968394e+00, 1.33675579e+00, 1.28819224e+00, 1.24347735e+00,\n",
    "       1.20217236e+00, 1.16390196e+00, 1.12834334e+00, 1.09521741e+00,\n",
    "       1.06428173e+00, 1.03532473e+00])  # in units of 1"
   ]
  },
  {
   "cell_type": "code",
   "execution_count": 49,
   "id": "c6df63aa",
   "metadata": {},
   "outputs": [
    {
     "data": {
      "text/plain": [
       "Text(0, 0.5, 'Counts')"
      ]
     },
     "execution_count": 49,
     "metadata": {},
     "output_type": "execute_result"
    },
    {
     "data": {
      "image/png": "[encoded data removed]",
      "text/plain": [
       "<Figure size 432x288 with 1 Axes>"
      ]
     },
     "metadata": {
      "needs_background": "light"
     },
     "output_type": "display_data"
    }
   ],
   "source": [
    "# your code here\n",
    "plt.scatter(m, counts)\n",
    "plt.xlabel(\"Energy (MeV)\")\n",
    "plt.ylabel(\"Counts\")"
   ]
  },
  {
   "cell_type": "markdown",
   "id": "63b9d86b",
   "metadata": {},
   "source": [
    "### (B) Breit - Wigner distribution (12 P)\n",
    "\n",
    "Write a function that takes center-of-mass energy and model parameters (A, $m_\\phi$, $\\Gamma_0$) and returns value of $f(E)$ from the formula above. \n",
    "\n",
    "As many things in physics, Breit-Wigner distribution is not a trivial or simple function and depends on many factors which in turn are some functions of particle masses/energies. **Implement the Breit-Wigner formula carefully and double check the correspondance between written formulas and your code!**"
   ]
  },
  {
   "cell_type": "code",
   "execution_count": 50,
   "id": "713b85e7",
   "metadata": {},
   "outputs": [],
   "source": [
    "# @np.vectorize\n",
    "def BW(m,A,m0,Gamma0):\n",
    "    mK = 494\n",
    "    p = ((m/2)**2 - mK**2)**0.5\n",
    "    p0 = ((m0/2)**2 - mK**2)**0.5\n",
    "    Gamma = m0/m * Gamma0* (p/p0)**3\n",
    "    return A*m*m0*Gamma/((m**2-m0**2)**2 + m0**2*Gamma**2)"
   ]
  },
  {
   "cell_type": "markdown",
   "id": "a4adfc25",
   "metadata": {},
   "source": [
    "### (C)  Fit the data (18 P)\n",
    "\n",
    "Using ```scipy```, fit the data with the Breit-Wigner distribution. Since the parameters of the model differ even in orders of magnitude, it is required to give a starting point for a successfull fit.\n",
    "\n",
    "\n",
    "Make an _educated guess_ of where approximately the parameters may be if you know that $A$ is an area under the curve, $m_\\phi$ is the location of the peak, and $\\Gamma_0$ is the width of the peak.\n",
    "\n",
    "Print the obtined parameters with their units round to two decimal points."
   ]
  },
  {
   "cell_type": "code",
   "execution_count": 57,
   "id": "2ede5bf5",
   "metadata": {},
   "outputs": [
    {
     "name": "stdout",
     "output_type": "stream",
     "text": [
      "A: 958.00\n",
      "Phi meson mass: 1020.00 MeV\n",
      "Phi meson deay width: 4.43 MeV\n"
     ]
    },
    {
     "name": "stderr",
     "output_type": "stream",
     "text": [
      "<ipython-input-50-cd7205de99c3>:5: RuntimeWarning: invalid value encountered in double_scalars\n",
      "  p0 = ((m0/2)**2 - mK**2)**0.5\n"
     ]
    }
   ],
   "source": [
    "parameters, covariance = opt.curve_fit(BW, m, counts, p0=[500,1000,50])\n",
    "\n",
    "A_fit, mphi_fit, Gamma0_fit = parameters\n",
    "\n",
    "print(f\"A: {A_fit:.2f}\")\n",
    "print(f\"Phi meson mass: {mphi_fit:.2f} MeV\")\n",
    "print(f\"Phi meson deay width: {Gamma0_fit:.2f} MeV\")"
   ]
  },
  {
   "cell_type": "markdown",
   "id": "930d9b72",
   "metadata": {},
   "source": [
    "### (D). Plot the fit (10 P)\n",
    "\n",
    "You have obtained the values of Breit-Wigner distribution that describe the given data. Plot the data together with its fit. \n",
    "\n",
    "The plot should contain all necessary scientific information to be presented e.g. at the conference."
   ]
  },
  {
   "cell_type": "code",
   "execution_count": 64,
   "id": "1a7a30e4",
   "metadata": {},
   "outputs": [
    {
     "data": {
      "text/plain": [
       "Text(0, 0.5, 'Counts')"
      ]
     },
     "execution_count": 64,
     "metadata": {},
     "output_type": "execute_result"
    },
    {
     "data": {
      "image/png": "[encoded data removed]",
      "text/plain": [
       "<Figure size 432x288 with 1 Axes>"
      ]
     },
     "metadata": {
      "needs_background": "light"
     },
     "output_type": "display_data"
    }
   ],
   "source": [
    "fit_x = np.linspace(990,1100,100)\n",
    "fit_y = np.vectorize(BW)(fit_x,A_fit,mphi_fit,Gamma0_fit)\n",
    "\n",
    "plt.scatter(m, counts, color='k',label='measured data')\n",
    "plt.plot(fit_x, fit_y,color='r', label = 'Breit-Wigner fit')\n",
    "plt.grid()\n",
    "plt.legend()\n",
    "plt.xlabel(\"Energy (MeV)\")\n",
    "plt.ylabel(\"Counts\")"
   ]
  },
  {
   "cell_type": "markdown",
   "id": "14ea6d46",
   "metadata": {},
   "source": [
    "### (E). Comparing to the previously measured values ( 1 + 4 P)"
   ]
  },
  {
   "cell_type": "markdown",
   "id": "93f892db",
   "metadata": {},
   "source": [
    "Particle Data Group provides avarage value of the mass of $\\phi$ meson as\n",
    "\n",
    "$$m_\\phi = 1019.455 \\; \\pm 0.020 \\; \\textrm{MeV}$$\n",
    "\n",
    "Compare this to the corresponding parameter of your fit."
   ]
  },
  {
   "cell_type": "code",
   "execution_count": 55,
   "id": "dba51d62",
   "metadata": {},
   "outputs": [
    {
     "name": "stdout",
     "output_type": "stream",
     "text": [
      "1020.00\n"
     ]
    }
   ],
   "source": [
    "# your comment about comparison here\n",
    "print(f\"{mphi_fit:.2f}\")\n",
    "# The obtained fit value is close to the PDG value"
   ]
  },
  {
   "cell_type": "markdown",
   "id": "07457bc4",
   "metadata": {},
   "source": [
    "Lifetime of a particle is another important characteristics alongside its mass. The lifetime is connected to the particle decay width (same as one of the model parameters) as\n",
    "\n",
    "$$\\Gamma = \\hbar/\\tau$$\n",
    "\n",
    "where $\\hbar = \\frac{h}{2\\pi}$ is Dirac constant.\n",
    "\n",
    "Calculate lifetime of $\\phi$ meson and compare it to the mean value of previous measuments which is $1.55 \\pm 0.01 \\times 10^{-22}$ s.\n",
    "\n",
    "_Don't forget that your decay width has units of MeV!_"
   ]
  },
  {
   "cell_type": "code",
   "execution_count": 47,
   "id": "58e713f0",
   "metadata": {},
   "outputs": [
    {
     "name": "stdout",
     "output_type": "stream",
     "text": [
      "1.5450704225352234e-22\n"
     ]
    }
   ],
   "source": [
    "# your code here\n",
    "\n",
    "tau = 6.582e-16/(fitted_Gamma0*1e6) \n",
    "print(tau)\n",
    "\n",
    "# the calculated value is close to the mean value of previous measurments"
   ]
  }
 ],
 "metadata": {
  "kernelspec": {
   "display_name": "Python 3",
   "language": "python",
   "name": "python3"
  },
  "language_info": {
   "codemirror_mode": {
    "name": "ipython",
    "version": 3
   },
   "file_extension": ".py",
   "mimetype": "text/x-python",
   "name": "python",
   "nbconvert_exporter": "python",
   "pygments_lexer": "ipython3",
   "version": "3.8.8"
  }
 },
 "nbformat": 4,
 "nbformat_minor": 5
}
