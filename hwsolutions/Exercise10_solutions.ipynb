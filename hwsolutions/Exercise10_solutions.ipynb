{
 "cells": [
  {
   "cell_type": "markdown",
   "id": "64c160d4",
   "metadata": {},
   "source": [
    "# Problem 1: One day at GAFO 03/378 "
   ]
  },
  {
   "cell_type": "markdown",
   "id": "ef449143",
   "metadata": {},
   "source": [
    "GAFO 03/378 is an office where Frederike and Anastasiia are working on theoretical models of how neutrinos are emitted from a special class of astrphysical sources called blazars. A task that is proposed to you is inspired by a real-physicist-life example. "
   ]
  },
  {
   "cell_type": "markdown",
   "id": "c9729783",
   "metadata": {},
   "source": [
    "Neutrinos are neutral particles that interact only weakly and have very litte mass. Therefore, they are perfect \"messengers\" that can carry information from the far ends of the Universe. The flip side of the coin is that they are hard to detect and require the detectors of enourmous size."
   ]
  },
  {
   "cell_type": "markdown",
   "id": "68d95a39",
   "metadata": {},
   "source": [
    "Let's assume that your theory predicts a spectrum of neutrinos coming from some distant source. Now many neutrino events (i.e. detected neutrinos) will that create in the detector like IceCube? We can estimate this as"
   ]
  },
  {
   "cell_type": "markdown",
   "id": "710eb7e4",
   "metadata": {},
   "source": [
    "$$N_\\nu = \\frac{1}{3} \\cdot T \\cdot \\int \\Phi_\\nu (E) \\; A_{\\textrm{eff}}(E)\\; \\textrm{d}E$$"
   ]
  },
  {
   "cell_type": "markdown",
   "id": "a5e22a40",
   "metadata": {},
   "source": [
    "where:\n",
    "\n",
    "$N_\\nu$ is the expected number of the neutrino events;\n",
    "\n",
    "$T$ is a time of observation or duration of neutrino signal if it was observed completely;\n",
    "\n",
    "$\\Phi_\\nu$ is neutrino flux as a function of energy, also called neutrino spectrum;\n",
    "\n",
    "$A_{\\textrm{eff}}$  is effective area of the detector (in our case IceCube), this parameter describes the efficency of the detector in detecting a muon neutrino with energy $E$;\n",
    "\n",
    "$E$ is the neutrino energy."
   ]
  },
  {
   "cell_type": "markdown",
   "id": "aeec305c",
   "metadata": {},
   "source": [
    "If you're curious why 1/3 appears in the formula, the answer is following: neutrino oscillations. Neutrinos from far sources travel so long distances that when they arrive at Earth highly mixed, their flavor composition is $\\nu_e : \\nu_\\mu : \\nu_\\tau = 1:1:1$ no matter what was their composition at the source. Most of the detectors, hovewer, are very sensitive to only one flavor and have much worse sensitivity to all other flavors, therefore, it is roughly the same at taking only 1/3 of all-flavor neutrino flux."
   ]
  },
  {
   "cell_type": "markdown",
   "id": "6197a042",
   "metadata": {},
   "source": [
    "## (A) Prepare you input data - 8P"
   ]
  },
  {
   "cell_type": "markdown",
   "id": "284224a6",
   "metadata": {},
   "source": [
    "There are two files provided with this homework: ```IceCube_effective_area.csv``` and ```neutrino_spectrum_hw10.csv```. The first one contains two columns corresponding to the neutrino energy in __TeV__ and effective area in __m$^2$__ respectively. The second one has information on neutrino energy (first column, __eV__) and neutrino flux (second column, __erg/cm$^2$/s__).\n",
    "\n",
    "\n",
    "Read these two file with ```pandas```. If the headers are missing, give the column names manually so that the first data raw is not interpreted as column names.\n",
    "\n",
    "Make a plot for each data file in log-log scale to check what you're given (axes labels as always is a minimum requirement to show the plot to other people)"
   ]
  },
  {
   "cell_type": "code",
   "execution_count": 3,
   "id": "ba3e3779",
   "metadata": {
    "tags": []
   },
   "outputs": [],
   "source": [
    "import numpy as np\n",
    "import pandas as pd\n",
    "import matplotlib.pyplot as plt\n",
    "\n",
    "import scipy.interpolate\n",
    "import scipy.integrate"
   ]
  },
  {
   "cell_type": "code",
   "execution_count": 4,
   "id": "326b6643",
   "metadata": {
    "tags": []
   },
   "outputs": [],
   "source": [
    "df=pd.read_csv(\"IceCube_effective_area.csv\",header=None, names=['energy','Aeff'])"
   ]
  },
  {
   "cell_type": "code",
   "execution_count": 5,
   "id": "02758055",
   "metadata": {
    "tags": []
   },
   "outputs": [
    {
     "data": {
      "text/html": [
       "<div>\n",
       "<style scoped>\n",
       "    .dataframe tbody tr th:only-of-type {\n",
       "        vertical-align: middle;\n",
       "    }\n",
       "\n",
       "    .dataframe tbody tr th {\n",
       "        vertical-align: top;\n",
       "    }\n",
       "\n",
       "    .dataframe thead th {\n",
       "        text-align: right;\n",
       "    }\n",
       "</style>\n",
       "<table border=\"1\" class=\"dataframe\">\n",
       "  <thead>\n",
       "    <tr style=\"text-align: right;\">\n",
       "      <th></th>\n",
       "      <th>energy</th>\n",
       "      <th>Aeff</th>\n",
       "    </tr>\n",
       "  </thead>\n",
       "  <tbody>\n",
       "    <tr>\n",
       "      <th>0</th>\n",
       "      <td>0.177369</td>\n",
       "      <td>0.002167</td>\n",
       "    </tr>\n",
       "    <tr>\n",
       "      <th>1</th>\n",
       "      <td>0.223947</td>\n",
       "      <td>0.004913</td>\n",
       "    </tr>\n",
       "    <tr>\n",
       "      <th>2</th>\n",
       "      <td>0.287122</td>\n",
       "      <td>0.010291</td>\n",
       "    </tr>\n",
       "    <tr>\n",
       "      <th>3</th>\n",
       "      <td>0.362425</td>\n",
       "      <td>0.019918</td>\n",
       "    </tr>\n",
       "    <tr>\n",
       "      <th>4</th>\n",
       "      <td>0.443496</td>\n",
       "      <td>0.035612</td>\n",
       "    </tr>\n",
       "    <tr>\n",
       "      <th>...</th>\n",
       "      <td>...</td>\n",
       "      <td>...</td>\n",
       "    </tr>\n",
       "    <tr>\n",
       "      <th>62</th>\n",
       "      <td>279868.913786</td>\n",
       "      <td>2455.283757</td>\n",
       "    </tr>\n",
       "    <tr>\n",
       "      <th>63</th>\n",
       "      <td>381344.932570</td>\n",
       "      <td>2955.554100</td>\n",
       "    </tr>\n",
       "    <tr>\n",
       "      <th>64</th>\n",
       "      <td>544151.023615</td>\n",
       "      <td>3118.282649</td>\n",
       "    </tr>\n",
       "    <tr>\n",
       "      <th>65</th>\n",
       "      <td>696883.376939</td>\n",
       "      <td>3377.113949</td>\n",
       "    </tr>\n",
       "    <tr>\n",
       "      <th>66</th>\n",
       "      <td>865322.287287</td>\n",
       "      <td>3657.170285</td>\n",
       "    </tr>\n",
       "  </tbody>\n",
       "</table>\n",
       "<p>67 rows × 2 columns</p>\n",
       "</div>"
      ],
      "text/plain": [
       "           energy         Aeff\n",
       "0        0.177369     0.002167\n",
       "1        0.223947     0.004913\n",
       "2        0.287122     0.010291\n",
       "3        0.362425     0.019918\n",
       "4        0.443496     0.035612\n",
       "..            ...          ...\n",
       "62  279868.913786  2455.283757\n",
       "63  381344.932570  2955.554100\n",
       "64  544151.023615  3118.282649\n",
       "65  696883.376939  3377.113949\n",
       "66  865322.287287  3657.170285\n",
       "\n",
       "[67 rows x 2 columns]"
      ]
     },
     "execution_count": 5,
     "metadata": {},
     "output_type": "execute_result"
    }
   ],
   "source": [
    "df"
   ]
  },
  {
   "cell_type": "code",
   "execution_count": 6,
   "id": "1a0286e3",
   "metadata": {
    "tags": []
   },
   "outputs": [
    {
     "data": {
      "text/plain": [
       "Text(0, 0.5, '$A_{eff}$, [$\\\\mathrm{m}^2$]')"
      ]
     },
     "execution_count": 6,
     "metadata": {},
     "output_type": "execute_result"
    },
    {
     "data": {
      "image/png": "[encoded data removed]",
      "text/plain": [
       "<Figure size 432x288 with 1 Axes>"
      ]
     },
     "metadata": {
      "needs_background": "light"
     },
     "output_type": "display_data"
    }
   ],
   "source": [
    "plt.scatter(df['energy']*1e12, df['Aeff'])\n",
    "plt.xscale('log')\n",
    "plt.yscale('log')\n",
    "plt.xlabel(r'$E_\\nu$, [eV]')\n",
    "plt.ylabel(r'$A_{eff}$, [$\\mathrm{m}^2$]')"
   ]
  },
  {
   "cell_type": "code",
   "execution_count": 13,
   "id": "06f34824",
   "metadata": {
    "tags": []
   },
   "outputs": [],
   "source": [
    "nu = pd.read_csv(\"neutrino_spectrum_hw10.csv\")"
   ]
  },
  {
   "cell_type": "code",
   "execution_count": 14,
   "id": "b53c4c8b",
   "metadata": {},
   "outputs": [
    {
     "data": {
      "text/html": [
       "<div>\n",
       "<style scoped>\n",
       "    .dataframe tbody tr th:only-of-type {\n",
       "        vertical-align: middle;\n",
       "    }\n",
       "\n",
       "    .dataframe tbody tr th {\n",
       "        vertical-align: top;\n",
       "    }\n",
       "\n",
       "    .dataframe thead th {\n",
       "        text-align: right;\n",
       "    }\n",
       "</style>\n",
       "<table border=\"1\" class=\"dataframe\">\n",
       "  <thead>\n",
       "    <tr style=\"text-align: right;\">\n",
       "      <th></th>\n",
       "      <th>E_eV</th>\n",
       "      <th>F_erg/cm^2/s</th>\n",
       "    </tr>\n",
       "  </thead>\n",
       "  <tbody>\n",
       "    <tr>\n",
       "      <th>0</th>\n",
       "      <td>1.215288e+09</td>\n",
       "      <td>7.996561e-21</td>\n",
       "    </tr>\n",
       "    <tr>\n",
       "      <th>1</th>\n",
       "      <td>1.343101e+09</td>\n",
       "      <td>9.767014e-21</td>\n",
       "    </tr>\n",
       "    <tr>\n",
       "      <th>2</th>\n",
       "      <td>1.484356e+09</td>\n",
       "      <td>1.192945e-20</td>\n",
       "    </tr>\n",
       "    <tr>\n",
       "      <th>3</th>\n",
       "      <td>1.640467e+09</td>\n",
       "      <td>1.457065e-20</td>\n",
       "    </tr>\n",
       "    <tr>\n",
       "      <th>4</th>\n",
       "      <td>1.812997e+09</td>\n",
       "      <td>1.779661e-20</td>\n",
       "    </tr>\n",
       "    <tr>\n",
       "      <th>...</th>\n",
       "      <td>...</td>\n",
       "      <td>...</td>\n",
       "    </tr>\n",
       "    <tr>\n",
       "      <th>309</th>\n",
       "      <td>3.194322e+22</td>\n",
       "      <td>0.000000e+00</td>\n",
       "    </tr>\n",
       "    <tr>\n",
       "      <th>310</th>\n",
       "      <td>3.530272e+22</td>\n",
       "      <td>0.000000e+00</td>\n",
       "    </tr>\n",
       "    <tr>\n",
       "      <th>311</th>\n",
       "      <td>3.901554e+22</td>\n",
       "      <td>0.000000e+00</td>\n",
       "    </tr>\n",
       "    <tr>\n",
       "      <th>312</th>\n",
       "      <td>4.311884e+22</td>\n",
       "      <td>0.000000e+00</td>\n",
       "    </tr>\n",
       "    <tr>\n",
       "      <th>313</th>\n",
       "      <td>4.765369e+22</td>\n",
       "      <td>0.000000e+00</td>\n",
       "    </tr>\n",
       "  </tbody>\n",
       "</table>\n",
       "<p>314 rows × 2 columns</p>\n",
       "</div>"
      ],
      "text/plain": [
       "             E_eV  F_erg/cm^2/s\n",
       "0    1.215288e+09  7.996561e-21\n",
       "1    1.343101e+09  9.767014e-21\n",
       "2    1.484356e+09  1.192945e-20\n",
       "3    1.640467e+09  1.457065e-20\n",
       "4    1.812997e+09  1.779661e-20\n",
       "..            ...           ...\n",
       "309  3.194322e+22  0.000000e+00\n",
       "310  3.530272e+22  0.000000e+00\n",
       "311  3.901554e+22  0.000000e+00\n",
       "312  4.311884e+22  0.000000e+00\n",
       "313  4.765369e+22  0.000000e+00\n",
       "\n",
       "[314 rows x 2 columns]"
      ]
     },
     "execution_count": 14,
     "metadata": {},
     "output_type": "execute_result"
    }
   ],
   "source": [
    "nu"
   ]
  },
  {
   "cell_type": "code",
   "execution_count": 16,
   "id": "da765578",
   "metadata": {
    "scrolled": true,
    "tags": []
   },
   "outputs": [
    {
     "data": {
      "text/plain": [
       "Text(0, 0.5, '$F$, [erg$\\\\cdot$cm$^{-2}\\\\cdot$s$^{-1}$]')"
      ]
     },
     "execution_count": 16,
     "metadata": {},
     "output_type": "execute_result"
    },
    {
     "data": {
      "image/png": "[encoded data removed]",
      "text/plain": [
       "<Figure size 432x288 with 1 Axes>"
      ]
     },
     "metadata": {
      "needs_background": "light"
     },
     "output_type": "display_data"
    }
   ],
   "source": [
    "plt.scatter(nu[\"E_eV\"], nu[\"F_erg/cm^2/s\"])\n",
    "plt.xscale('log')\n",
    "plt.yscale('log')\n",
    "plt.xlabel(r'$E_\\nu$, [eV]')\n",
    "plt.ylabel(r'$F$, [erg$\\cdot$cm$^{-2}\\cdot$s$^{-1}$]')"
   ]
  },
  {
   "cell_type": "markdown",
   "id": "02f8e554",
   "metadata": {},
   "source": [
    "## (B) Units conversion and interpolation - 15 P"
   ]
  },
  {
   "cell_type": "markdown",
   "id": "6ef7a643",
   "metadata": {},
   "source": [
    "Both your data files consist of points. What happens if you need value of the effective area at $E_\\nu$ = _X_ eV but this point is not in the given array? Right, interpolation!\n",
    "\n",
    "Make two functions that interpolate given data and that will be used in your integration. Before you rush into implementing them, consider following:\n",
    "\n",
    "$$N_\\nu (\\textrm{dimensionless}) = \\frac{1}{3} \\cdot T \\, \\textrm{[s]} \\cdot \\int \\Phi_\\nu \\, \\left[\\frac{\\textrm{erg}}{\\textrm{cm}^2 \\cdot \\textrm{s}} \\right] \\; A_{\\textrm{eff}} \\,[\\textrm{m}^2] \\textrm{d}E \\,[\\textrm{eV}] $$\n",
    "\n",
    "It doesn't seem to work because the energy units don't cancel out, right? So the correct way to do the integration is to change flux units (and corresponding values) to\n",
    "\n",
    "$$N_\\nu (\\textrm{dimensionless}) = \\frac{1}{3} \\cdot T \\, \\textrm{[s]} \\cdot \\int \\frac{\\Phi_\\nu}{E^2} \\, \\left[\\frac{\\textrm{erg}}{\\textrm{cm}^2 \\cdot \\textrm{s} \\cdot \\textrm{eV}^2} \\right] \\; A_{\\textrm{eff}} \\,[\\textrm{m}^2] \\textrm{d}E \\,[\\textrm{eV}] $$\n",
    "\n",
    "Use \n",
    "$$1 \\textrm{m}^2 = 10^4\\, \\textrm{cm}^2$$\n",
    "and\n",
    "$$1 \\textrm{erg} = 6.242 \\cdot 10^{11}\\, \\textrm{eV}$$\n",
    "\n",
    "to unify the units of the expression under the integral."
   ]
  },
  {
   "cell_type": "markdown",
   "id": "ebff1ff2",
   "metadata": {},
   "source": [
    "Make two functions:\n",
    "1. Interpolated value of $\\Phi_\\nu/E^2$ (that depends on neutrino energy in eV)\n",
    "2. Interpolated value of $A_{\\textrm{eff}}$ in cm$^2$ (that depends on neutrino energy in eV)"
   ]
  },
  {
   "cell_type": "code",
   "execution_count": 18,
   "id": "2a796fc4",
   "metadata": {
    "tags": []
   },
   "outputs": [],
   "source": [
    "flux = scipy.interpolate.interp1d(nu[\"E_eV\"], (nu[\"F_erg/cm^2/s\"]*6.242e+11)/(nu[\"E_eV\"])**2, fill_value=\"extrapolate\")\n",
    "a_eff = scipy.interpolate.interp1d(df['energy']*1e12, df['Aeff']*1e4, fill_value=\"extrapolate\")"
   ]
  },
  {
   "cell_type": "code",
   "execution_count": 19,
   "id": "c084d49a-82cd-4d1e-a4e0-b3eab4b6011e",
   "metadata": {
    "tags": []
   },
   "outputs": [
    {
     "data": {
      "text/plain": [
       "Text(0, 0.5, '$F/E^2$, [eV$^{-1}\\\\cdot$cm$^{-2}\\\\cdot$s$^{-1}$]')"
      ]
     },
     "execution_count": 19,
     "metadata": {},
     "output_type": "execute_result"
    },
    {
     "data": {
      "image/png": "[encoded data removed]",
      "text/plain": [
       "<Figure size 432x288 with 1 Axes>"
      ]
     },
     "metadata": {
      "needs_background": "light"
     },
     "output_type": "display_data"
    }
   ],
   "source": [
    "# just for checking\n",
    "x = np.logspace(8,22)\n",
    "plt.plot(x, flux(x))\n",
    "plt.xscale('log')\n",
    "plt.yscale('log')\n",
    "plt.xlabel(r'$E_\\nu$, [eV]')\n",
    "plt.ylabel(r'$F/E^2$, [eV$^{-1}\\cdot$cm$^{-2}\\cdot$s$^{-1}$]')"
   ]
  },
  {
   "cell_type": "code",
   "execution_count": 20,
   "id": "3c2023ca-8358-48a4-aab7-684a8050aa98",
   "metadata": {
    "tags": []
   },
   "outputs": [
    {
     "data": {
      "text/plain": [
       "Text(0, 0.5, '$A_{eff}$, [$\\\\mathrm{m}^2$]')"
      ]
     },
     "execution_count": 20,
     "metadata": {},
     "output_type": "execute_result"
    },
    {
     "data": {
      "image/png": "[encoded data removed]",
      "text/plain": [
       "<Figure size 432x288 with 1 Axes>"
      ]
     },
     "metadata": {
      "needs_background": "light"
     },
     "output_type": "display_data"
    }
   ],
   "source": [
    "#just for checking\n",
    "x = np.logspace(11,18)\n",
    "plt.plot(x, a_eff(x))\n",
    "plt.xscale('log')\n",
    "plt.yscale('log')\n",
    "plt.xlabel(r'$E_\\nu$, [eV]')\n",
    "plt.ylabel(r'$A_{eff}$, [$\\mathrm{m}^2$]')"
   ]
  },
  {
   "cell_type": "markdown",
   "id": "261cc041",
   "metadata": {},
   "source": [
    "## (C)  Trapezoid integration - 12 P"
   ]
  },
  {
   "cell_type": "markdown",
   "id": "2672fd4e",
   "metadata": {},
   "source": [
    "Time to integrate! Make an array of 100 neutrino energies equally spaced in logarithmical space between $10^{13}$ eV and $10^{18}$ eV and calculate the integral using trapezoid.\n",
    "\n",
    "Assume the same neutrino spectrum was emitted for 5 days. Find (and print out!) the expected number of neutrino events in IceCube during this time. "
   ]
  },
  {
   "cell_type": "code",
   "execution_count": 21,
   "id": "efe01174",
   "metadata": {
    "tags": []
   },
   "outputs": [
    {
     "name": "stdout",
     "output_type": "stream",
     "text": [
      "Number of neutrino events:  1.0962388166951456\n"
     ]
    }
   ],
   "source": [
    "e = np.logspace(13,18,100)\n",
    "\n",
    "integral = flux(e)*a_eff(e)\n",
    "\n",
    "print(r\"Number of neutrino events: \", np.trapz(integral,e)*5*24*60*60/3)"
   ]
  },
  {
   "cell_type": "markdown",
   "id": "c2142c33",
   "metadata": {},
   "source": [
    "## (D) Quad integration - 15 P\n",
    "\n",
    "Calculate the same integral from $10^{13}$ eV to $10^{18}$ eV using ```quad```. __Use here lambda function!__\n",
    "Find (and print out!) the same number of expected neutrino events with 5 days of emission duration."
   ]
  },
  {
   "cell_type": "code",
   "execution_count": 22,
   "id": "aa77c2c4",
   "metadata": {
    "tags": []
   },
   "outputs": [],
   "source": [
    "integral2 = scipy.integrate.quad(lambda x: flux(x)*a_eff(x),1e13, 1e18)"
   ]
  },
  {
   "cell_type": "code",
   "execution_count": 23,
   "id": "778de401",
   "metadata": {
    "tags": []
   },
   "outputs": [
    {
     "data": {
      "text/plain": [
       "(7.5953144227811515e-06, 1.082455118360771e-08)"
      ]
     },
     "execution_count": 23,
     "metadata": {},
     "output_type": "execute_result"
    }
   ],
   "source": [
    "integral2"
   ]
  },
  {
   "cell_type": "code",
   "execution_count": 24,
   "id": "9984eb85",
   "metadata": {
    "tags": []
   },
   "outputs": [
    {
     "name": "stdout",
     "output_type": "stream",
     "text": [
      "Number of neutrino events:  1.093725276880486\n"
     ]
    }
   ],
   "source": [
    "print(\"Number of neutrino events: \", integral2[0]*5*24*60*60/3)"
   ]
  },
  {
   "cell_type": "markdown",
   "id": "79ab2813",
   "metadata": {},
   "source": [
    "If you did calculations correctly, you have predicted one neutrino in IceCube! At this point usually it either was already found and your theory agrees with the observations or it was not found yet and you ping Giacomo to double check..."
   ]
  },
  {
   "cell_type": "markdown",
   "id": "8e2e24fb-67d8-4f53-acab-da7009159ff3",
   "metadata": {},
   "source": [
    "# Problem 2: Wird Bochum auch in Zukunft kalt bleiben? (Will Bochum remain cold in the future?)"
   ]
  },
  {
   "cell_type": "markdown",
   "id": "4d1de8c5-b0cb-4083-b6ea-8abcb0bbdc85",
   "metadata": {},
   "source": [
    "In this exercise will will statistically analyze the temperatures in Bochum in January today and in an hypothetic warmer future."
   ]
  },
  {
   "cell_type": "markdown",
   "id": "a56b8419-20c2-473d-a1c8-1fbc99fa60d2",
   "metadata": {},
   "source": [
    "## (A) Plot the distribution - 8P\n",
    "For this exercise, assume that the temperature during a day in January in Bochum follows a Gaussian distribution. Let this Gaussian be centered at 2.5 degrees with a standard deviation of 2.5 degrees. Plot the distribution and explicitly showing mean and standard deviation values as vertical lines on the plot. Don't forget the axis labels."
   ]
  },
  {
   "cell_type": "code",
   "execution_count": 28,
   "id": "a00b22d5-f75c-4d8f-863a-43809f0fbc6f",
   "metadata": {
    "tags": []
   },
   "outputs": [
    {
     "data": {
      "text/plain": [
       "<matplotlib.legend.Legend at 0x7f01f7ea64c0>"
      ]
     },
     "execution_count": 28,
     "metadata": {},
     "output_type": "execute_result"
    },
    {
     "data": {
      "image/png": "[encoded data removed]",
      "text/plain": [
       "<Figure size 432x288 with 1 Axes>"
      ]
     },
     "metadata": {
      "needs_background": "light"
     },
     "output_type": "display_data"
    }
   ],
   "source": [
    "# Your code here\n",
    "\n",
    "from scipy.stats import norm\n",
    "\n",
    "temperatures = np.linspace(-10,15,200)\n",
    "t_pdf = norm.pdf(temperatures, loc=2.5, scale=2.5)\n",
    "t_std = norm.std(loc=2.5, scale=2.5)\n",
    "t_m = norm.mean(loc=2.5, scale=2.5)\n",
    "\n",
    "plt.plot(temperatures, t_pdf)\n",
    "plt.axvline(t_m, linestyle='--', color='black', label='Mean')\n",
    "plt.axvline(t_m+t_std, linestyle='dotted', color='red', label = 'Standard deviation')\n",
    "plt.axvline(t_m-t_std, linestyle='dotted', color='red')\n",
    "\n",
    "plt.xlabel(r'Temperature [$^\\circ$C]')\n",
    "plt.ylabel(r'pdf')\n",
    "\n",
    "plt.legend()"
   ]
  },
  {
   "cell_type": "markdown",
   "id": "7e64531f-52e1-4a09-85d0-14f44c1aedc8",
   "metadata": {},
   "source": [
    "## (B) Extremes probabilities - 5P\n",
    "How many days would we expect on average in __January__ (31 days) with an average temperature lower than 0 degrees? And higher than 6 degrees? This number must be an integer."
   ]
  },
  {
   "cell_type": "code",
   "execution_count": 29,
   "id": "dea6cdd1-3abb-4066-957a-c5de9f2af493",
   "metadata": {
    "tags": []
   },
   "outputs": [
    {
     "name": "stdout",
     "output_type": "stream",
     "text": [
      "In January we would expect 5 days with less than 0 degrees as average temperature and 3 days with more than 6 degress\n"
     ]
    }
   ],
   "source": [
    "# Your code here\n",
    "\n",
    "days_less_0 = round(31*norm.cdf(0, loc=2.5, scale=2.5))\n",
    "days_more_6 = round(31*(1-norm.cdf(6, loc=2.5, scale=2.5)))\n",
    "print(f\"In January we would expect {days_less_0} days with less than 0 degrees as average temperature and {days_more_6} days with more than 6 degress\")"
   ]
  },
  {
   "cell_type": "markdown",
   "id": "32469ed5-6bf3-4669-b4b8-29684335b77c",
   "metadata": {},
   "source": [
    "## (C) Probability for different extremes - 7P\n",
    "You just found the average number of days that we would expect with an average temperature below 0 degrees in January in Bochum. Nevertheless, it is very likely that the exact number of days with such temperatures is different for different years. We can quantify the probability of having a different number of days. Find the probability of having in January more than 7 days with an average temperature below 0 degrees \n",
    "\n",
    "_Suggestion 1: You might find useful the Poisson distribution._ \n",
    "\n",
    "_Suggestion 2: Use the function `cdf()` with the Poisson distribution._\n",
    "\n",
    "_Suggestion 3: If the two previous suggestions did not help and statistics is not your strong side, feel free to write an email to your tutor (or come to the tutorial!); we will provide you general explanations but will not help with the actudal code._\n"
   ]
  },
  {
   "cell_type": "code",
   "execution_count": 30,
   "id": "e7ee962f-d815-4524-889b-83eb5295a371",
   "metadata": {
    "tags": []
   },
   "outputs": [
    {
     "name": "stdout",
     "output_type": "stream",
     "text": [
      "Probability of having more than 7 days with less than 0 degrees as average temperature: 13.3%\n"
     ]
    }
   ],
   "source": [
    "# Your code here\n",
    "\n",
    "from scipy.stats import poisson\n",
    "\n",
    "mu = days_less_0\n",
    "print(f\"Probability of having more than 7 days with less than 0 degrees as average temperature: {(1-poisson.cdf(7,mu))*100:.3}%\")"
   ]
  },
  {
   "cell_type": "markdown",
   "id": "30383512-1252-4610-b914-4c54ef9c5859",
   "metadata": {},
   "source": [
    "## (D) Plot the Poisson distribution - 5P\n",
    "Plot the Poisson distribution that you used for the task (C). Remember the labels for the axes."
   ]
  },
  {
   "cell_type": "code",
   "execution_count": 31,
   "id": "d2c0d70c-93a4-4532-b599-edd224ccf7fb",
   "metadata": {
    "tags": []
   },
   "outputs": [
    {
     "data": {
      "text/plain": [
       "Text(0, 0.5, 'Probability')"
      ]
     },
     "execution_count": 31,
     "metadata": {},
     "output_type": "execute_result"
    },
    {
     "data": {
      "image/png": "[encoded data removed]",
      "text/plain": [
       "<Figure size 432x288 with 1 Axes>"
      ]
     },
     "metadata": {
      "needs_background": "light"
     },
     "output_type": "display_data"
    }
   ],
   "source": [
    "# Your code here\n",
    "\n",
    "x = np.linspace(-2,25, dtype=int)\n",
    "\n",
    "plt.step(x, poisson.pmf(x, mu), where = 'post', label = f\"$\\mu$ = {mu}\")\n",
    "plt.xlabel('Days with less than 0 degrees as average temperature')\n",
    "plt.ylabel('Probability')"
   ]
  },
  {
   "cell_type": "markdown",
   "id": "4362e62b-a33a-4b1b-9ee9-12036bbd455e",
   "metadata": {},
   "source": [
    "## (E) A look in the future - 10P\n",
    "We will assume that in the future the average of the average temperature in a day in January will increase by 1.5 degrees because of the climate change. Additionally, at the same time the standard deviation of this distribution will increase by 2.5 degrees. Plot again the gaussian for the daily averages temperatures in January. How has it changed? How do the expected number of days with less than 0 degrees and more than 6 degrees in January change?"
   ]
  },
  {
   "cell_type": "code",
   "execution_count": 32,
   "id": "cbf26bd4-6854-4770-861a-6d5994d3fb1d",
   "metadata": {
    "tags": []
   },
   "outputs": [
    {
     "data": {
      "text/plain": [
       "<matplotlib.lines.Line2D at 0x7f01f7e01ca0>"
      ]
     },
     "execution_count": 32,
     "metadata": {},
     "output_type": "execute_result"
    },
    {
     "data": {
      "image/png": "[encoded data removed]",
      "text/plain": [
       "<Figure size 432x288 with 1 Axes>"
      ]
     },
     "metadata": {
      "needs_background": "light"
     },
     "output_type": "display_data"
    }
   ],
   "source": [
    "# Your code here\n",
    "\n",
    "temperatures = np.linspace(-10,15,200)\n",
    "loc = 4\n",
    "scale = 5\n",
    "\n",
    "t_pdf = norm.pdf(temperatures, loc=loc, scale=scale)\n",
    "t_std = norm.std(loc=loc, scale=scale)\n",
    "t_m = norm.mean(loc=loc, scale=scale)\n",
    "\n",
    "plt.plot(temperatures, t_pdf)\n",
    "plt.axvline(t_m, linestyle='--', color='black')\n",
    "plt.axvline(t_m+t_std, linestyle='dotted', color='red')\n",
    "plt.axvline(t_m-t_std, linestyle='dotted', color='red')"
   ]
  },
  {
   "cell_type": "code",
   "execution_count": 33,
   "id": "f3cfa798-ed32-4677-b0ed-02a4983f6ffb",
   "metadata": {
    "tags": []
   },
   "outputs": [
    {
     "name": "stdout",
     "output_type": "stream",
     "text": [
      "In January we would expect 7 days with less than 0 degrees as average temperature and 11 days with more than 6 degress\n"
     ]
    }
   ],
   "source": [
    "days_less_0 = round(31*norm.cdf(0, loc=loc, scale=scale))\n",
    "days_more_6 = round(31*(1-norm.cdf(6, loc=loc, scale=scale)))\n",
    "\n",
    "print(f\"In January we would expect {days_less_0} days with less than 0 degrees as average temperature and {days_more_6} days with more than 6 degress\")"
   ]
  },
  {
   "cell_type": "markdown",
   "id": "badfe28c-814c-4db7-b3e9-0f74456fdabe",
   "metadata": {},
   "source": [
    "## (F) A new Poisson distribution - 15P\n",
    "Repeat point (C) and (D) but considering the Bochum of the future. Plot the old and the new Poisson distribution together in the same axes. How has the Poisson distribution changed? How do you interpet the new results?"
   ]
  },
  {
   "cell_type": "code",
   "execution_count": 34,
   "id": "c34560db-00d0-43af-9f85-7b7a0dac505e",
   "metadata": {
    "tags": []
   },
   "outputs": [
    {
     "name": "stdout",
     "output_type": "stream",
     "text": [
      "Probability of having more than 7 days with less than 0 degrees as average temperature: 40.1%\n"
     ]
    }
   ],
   "source": [
    "# Your code here\n",
    "\n",
    "mu_new = days_less_0\n",
    "print(f\"Probability of having more than 7 days with less than 0 degrees as average temperature: {(1-poisson.cdf(7,mu_new))*100:.3}%\")"
   ]
  },
  {
   "cell_type": "code",
   "execution_count": 35,
   "id": "70b53378-54e9-48e3-b5bd-679386616ee5",
   "metadata": {
    "tags": []
   },
   "outputs": [
    {
     "data": {
      "text/plain": [
       "<matplotlib.legend.Legend at 0x7f01f7ddcf10>"
      ]
     },
     "execution_count": 35,
     "metadata": {},
     "output_type": "execute_result"
    },
    {
     "data": {
      "image/png": "[encoded data removed]",
      "text/plain": [
       "<Figure size 432x288 with 1 Axes>"
      ]
     },
     "metadata": {
      "needs_background": "light"
     },
     "output_type": "display_data"
    }
   ],
   "source": [
    "x = np.linspace(-2,25, dtype=int)\n",
    "\n",
    "mu\n",
    "plt.step(x, poisson.pmf(x, mu), where = 'post', label=\"today\")\n",
    "plt.step(x, poisson.pmf(x, mu_new), where = 'post', label=\"future\")\n",
    "plt.xlabel('Days with lass than 0 degrees as average temperature')\n",
    "plt.ylabel('Probability')\n",
    "\n",
    "plt.legend()"
   ]
  },
  {
   "cell_type": "code",
   "execution_count": 109,
   "id": "3723fba6-0a4c-4dec-a289-d9b9d3c45384",
   "metadata": {
    "tags": []
   },
   "outputs": [],
   "source": [
    "# Although the average temperature in January has risen, we would expect many more days with low temperatures. \n",
    "# This is due to the fact that also the standard deviation of the Gaussian distribution has increased.\n",
    "# The average temperatures will yes rise, but also the number of extreme meteorological events."
   ]
  },
  {
   "cell_type": "code",
   "execution_count": null,
   "id": "5b308c7d-eae0-4bf1-81db-fcd2373382a2",
   "metadata": {},
   "outputs": [],
   "source": []
  }
 ],
 "metadata": {
  "kernelspec": {
   "display_name": "Python 3 (ipykernel)",
   "language": "python",
   "name": "python3"
  },
  "language_info": {
   "codemirror_mode": {
    "name": "ipython",
    "version": 3
   },
   "file_extension": ".py",
   "mimetype": "text/x-python",
   "name": "python",
   "nbconvert_exporter": "python",
   "pygments_lexer": "ipython3",
   "version": "3.11.5"
  }
 },
 "nbformat": 4,
 "nbformat_minor": 5
}
