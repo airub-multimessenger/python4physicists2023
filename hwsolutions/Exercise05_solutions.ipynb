{
 "cells": [
  {
   "cell_type": "markdown",
   "id": "7f9abf51",
   "metadata": {},
   "source": [
    "## Name:"
   ]
  },
  {
   "cell_type": "markdown",
   "id": "1d6c83c6",
   "metadata": {},
   "source": [
    "# Problem 1. Bethe - Heitler pair creation (50 p)"
   ]
  },
  {
   "cell_type": "markdown",
   "id": "eb418722",
   "metadata": {},
   "source": [
    "## Lyrical (or theoretical) digression "
   ]
  },
  {
   "cell_type": "markdown",
   "id": "4034ab14",
   "metadata": {},
   "source": [
    "![Illustration of Bethe-Haitler process](https://www.researchgate.net/publication/47466030/figure/fig3/AS:652608809226251@1532605473851/Feynman-diagrams-for-the-Bethe-Heitler-processes-An-incoming-photon-with-four-momentum-k.png)"
   ]
  },
  {
   "cell_type": "markdown",
   "id": "b14dd7bd",
   "metadata": {},
   "source": [
    "<center>Fig. 1. The Feynman diagram of the Bethe-Heitler process. Credit: O. Dzyubak</center>"
   ]
  },
  {
   "cell_type": "markdown",
   "id": "9259df3b",
   "metadata": {},
   "source": [
    "Bethe-Heitler pair creation is a process in which a photon passing close to a charged massive object (e.g. nucleus) produces a pair of electron and positron. The Feynman diagram for this process is shown in Figure 1.\n",
    "$$(Z) + \\gamma \\rightarrow e^- + e^+$$\n",
    "To create an electron-positron pair, energy of the incoming photon must be more than two electron masses ($ m_e = 511 \\textrm{keV}$). \n",
    "\n",
    "_Note: please, don't panic if anything written here is unclear to you. You still have a lot of wonders do discover during your next semesters. Two short explanations for you:_\n",
    "1. _The quantity that is concerved in particle interactions is $E_k^2 + (mc^2)^2$ where $E_k$ is particle kinetic energy and $mc^2$ is particle ''mass'' or being more precise the rest energy. A massive particle, like electron, can have zero kinetic energy but will always have a rest energy, therefore a threthold for production of this particle is  $mc^2$._\n",
    "2. _Feyman diagrams is a technic to describe particle interactions. Here it has just an illustrative character but it also has a related mathematical method. You read diagram from left to right. The $p_i$ is a momentum of nucleus before interaction, $p_f$ - after the interaction. $k$ is an incoming photon that produces a pair of leptons, e.g. electron_ ($p_- = e_-$) _and positron_ ($p_+ = e_+$). "
   ]
  },
  {
   "cell_type": "markdown",
   "id": "429433a8",
   "metadata": {},
   "source": [
    " "
   ]
  },
  {
   "cell_type": "markdown",
   "id": "dcae86b3",
   "metadata": {},
   "source": [
    "In this task you will create a photon with random energy, write this energy to a file together with the flag or trigger (0 or 1) indicating whether the Bethe-Heitler pair can be created. "
   ]
  },
  {
   "cell_type": "markdown",
   "id": "482a5d3e",
   "metadata": {},
   "source": [
    "### (A) Create a directory for the files (12 p)"
   ]
  },
  {
   "cell_type": "markdown",
   "id": "da1b24e9",
   "metadata": {},
   "source": [
    "First, using ```pathlib``` and ```os``` libraries create a new folder where your output files will be located.\n",
    "\n",
    "_For Google Colab users: please make sure your Google Drive folder is connected!_"
   ]
  },
  {
   "cell_type": "code",
   "execution_count": 1,
   "id": "f80bf9dd",
   "metadata": {},
   "outputs": [],
   "source": [
    "#Your code here:\n",
    "from pathlib import Path\n",
    "import os\n",
    "import random"
   ]
  },
  {
   "cell_type": "code",
   "execution_count": 2,
   "id": "3d05614a",
   "metadata": {},
   "outputs": [],
   "source": [
    "base_dir = os.getcwd()\n",
    "base_dir = Path(base_dir)\n",
    "new_dir = base_dir / \"ex3_files\"\n",
    "Path.mkdir(new_dir, exist_ok=True)\n"
   ]
  },
  {
   "cell_type": "markdown",
   "id": "936b12e8",
   "metadata": {},
   "source": [
    "### (B) Simulating photons and creating output files (13 p)"
   ]
  },
  {
   "cell_type": "markdown",
   "id": "4fe027b4",
   "metadata": {},
   "source": [
    "Assume that your photons can have any energy from $0.1 \\; \\textrm{keV}$ to $1 \\; \\textrm{TeV} = 10^6  \\;\\textrm{keV}$. Import ```random``` library. The function ```random.uniform(a, b)``` generates a random number between ```a``` and ```b```. Since the energies are spanning across many orders of magnitude, generating a random number in linear space between $0.1$ and $10^6$ keV would introduce a strong bias towards the high energies. To make low energies and high energies equally likely to be generated, use ```10**random.uniform(a, b)``` where ```a``` and ```b``` are now logarithms of the boundaries.\n",
    "\n",
    "Your working units are $\\textrm{keV}$!\n",
    "\n",
    "1. Simulate a photon of a random energy between $0.1 \\; \\textrm{keV}$ to $1 \\; \\textrm{TeV} = 10^6 \\;\\textrm{keV}$ taking into account already mentioned aspect of difference in orders of magnitudes.\n",
    "2. Calculate if the photon energy is enough to create a Bethe-Heitler pair.\n",
    "3. Create a file called ```runN.txt``` where ```N``` is an identification number of the simulation (i.e. the first simulation, second simulation etc.). If the pair was created, name the file ```runN_s.txt``` (s for success) instead of ```runN.txt``` where ```N``` is the same id of the simulation. This means that if the simulated photon energy e.g. in 10th run was above the threshold, the must be a single file ```run10_s.txt``` and __no__ ```run10.txt``` file.\n",
    "4. Write photon energy to the file. If the photon energy is enough to create Bethe-Heitler pair, write 1 after the photon energy separeted by the space (``` ```), otherwise write 0.\n",
    "5. Do 100 simulations and create 100 output files in your recently created directory.\n",
    "\n",
    "_Note: if you are testing your code multiple times make sure that after each time you start with an empty directory. Files with the same name will be overwritten but, since energy is a random value, the same experiment (e.g. 10th) can create a pair in one run and not create those in the other run. Therefore, better to always start with an empty folder._"
   ]
  },
  {
   "cell_type": "code",
   "execution_count": 3,
   "id": "a7040a7c",
   "metadata": {},
   "outputs": [],
   "source": [
    "#Your code here:\n",
    "for i in range(0,100):\n",
    "    photon_energy= 10**random.uniform(-1, 6) # keV\n",
    "    filename = f'run{i}.txt'\n",
    "    pair_created=0\n",
    "    \n",
    "    if photon_energy>511*2:\n",
    "        pair_created=1\n",
    "        filename = f'run{i}_s.txt'\n",
    "    \n",
    "    filepath = new_dir / filename\n",
    "\n",
    "    with open(filepath, 'w') as f:\n",
    "        f.write(f\"{photon_energy}\"+ \" \" +f\"{pair_created}\")"
   ]
  },
  {
   "cell_type": "markdown",
   "id": "15dbfda9",
   "metadata": {},
   "source": [
    "### (C) Looping through the files in directory (13 p)"
   ]
  },
  {
   "cell_type": "markdown",
   "id": "77795a7a",
   "metadata": {},
   "source": [
    "1. Create a list of filenames from your output folder using ```os.listdir()```. Make sure there are no other non-txt files like ```.ipynb_checkpoints```. If they are in the list, remove them.\n",
    "2. Loop throught the list of files in the directory and add names of files with the successful pair creation into the seperate list. Print the number of successfully created pairs."
   ]
  },
  {
   "cell_type": "code",
   "execution_count": 4,
   "id": "0878fe32",
   "metadata": {},
   "outputs": [],
   "source": [
    "#Your code here:\n",
    "filelist=os.listdir(new_dir)"
   ]
  },
  {
   "cell_type": "code",
   "execution_count": 7,
   "id": "6ee785a3",
   "metadata": {},
   "outputs": [],
   "source": [
    "# filelist.remove('.ipynb_checkpoints')"
   ]
  },
  {
   "cell_type": "code",
   "execution_count": 6,
   "id": "8fa0b49b",
   "metadata": {},
   "outputs": [
    {
     "data": {
      "text/plain": [
       "['run15.txt',\n",
       " 'run80_s.txt',\n",
       " 'run26_s.txt',\n",
       " 'run16_s.txt',\n",
       " 'run60_s.txt',\n",
       " 'run57.txt',\n",
       " 'run13_s.txt',\n",
       " 'run79_s.txt',\n",
       " 'run75.txt',\n",
       " 'run2.txt',\n",
       " 'run53_s.txt',\n",
       " 'run28_s.txt',\n",
       " 'run55.txt',\n",
       " 'run19.txt',\n",
       " 'run4.txt',\n",
       " 'run44_s.txt',\n",
       " 'run37_s.txt',\n",
       " 'run87_s.txt',\n",
       " 'run67_s.txt',\n",
       " 'run36.txt',\n",
       " 'run89.txt',\n",
       " 'run94.txt',\n",
       " 'run43.txt',\n",
       " 'run83_s.txt',\n",
       " 'run0.txt',\n",
       " 'run12.txt',\n",
       " 'run18_s.txt',\n",
       " 'run64_s.txt',\n",
       " 'run59_s.txt',\n",
       " 'run32.txt',\n",
       " 'run9.txt',\n",
       " 'run85.txt',\n",
       " 'run92.txt',\n",
       " 'run69.txt',\n",
       " 'run91_s.txt',\n",
       " 'run90.txt',\n",
       " 'run8_s.txt',\n",
       " 'run66.txt',\n",
       " 'run93.txt',\n",
       " 'run95.txt',\n",
       " 'run84_s.txt',\n",
       " 'run56.txt',\n",
       " 'run63_s.txt',\n",
       " 'run7_s.txt',\n",
       " 'run11.txt',\n",
       " 'run1_s.txt',\n",
       " 'run24.txt',\n",
       " 'run96.txt',\n",
       " 'run27.txt',\n",
       " 'run74.txt',\n",
       " 'run6.txt',\n",
       " 'run39.txt',\n",
       " 'run14.txt',\n",
       " 'run99_s.txt',\n",
       " 'run70.txt',\n",
       " 'run88.txt',\n",
       " 'run22_s.txt',\n",
       " 'run41.txt',\n",
       " 'run49_s.txt',\n",
       " 'run97.txt',\n",
       " 'run34.txt',\n",
       " 'run98.txt',\n",
       " 'run30.txt',\n",
       " 'run45_s.txt',\n",
       " 'run47.txt',\n",
       " 'run65.txt',\n",
       " 'run25_s.txt',\n",
       " 'run52.txt',\n",
       " 'run40.txt',\n",
       " 'run68_s.txt',\n",
       " 'run42_s.txt',\n",
       " 'run81_s.txt',\n",
       " 'run29.txt',\n",
       " 'run54_s.txt',\n",
       " 'run33.txt',\n",
       " 'run71.txt',\n",
       " 'run38.txt',\n",
       " 'run3_s.txt',\n",
       " 'run21_s.txt',\n",
       " 'run48_s.txt',\n",
       " 'run77.txt',\n",
       " 'run78_s.txt',\n",
       " 'run20.txt',\n",
       " 'run73_s.txt',\n",
       " 'run76_s.txt',\n",
       " 'run86.txt',\n",
       " 'run5.txt',\n",
       " 'run51.txt',\n",
       " 'run62.txt',\n",
       " 'run35_s.txt',\n",
       " 'run72.txt',\n",
       " 'run58.txt',\n",
       " 'run23_s.txt',\n",
       " 'run31.txt',\n",
       " 'run10.txt',\n",
       " 'run50.txt',\n",
       " 'run46.txt',\n",
       " 'run17_s.txt',\n",
       " 'run61.txt',\n",
       " 'run82_s.txt']"
      ]
     },
     "execution_count": 6,
     "metadata": {},
     "output_type": "execute_result"
    }
   ],
   "source": [
    "filelist"
   ]
  },
  {
   "cell_type": "code",
   "execution_count": 8,
   "id": "8f83538f",
   "metadata": {},
   "outputs": [],
   "source": [
    "s_list=[]\n",
    "for file in filelist:\n",
    "    if file[-5]=='s':\n",
    "        s_list.append(file)"
   ]
  },
  {
   "cell_type": "code",
   "execution_count": 9,
   "id": "e393e9b5",
   "metadata": {},
   "outputs": [
    {
     "data": {
      "text/plain": [
       "41"
      ]
     },
     "execution_count": 9,
     "metadata": {},
     "output_type": "execute_result"
    }
   ],
   "source": [
    "len(s_list)"
   ]
  },
  {
   "cell_type": "markdown",
   "id": "375fc824",
   "metadata": {},
   "source": [
    "### (D) Muon pair creation (12 p)"
   ]
  },
  {
   "cell_type": "markdown",
   "id": "27dbf3df",
   "metadata": {},
   "source": [
    "In the Bethe-Heitler process, the pair of muon and antimuon can be created if photon has enough energy. Muon is a lepton that has the same particle parameters as electron except its mass. The muon mass is $105 \\; \\textrm{MeV}$, roughly 200 time heavier than electron."
   ]
  },
  {
   "cell_type": "markdown",
   "id": "ef70a585",
   "metadata": {},
   "source": [
    "1. Using your list of successfully created pairs, read each file from the list and find how many of those photons can produce muon pairs. Print this number. \n",
    "\n",
    "Hint: since your file consists of one line, use  ```file.readline()```  where ```file``` here is an object that appears after you open your file with ```open()```."
   ]
  },
  {
   "cell_type": "code",
   "execution_count": 11,
   "id": "182d99c5",
   "metadata": {},
   "outputs": [
    {
     "name": "stdout",
     "output_type": "stream",
     "text": [
      "6\n"
     ]
    }
   ],
   "source": [
    "#Your code here:\n",
    "muonpair=0\n",
    "for file in s_list:\n",
    "    \n",
    "    f = open(new_dir/file, \"r\")\n",
    "    data = f.readline()\n",
    "    if float(data.split(' ')[0])> 210* 1e3:\n",
    "        muonpair+=1\n",
    "print(muonpair)        "
   ]
  },
  {
   "cell_type": "markdown",
   "id": "3733bfed",
   "metadata": {},
   "source": [
    "### Bonus points: Your expectations (10 p)"
   ]
  },
  {
   "cell_type": "markdown",
   "id": "a9b17d63",
   "metadata": {},
   "source": [
    "The photon energy is uniformly distributed in logarithmic space ($\\log_{10} E$) between $-1$ and $6$. Write the thresholds for electron and muon pair production in logarithmic space (same as you used for flag 0/1 in the exersices above):\n",
    "\n",
    "$$\\log_{10}(E_e^{\\textrm{thr}}/\\textrm{keV}) = 3.00 $$\n",
    "$$\\log_{10}(E_\\mu^{\\textrm{thr}}/\\textrm{keV}) = 5.32 $$"
   ]
  },
  {
   "cell_type": "markdown",
   "id": "74d65e48",
   "metadata": {},
   "source": [
    "How many electron and muons pairs would you expect considering the uniform distribution of $\\log_{10} E$?"
   ]
  },
  {
   "cell_type": "markdown",
   "id": "5c61ff56",
   "metadata": {},
   "source": [
    "$$N_{\\textrm{el. pairs}} \\; = \\frac{6-3}{6-(-1)} = \\frac{3}{7} = 0.42$$ \n",
    "\n",
    "\n",
    "$$N_{\\textrm{muon pairs}}\\; = \\frac{6-5.32}{6-(-1)}= \\frac{0.68}{7} \\approx 0.1$$ "
   ]
  },
  {
   "cell_type": "markdown",
   "id": "fa9f6773",
   "metadata": {},
   "source": [
    "Compare these to the numbers you got from your simulation of 100 photons. Write your observations below:\n",
    "\n",
    "\n",
    "Number of electron and positron pairs is a random variable itself. When the number of simulations gets really big, the ''observed'' number of electron and positron pair gets closer to the expected one. In the \n"
   ]
  },
  {
   "cell_type": "markdown",
   "id": "1b17f05e",
   "metadata": {},
   "source": [
    " "
   ]
  },
  {
   "cell_type": "markdown",
   "id": "995671f7",
   "metadata": {},
   "source": [
    "\n",
    "# Problem 2. The messy lab book (50 p)"
   ]
  },
  {
   "cell_type": "markdown",
   "id": "49c2d31b",
   "metadata": {},
   "source": [
    "Imagine you and your coworkers have to observe some objects in the night sky with the telescope for a few weeks and you have to keep a lab book. Due to lack of time and organisation, everyone of you wrote down their notes very messy in a text file. Now you want to organise this file more properly, so that it is manageable."
   ]
  },
  {
   "cell_type": "markdown",
   "id": "9cabf5af",
   "metadata": {},
   "source": [
    "For this task you will need a text file called ```LabBook.txt```. After downloading, make sure that this file is located in the same directory as your current notebook."
   ]
  },
  {
   "cell_type": "markdown",
   "id": "ad3cde5c",
   "metadata": {},
   "source": [
    "**(A) 10 points**\n",
    "\n",
    "First, we would like to move the lab book into a new directory. Create a directory with name ```Observations_Oct_23``` using ```os``` and ```pathlib``` libraries. Move the lab book file into the directory __using python only__. \n",
    "\n",
    "After that, read the entries of the text file with python."
   ]
  },
  {
   "cell_type": "code",
   "execution_count": 8,
   "id": "e2263d9d",
   "metadata": {},
   "outputs": [],
   "source": [
    "import os\n",
    "from pathlib import Path\n",
    "\n",
    "#Your code here:\n",
    "\n",
    "Obs_Oct_23 = \"./Observations_Oct_23\"\n",
    "\n",
    "if not os.path.exists(Obs_Oct_23):\n",
    "    os.makedirs(Obs_Oct_23)"
   ]
  },
  {
   "cell_type": "code",
   "execution_count": 9,
   "id": "fa551702",
   "metadata": {},
   "outputs": [],
   "source": [
    "filename = \"LabBook.txt\"\n",
    "File_path = \"./LabBook.txt\"\n",
    "Obs_Oct_23 = Path(Obs_Oct_23)\n",
    "New_path = Obs_Oct_23 / filename\n",
    "\n",
    "os.rename(File_path, New_path)"
   ]
  },
  {
   "cell_type": "code",
   "execution_count": 10,
   "id": "ccfbc4c2",
   "metadata": {
    "scrolled": true
   },
   "outputs": [
    {
     "name": "stdout",
     "output_type": "stream",
     "text": [
      "11.10.23 12.10.23 13.10.23 14.10.23 16.10.23 17.10.23 18.10.23 19.10.23 20.10.23 21.10.23 23.10.23 24.10.23 25.10.23 26.10.23 \n",
      "\n",
      "18:24 18:31 19:00 18:45 18:36 17:50 17:40 18:30 17:48 17:50 18:00 17:35 17:55 17:40 \n",
      "\n",
      "Observer: Klaus M., Klaus M., Klaus M. Fritz K., Fritz K., Paulina A., Paulina A., Klaus M., Paulina A., Paulina A., Fritz K., Fritz K., Klaus M., Paulina A. \n",
      "\n",
      "humidity too high, HD 204827,  HD 204827, HD 191195, HD 191195, HD 191195, too cloudy,  too cloudy, HD 191195, HD 191195, HD 204827, HD 204827, HD 204827, humidity too high, HD 204827\n",
      "\n"
     ]
    }
   ],
   "source": [
    "with open(New_path, \"r\") as f:\n",
    "    for row in f:\n",
    "        print(row)"
   ]
  },
  {
   "cell_type": "markdown",
   "id": "6ef0f969",
   "metadata": {},
   "source": [
    "**(B) 10 points**\n",
    "\n",
    "Now create an empty csv file with headers for the table. The file should be named: \"New_LabBook_Oct23\". As we have seen before, the text file contains information about the **Date, Start time, Name, Observed Object/ Notes.**\n",
    "Create these headers, each for a single column and all in the first row. Use the ```csv``` library for this. "
   ]
  },
  {
   "cell_type": "code",
   "execution_count": 15,
   "id": "c942de50",
   "metadata": {},
   "outputs": [],
   "source": [
    "import csv\n",
    "# Your code here:\n",
    "\n",
    "csv_file = \"New_LabBook_Oct23.csv\"\n",
    "CSV_path = Obs_Oct_23 / csv_file\n",
    "\n",
    "Header = ['Date', 'Start time', 'Name', 'Observed Object/ Notes']\n",
    "with open(CSV_path, \"w\", newline='') as file:\n",
    "    writer = csv.writer(file)\n",
    "    writer.writerow(Header)"
   ]
  },
  {
   "cell_type": "markdown",
   "id": "9a22ff7e",
   "metadata": {},
   "source": [
    "**(C) 10 points** \n",
    "\n",
    "Put the data from the text file into the new csv file. Note, that the values should be written under the corresponding header (each category in one column, so that you have 4 columns in the end).\n",
    "\n",
    "\n",
    "\n",
    "*Hint: Pay attention to the seperator. Sometimes there is just a space ``` ``` and sometimes there is a comma ```,``` seperating the entries.*\n",
    "\n",
    "_Note: If you execute your code multiple times, you will also write the entries to the csv file multiple times. Check your file and, if needed, first delete the csv file and start over again._"
   ]
  },
  {
   "cell_type": "code",
   "execution_count": 16,
   "id": "f21c8dff",
   "metadata": {},
   "outputs": [],
   "source": [
    "#Your code here:\n",
    "\n",
    "data = []\n",
    "\n",
    "\n",
    "with open(New_path, 'r') as txtfile:\n",
    "    for index,zeile in enumerate(txtfile):\n",
    "        if index < 2:\n",
    "            data.append([element.strip() for element in zeile.split()])\n",
    "        else:\n",
    "            data.append([element.strip() for element in zeile.split(',')])\n",
    "            \n",
    "with open(CSV_path, 'a', newline='') as csvfile:    \n",
    "    writer = csv.writer(csvfile)\n",
    "    for entry1, entry2, entry3, entry4 in zip(data[0], data[1], data[2], data[3]):\n",
    "        writer.writerow([entry1, entry2, entry3, entry4])"
   ]
  },
  {
   "cell_type": "markdown",
   "id": "2463cea1",
   "metadata": {},
   "source": [
    "**(D) 10 points**\n",
    "\n",
    "Test your new file by printing out all data with help of ```DictReader```. Use the headers from (B) for the fieldnames and ignore your very first row in this case where the headers were written. \n",
    "\n",
    "After that, print out **only** the information belonging to Oct 21, 2023."
   ]
  },
  {
   "cell_type": "code",
   "execution_count": 17,
   "id": "b0c01b07",
   "metadata": {},
   "outputs": [
    {
     "name": "stdout",
     "output_type": "stream",
     "text": [
      "{'Date': '11.10.23', 'Start time': '18:24', 'Name': 'Observer: Klaus M.', 'Observed Object/ Notes': 'humidity too high'}\n",
      "{'Date': '12.10.23', 'Start time': '18:31', 'Name': 'Klaus M.', 'Observed Object/ Notes': 'HD 204827'}\n",
      "{'Date': '13.10.23', 'Start time': '19:00', 'Name': 'Klaus M. Fritz K.', 'Observed Object/ Notes': 'HD 204827'}\n",
      "{'Date': '14.10.23', 'Start time': '18:45', 'Name': 'Fritz K.', 'Observed Object/ Notes': 'HD 191195'}\n",
      "{'Date': '16.10.23', 'Start time': '18:36', 'Name': 'Paulina A.', 'Observed Object/ Notes': 'HD 191195'}\n",
      "{'Date': '17.10.23', 'Start time': '17:50', 'Name': 'Paulina A.', 'Observed Object/ Notes': 'HD 191195'}\n",
      "{'Date': '18.10.23', 'Start time': '17:40', 'Name': 'Klaus M.', 'Observed Object/ Notes': 'too cloudy'}\n",
      "{'Date': '19.10.23', 'Start time': '18:30', 'Name': 'Paulina A.', 'Observed Object/ Notes': 'too cloudy'}\n",
      "{'Date': '20.10.23', 'Start time': '17:48', 'Name': 'Paulina A.', 'Observed Object/ Notes': 'HD 191195'}\n",
      "{'Date': '21.10.23', 'Start time': '17:50', 'Name': 'Fritz K.', 'Observed Object/ Notes': 'HD 191195'}\n",
      "{'Date': '23.10.23', 'Start time': '18:00', 'Name': 'Fritz K.', 'Observed Object/ Notes': 'HD 204827'}\n",
      "{'Date': '24.10.23', 'Start time': '17:35', 'Name': 'Klaus M.', 'Observed Object/ Notes': 'HD 204827'}\n",
      "{'Date': '25.10.23', 'Start time': '17:55', 'Name': 'Paulina A.', 'Observed Object/ Notes': 'HD 204827'}\n"
     ]
    }
   ],
   "source": [
    "#Your code here:\n",
    "\n",
    "with open(CSV_path, 'r') as f:\n",
    "    reader = csv.DictReader(f, fieldnames=Header)\n",
    "    for index,row in enumerate(reader):\n",
    "        if index > 0:\n",
    "            print(row)           "
   ]
  },
  {
   "cell_type": "code",
   "execution_count": 18,
   "id": "93ae894a",
   "metadata": {},
   "outputs": [
    {
     "name": "stdout",
     "output_type": "stream",
     "text": [
      "[{'Date': '21.10.23', 'Start time': '17:50', 'Name': 'Fritz K.', 'Observed Object/ Notes': 'HD 191195'}]\n"
     ]
    }
   ],
   "source": [
    "date = '21.10.23'\n",
    "\n",
    "searched_row = []\n",
    "\n",
    "with open(CSV_path, 'r', newline='') as file:\n",
    "    csv_reader = csv.DictReader(file)\n",
    "    for row in csv_reader:\n",
    "        if row['Date'] == date:\n",
    "            searched_row.append(row)\n",
    "\n",
    "print(searched_row)"
   ]
  },
  {
   "cell_type": "markdown",
   "id": "15da8e7d",
   "metadata": {},
   "source": [
    "**(E) 10 points** \n",
    "\n",
    "The last step is to change one entry to have a consistent table. In the column \"Name\", the first row has the entry \"_Observer:_ Klaus M.\". Replace this, so that we only have the entry \"Klaus M.\". Check if the replacement was completed correctly by printing this entry again."
   ]
  },
  {
   "cell_type": "code",
   "execution_count": 19,
   "id": "25a02214",
   "metadata": {
    "scrolled": true
   },
   "outputs": [
    {
     "name": "stdout",
     "output_type": "stream",
     "text": [
      "[{'Date': '11.10.23', 'Start time': '18:24', 'Name': 'Observer: Klaus M.', 'Observed Object/ Notes': 'humidity too high'}]\n"
     ]
    }
   ],
   "source": [
    "#Your code here:\n",
    "date = '11.10.23'\n",
    "\n",
    "first_row = []\n",
    "\n",
    "with open(CSV_path, 'r', newline='') as file:\n",
    "    csv_reader = csv.DictReader(file)\n",
    "    for row in csv_reader:\n",
    "        if row['Date'] == date:\n",
    "            first_row.append(row)\n",
    "\n",
    "print(first_row)"
   ]
  },
  {
   "cell_type": "code",
   "execution_count": 20,
   "id": "2d3bd78d",
   "metadata": {},
   "outputs": [],
   "source": [
    "text = open(CSV_path, \"r\")\n",
    "text = ''.join([i for i in text]) \\\n",
    "    .replace(\"Observer: Klaus M.\", \"Klaus M.\")\n",
    "x = open(CSV_path,\"w\")\n",
    "x.writelines(text)\n",
    "x.close()"
   ]
  },
  {
   "cell_type": "code",
   "execution_count": 21,
   "id": "93255fea",
   "metadata": {},
   "outputs": [
    {
     "name": "stdout",
     "output_type": "stream",
     "text": [
      "[{'Date': '11.10.23', 'Start time': '18:24', 'Name': 'Klaus M.', 'Observed Object/ Notes': 'humidity too high'}]\n"
     ]
    }
   ],
   "source": [
    "date = '11.10.23'\n",
    "\n",
    "first_row = []\n",
    "\n",
    "with open(CSV_path, 'r', newline='') as file:\n",
    "    csv_reader = csv.DictReader(file)\n",
    "    for row in csv_reader:\n",
    "        if row['Date'] == date:\n",
    "            first_row.append(row)\n",
    "\n",
    "print(first_row)"
   ]
  },
  {
   "cell_type": "code",
   "execution_count": null,
   "id": "7a2641e1",
   "metadata": {},
   "outputs": [],
   "source": []
  }
 ],
 "metadata": {
  "kernelspec": {
   "display_name": "Python 3",
   "language": "python",
   "name": "python3"
  },
  "language_info": {
   "codemirror_mode": {
    "name": "ipython",
    "version": 3
   },
   "file_extension": ".py",
   "mimetype": "text/x-python",
   "name": "python",
   "nbconvert_exporter": "python",
   "pygments_lexer": "ipython3",
   "version": "3.8.8"
  }
 },
 "nbformat": 4,
 "nbformat_minor": 5
}
