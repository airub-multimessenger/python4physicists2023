{
 "cells": [
  {
   "cell_type": "markdown",
   "id": "7c143b78-587c-4c77-9546-e53f7625d264",
   "metadata": {},
   "source": [
    "# Homework 3\n",
    "\n",
    "## Name: \n",
    "\n"
   ]
  },
  {
   "cell_type": "markdown",
   "id": "699df018-6ee3-45da-b2dd-290c104c9118",
   "metadata": {},
   "source": [
    "## Problem 1: Vector calculus\n"
   ]
  },
  {
   "cell_type": "markdown",
   "id": "ee522355-56aa-4bcc-8b08-5b13b9cda83f",
   "metadata": {},
   "source": [
    "The gradient of a function $f(x,y,z)$ is defined as:\n",
    "$$∇f= \\frac{∂f}{∂x} ~\\vec{e_{x}} + \\frac{∂f}{∂y} ~\\vec{e_{y}} + \\frac{∂f}{∂z} ~\\vec{e_{z}} $$\n",
    "\n",
    ", where $\\frac{∂f}{∂x}, \\frac{∂f}{∂y},\\frac{∂f}{∂z}$ are the partial derivatives of f with respect to the variables x, y and z.\n",
    "\n",
    "**(A)** Given the function $g(x,y,z) = x \\cdot z^{2}$, calculate the gradient analytically (here you don't have to write a code). Define the gradient as a function. (5P)"
   ]
  },
  {
   "cell_type": "code",
   "execution_count": 31,
   "id": "996cb11c-5960-4019-8a9c-d3f53eb27db1",
   "metadata": {},
   "outputs": [],
   "source": [
    "def gradient(x,y,z):\n",
    "    '''\n",
    "    This is the gradient of f(x) = x*z**2\n",
    "    '''\n",
    "    return [z**2, 0, 2*x*z]"
   ]
  },
  {
   "cell_type": "markdown",
   "id": "28ec872e-8554-4708-aacd-26000c0babdf",
   "metadata": {},
   "source": [
    "Test your function by inserting the following three points into your vector field:\n",
    "- **(2, 0, -5)**\n",
    "- **(4, 0, 1)**\n",
    "- **(-1, 0, 2)**"
   ]
  },
  {
   "cell_type": "code",
   "execution_count": 32,
   "id": "54b4f463-5e52-4a32-95c8-8caf926c4812",
   "metadata": {},
   "outputs": [
    {
     "name": "stdout",
     "output_type": "stream",
     "text": [
      "Gradient at point (2, 0, -5) = [25, 0, -20]\n",
      "Gradient at point (4, 0, 1) = [1, 0, 8]\n",
      "Gradient at point (-1, 0, 2) = [4, 0, -4]\n"
     ]
    }
   ],
   "source": [
    "K = [(2,0,-5), (4,0,1), (-1,0,2)]\n",
    "for (x,y,z) in K:\n",
    "    print('Gradient at point '+ str((x,y,z)) + ' = '+ str(gradient(x,y,z)))"
   ]
  },
  {
   "cell_type": "markdown",
   "id": "81d4c89f-6fbe-48cb-9674-55fc4c60fc94",
   "metadata": {},
   "source": [
    "**(B)** Write a general function that adds two vectors and test your function by adding $∇g~(2, 0, -5)$ with $\\vec{K} = -2 \\vec{e_{y}}$. Don't forget to consider the case of two vectors with different dimensions! Write a function that gives an error in case of two vectors with different dimensions. Test this case by adding $∇g~(2, 0, 0)$ with $\\vec{K} = (0,1)$. (7P)"
   ]
  },
  {
   "cell_type": "code",
   "execution_count": 33,
   "id": "dee89c8c-87ed-4f3c-83dd-cf22503d00ec",
   "metadata": {},
   "outputs": [],
   "source": [
    "def add_vectors(vecA, vecB):\n",
    "    '''\n",
    "    This function adds two vectors with each other\n",
    "    '''\n",
    "    if len(vecA) != len(vecB):\n",
    "        print(\"Error: The vectors have different dimensions!\")\n",
    "    \n",
    "    result = [v1 + v2 for v1, v2 in zip(vecA, vecB)]\n",
    "    return result"
   ]
  },
  {
   "cell_type": "code",
   "execution_count": 34,
   "id": "83f28621-5360-4d4b-95d5-c2463fbac855",
   "metadata": {},
   "outputs": [
    {
     "data": {
      "text/plain": [
       "[25, -2, -20]"
      ]
     },
     "execution_count": 34,
     "metadata": {},
     "output_type": "execute_result"
    }
   ],
   "source": [
    "add_vectors(gradient(2,0,-5), (0,-2,0))"
   ]
  },
  {
   "cell_type": "code",
   "execution_count": 35,
   "id": "7b1cfe53-8ec0-48ff-8832-77cb42a9a881",
   "metadata": {},
   "outputs": [
    {
     "name": "stdout",
     "output_type": "stream",
     "text": [
      "Error: The vectors have different dimensions!\n"
     ]
    },
    {
     "data": {
      "text/plain": [
       "[0, 1]"
      ]
     },
     "execution_count": 35,
     "metadata": {},
     "output_type": "execute_result"
    }
   ],
   "source": [
    "add_vectors(gradient(2,0,0), (0,1))"
   ]
  },
  {
   "cell_type": "markdown",
   "id": "04926c2a-f234-4168-886d-16889bdcaaa4",
   "metadata": {},
   "source": [
    "**(C)** Write a function that calculates the scalar product of two vectors and test this for $\\vec{A} = -3 \\vec{e_{x}} + 5  \\vec{e_{y}} - 1 \\vec{e_{z}}$ and $\\vec{B} = 3 \\vec{e_{x}} + 6  \\vec{e_{y}} - 9 \\vec{e_{z}}$. (10P)"
   ]
  },
  {
   "cell_type": "code",
   "execution_count": 36,
   "id": "a7dec0ed-844a-4422-8300-c27b12f3b32e",
   "metadata": {},
   "outputs": [
    {
     "name": "stdout",
     "output_type": "stream",
     "text": [
      "Scalar product of A and B: 30\n"
     ]
    }
   ],
   "source": [
    "def scalar_product(vecA, vecB):\n",
    "    '''\n",
    "    Scalar product of vector A and vector B\n",
    "    '''\n",
    "    if len(vecA) != len(vecB):\n",
    "        print(\"The vectors have different dimensions!\")\n",
    "    \n",
    "    result = sum(v1 * v2 for v1, v2 in zip(vecA, vecB))\n",
    "    return result\n",
    "vecA = (-3, 5, -1)\n",
    "vecB = (3, 6, -9)\n",
    "print('Scalar product of A and B: ' +str(scalar_product(vecA, vecB)))"
   ]
  },
  {
   "cell_type": "markdown",
   "id": "59f61be9-5614-4a1d-8163-8d48327a0918",
   "metadata": {},
   "source": [
    "**(D)** Finally, we would like to calculate the triple product of three vectors. The scalar triple product is defined as the dot product of one of the vectors with the cross product of the other two.\n",
    "$$ \\mathbf{a}\\cdot(\\mathbf{b}\\times \\mathbf{c}) = {\\displaystyle {\\begin{bmatrix}a_{1}\\\\a_{2}\\\\a_{3}\\end{bmatrix}} \\cdot{\\begin{bmatrix}b_{2}c_{3}-c_{3}b_{2}\\\\b_{3}c_{1}-b_{1}c_{3}\\\\b_{1}c_{2}-b_{2}c_{1}\\end{bmatrix}}}$$\n",
    "Write a function that already includes your function for the scalar product. Test this for the following three vectors (15P):\n",
    "\n",
    "|  | | |\n",
    "|:--------:|:--------:|:--------:|\n",
    "|\\begin{bmatrix} 0 \\\\ 2 \\\\ 4 \\end{bmatrix} |  \\begin{bmatrix} -1 \\\\ 4 \\\\ 0 \\end{bmatrix} |  \\begin{bmatrix} 2 \\\\ 8 \\\\ 1 \\end{bmatrix} |. \n"
   ]
  },
  {
   "cell_type": "code",
   "execution_count": 37,
   "id": "5afc80f2-0287-4c25-875a-c85d7d90fd6c",
   "metadata": {},
   "outputs": [
    {
     "name": "stdout",
     "output_type": "stream",
     "text": [
      "Result of the triple product : -62\n"
     ]
    }
   ],
   "source": [
    "def triple_product(A, B, C):\n",
    "    '''\n",
    "    Calculates triple product by using the function for the scalarproduct between vector A and cross product of B and C\n",
    "    '''\n",
    "    if len(A) != 3 or len(B) != 3 or len(C) != 3:\n",
    "        print(\"Vectors have to be 3 dimensional.\")\n",
    "    \n",
    "    result = [0, 0, 0]\n",
    "    cross = [0, 0, 0]\n",
    "    cross[0] = B[1] * C[2] - B[2] * C[1]\n",
    "    cross[1] = B[2] * C[0] - B[0] * C[2]\n",
    "    cross[2] = B[0] * C[1] - B[1] * C[0]\n",
    "    result = scalar_product(A, cross) \n",
    "    \n",
    "    return result\n",
    "\n",
    "vector1 = [0,2,4]\n",
    "vector2 = [-1,4,0]\n",
    "vector3 = [2, 8, 1]\n",
    "triple_product_result = triple_product(vector1, vector2, vector3)\n",
    "print('Result of the triple product : ' +str(triple_product_result))"
   ]
  },
  {
   "cell_type": "markdown",
   "id": "d549c6ba-4630-4ab5-9ff8-c86ced332d07",
   "metadata": {},
   "source": [
    "**(E)** Now we are looking for a function that finds every combination of numbers inside a specific range for a 3D vector. This means for example, if we have range(2,5), we need a function that finds every combination of 2,3 and 4 and generates the different vectors for us. Use the combination function to generate every possible combination of the numbers 1 and 2. (13P)\n"
   ]
  },
  {
   "cell_type": "code",
   "execution_count": 38,
   "id": "081d069c-866c-4018-9664-0b264f8c08e6",
   "metadata": {},
   "outputs": [
    {
     "name": "stdout",
     "output_type": "stream",
     "text": [
      "[[1, 1, 1], [1, 1, 2], [1, 2, 1], [1, 2, 2], [2, 1, 1], [2, 1, 2], [2, 2, 1], [2, 2, 2]]\n"
     ]
    }
   ],
   "source": [
    "def vector_combi(a,b):\n",
    "    '''\n",
    "    Combines every number in range(a,b) with each other and generates the different vectors\n",
    "    '''\n",
    "    vectors = []\n",
    "    for i in range(a,b):\n",
    "        for j in range(a,b):\n",
    "            for k in range(a,b):\n",
    "                vector = [i, j, k]\n",
    "                vectors.append(vector)\n",
    "    return vectors\n",
    "\n",
    "print(vector_combi(1,3))  #1,3 "
   ]
  },
  {
   "cell_type": "markdown",
   "id": "2fe9f24f",
   "metadata": {},
   "source": [
    "## Problem 2: Extrema of functions (50 P)\n",
    "\n",
    "In this exercise, we want to build an exemplary code to calculate the extremum of a function. Since we have no packages introduced yet, we will use a numerical method to estimate the derivative. For the following task, you are NOT allowed to use the scipy package or something similar except for the 'linspace' function from the numpy package, or it is already included in python and must not be imported!\n",
    "\n",
    "As you have already learned in school and in previous semesters, you can calculate the derivative by the differential quotient with infinitesimal small h:\n",
    "\n",
    "<center> $\\frac{df}{dx} = \\lim_{h \\to 0} \\frac{f(x+h) - f(x)}{h}$.\n",
    "    \n",
    "In the case of a numerical approach, we can use three different methods:\n",
    "    \n",
    "1) Forward-difference discrete derivative:\n",
    "    \n",
    "<center> $\\frac{df}{dx} \\approx \\frac{f(x+h) - f(x)}{h}$,\n",
    "    \n",
    "2) Backward-difference discrete derivative:\n",
    "    \n",
    "<center> $\\frac{df}{dx} \\approx \\frac{f(x) - f(x-h)}{h}$,\n",
    "    \n",
    "3) Central-difference discrete derivate:\n",
    "    \n",
    "<center> $\\frac{df}{dx} \\approx \\frac{f(x+h) - f(x-h)}{2h}$.\n",
    "    \n",
    "The precision of these methods is different. As in the continuous way, h is a small deviation of x.\n",
    "\n",
    "The aim is to write a code that allows you to calculate the extremum by only giving the function as input.\n",
    "We will work step by step.\n",
    "    \n",
    "In the case you do not have a solution that works properly for a subtask, write a pseudocode for the following ones. This will also grand you points!\n",
    "\n",
    "**(A)** First, we need some functions to make life easier.\n",
    "Write functions to define a function f(x) = (x-6)**2, the first derivative f_prime, the second derivative f_2prime, and the third derivative f_3prime! \n",
    "\n",
    "    \n",
    "The second and third derivatives should not be written by hand. You have to find a way that f_2prime uses the function f_prime directly (same for f_3prime and f_2prime)! You can choose one method from the given ones!(15P)\n"
   ]
  },
  {
   "cell_type": "code",
   "execution_count": 39,
   "id": "2a3d2816",
   "metadata": {},
   "outputs": [],
   "source": [
    "def f(x):\n",
    "    f = (x-6)**2\n",
    "    return f\n",
    "\n",
    "def f_prime(x, h):\n",
    "    f_prime = (f(x + h) - f(x-h)) / (2*h)\n",
    "    return f_prime\n",
    "\n",
    "def f_2prime(x, h):\n",
    "    f_2prime = (f_prime(x + h,h) - f_prime(x - h,h)) /(2*h)\n",
    "    return f_2prime\n",
    "\n",
    "def f_3prime(x, h):\n",
    "    f_3prime = (f_2prime(x + h,h) - f_2prime(x-h,h)) /(2*h)\n",
    "    return f_3prime"
   ]
  },
  {
   "cell_type": "markdown",
   "id": "84582dfb",
   "metadata": {},
   "source": [
    "**(B)** Now, we need to find a way, to estimate the x, where the f_prime becomes 0. Because we are using numerical methods, we won't reach 0 exactly, but we will get close there. For this, we need to define a range of numbers that should be investigated. For this, we need to import the numpy package again. In this package, you can find a function 'linspace(a,b,c)'. 'a' and 'b' define the start and endpoint of your interval. 'c' divides this interval into a certain amount of steps. This interval will the be stored as an array. Use a=-10, b=10, c=100. \n",
    "\n",
    "\n",
    "For h, we use h=1, which is small enough for our purpose.\n",
    "In case you want to find a specific index inside a list 'list', you can use list.index(). In the brackets, you can add the function that gives you the values you are looking for. (15P)\n",
    "\n",
    "\n",
    "(Hint: You can look up ways to find the minimum of a list. Keep it simple.)"
   ]
  },
  {
   "cell_type": "code",
   "execution_count": 40,
   "id": "29bdf961",
   "metadata": {},
   "outputs": [],
   "source": [
    "#find zero without numpy\n",
    "h=1\n",
    "\n",
    "def linspace(start, stop, num):\n",
    "    step = (stop - start) / (num - 1)\n",
    "    return [start + i * step for i in range(num)]\n",
    "\n",
    "x = linspace(-10, 10, 100)\n",
    "\n",
    "\n",
    "f_p = []\n",
    "for i in range(len(x)):\n",
    "        f_p.append(f_prime(x[i], h))\n",
    "\n",
    "k=f_p.index(min(f_p, key=abs))\n",
    "\n",
    "for i in range(len(x)):\n",
    "    if i == f_p.index(min(f_p, key=abs)):\n",
    "        x_0=x[i]"
   ]
  },
  {
   "cell_type": "code",
   "execution_count": 41,
   "id": "8f58b3f1",
   "metadata": {},
   "outputs": [],
   "source": [
    "#find the zero with numpy\n",
    "\n",
    "import numpy as np\n",
    "\n",
    "h=1\n",
    "\n",
    "x=np.linspace(-10, 10, 10000)\n",
    "\n",
    "f_p = []\n",
    "for i in range(len(x)):\n",
    "        f_p.append(f_prime(x[i], h))\n",
    "\n",
    "k=f_p.index(min(f_p, key=abs))\n",
    "\n",
    "for i in range(len(np.linspace(-10,10 , 100))):\n",
    "    if i == f_p.index(min(f_p, key=abs)):\n",
    "        x_0=x[i]"
   ]
  },
  {
   "cell_type": "markdown",
   "id": "b8660172",
   "metadata": {},
   "source": [
    "**(C)** After we found the zero, we want to get a few more information. Write a code, that prints automatically, whether you have a minimum, maximum, or turning point. In case of a turning point, we want also the information if it is a saddle point! Keep in mind, this time f(x) is pretty easy. Of course, one could think about more difficult situations where the answer is not clear in advance! (15P)"
   ]
  },
  {
   "cell_type": "code",
   "execution_count": 42,
   "id": "9430bbfa",
   "metadata": {},
   "outputs": [
    {
     "name": "stdout",
     "output_type": "stream",
     "text": [
      "function has minimum at x(5.9595959595959584|0.0016324864809714222)\n"
     ]
    }
   ],
   "source": [
    "# check if extremum is minimum, maximum or turning point\n",
    "x = x_0\n",
    "c = f_2prime(x, h)\n",
    "\n",
    "if c < 0:\n",
    "    print('function has maximum at x(' + str(x_0) + '|' + str(f(x)) + ')')\n",
    "if c > 0:\n",
    "    print('function has minimum at x(' + str(x_0) + '|' + str(f(x)) + ')')\n",
    "if c == 0:\n",
    "    if f_3prime(x,h) !=0:\n",
    "        print('function has saddle point at x(' + str(x_0) + '|' + str(f(x)) + ')')\n",
    "    else:\n",
    "        print('function has turning point at x(' + str(x_0) + '|' + str(f(x)) + ')')"
   ]
  },
  {
   "cell_type": "markdown",
   "id": "63b5d242",
   "metadata": {},
   "source": [
    "**(D)** In the last step, you have to show, by printing, that the central-difference method has the highest precision of the three given methods. \n",
    "\n",
    "You can use your previous code for this task! (5P)"
   ]
  },
  {
   "cell_type": "code",
   "execution_count": 43,
   "id": "fcdb3882",
   "metadata": {},
   "outputs": [
    {
     "name": "stdout",
     "output_type": "stream",
     "text": [
      "function has minimum at x(6.565656565656564|0.31996735027037865)\n"
     ]
    }
   ],
   "source": [
    "#Backward\n",
    "x = linspace(-10, 10, 100)\n",
    "\n",
    "def f(x):\n",
    "    f = (x-6)**2\n",
    "    return f\n",
    "\n",
    "def f_prime(x, h):\n",
    "    f_prime = (f(x) - f(x-h)) / (h)\n",
    "    return f_prime\n",
    "\n",
    "def f_2prime(x, h):\n",
    "    f_2prime = (f_prime(x,h) - f_prime(x-h,h)) / (h)\n",
    "    return f_2prime\n",
    "\n",
    "def f_3prime(x, h):\n",
    "    f_3prime = (f_2prime(x,h) - f_2prime(x-h,h)) / (h)\n",
    "    return f_3prime\n",
    "\n",
    "f_p = []\n",
    "for i in range(len(x)):\n",
    "        f_p.append(f_prime(x[i], h))\n",
    "\n",
    "k=f_p.index(min(f_p, key=abs))\n",
    "\n",
    "for i in range(len(x)):\n",
    "    if i == f_p.index(min(f_p, key=abs)):\n",
    "        x_0=x[i]\n",
    "        \n",
    "x = x_0\n",
    "c = f_2prime(x, h)\n",
    "\n",
    "if c < 0:\n",
    "    print('function has maximum at x(' + str(x_0) + '|' + str(f(x)) + ')')\n",
    "if c > 0:\n",
    "    print('function has minimum at x(' + str(x_0) + '|' + str(f(x)) + ')')\n",
    "if c == 0:\n",
    "    if f_3prime(x,h) !=0:\n",
    "        print('function has saddle point at x(' + str(x_0) + '|' + str(f(x)) + ')')\n",
    "    else:\n",
    "        print('function has turning point at x(' + str(x_0) + '|' + str(f(x)) + ')')\n",
    "        \n"
   ]
  },
  {
   "cell_type": "code",
   "execution_count": 44,
   "id": "45be90b5",
   "metadata": {},
   "outputs": [
    {
     "name": "stdout",
     "output_type": "stream",
     "text": [
      "function has minimum at x(5.555555555555555|0.19753086419753105)\n"
     ]
    }
   ],
   "source": [
    "#Forward\n",
    "\n",
    "def f(x):\n",
    "    f = (x-6)**2\n",
    "    return f\n",
    "\n",
    "def f_prime(x, h):\n",
    "    f_prime = (f(x+h) - f(x)) / (h)\n",
    "    return f_prime\n",
    "\n",
    "def f_2prime(x, h):\n",
    "    f_2prime = (f_prime(x + h,h) - f_prime(x,h)) / (h)\n",
    "    return f_2prime\n",
    "\n",
    "def f_3prime(x, h):\n",
    "    f_3prime = (f_2prime(x + h,h) - f_2prime(x,h)) / (h)\n",
    "    return f_3prime\n",
    "\n",
    "h=1\n",
    "\n",
    "x=np.linspace(-10, 10, 100)\n",
    "\n",
    "f_p = []\n",
    "for i in range(len(x)):\n",
    "        f_p.append(f_prime(x[i], h))\n",
    "\n",
    "k=f_p.index(min(f_p, key=abs))\n",
    "\n",
    "for i in range(len(np.linspace(-10,10 , 100))):\n",
    "    if i == f_p.index(min(f_p, key=abs)):\n",
    "        x_0=x[i]\n",
    "        \n",
    "x = x_0\n",
    "c = f_2prime(x, h)\n",
    "\n",
    "if c < 0:\n",
    "    print('function has maximum at x(' + str(x_0) + '|' + str(f(x)) + ')')\n",
    "if c > 0:\n",
    "    print('function has minimum at x(' + str(x_0) + '|' + str(f(x)) + ')')\n",
    "if c == 0:\n",
    "    if f_3prime(x,h) !=0:\n",
    "        print('function has saddle point at x(' + str(x_0) + '|' + str(f(x)) + ')')\n",
    "    else:\n",
    "        print('function has turning point at x(' + str(x_0) + '|' + str(f(x)) + ')')"
   ]
  },
  {
   "cell_type": "code",
   "execution_count": 45,
   "id": "749aa84e",
   "metadata": {},
   "outputs": [],
   "source": [
    "#method with highest precission: central difference"
   ]
  },
  {
   "cell_type": "markdown",
   "id": "0898ce9d",
   "metadata": {},
   "source": [
    "This way only works for functions with one extremum. In case, there is more than one, one would need to modify the code so that the lists are slized to find multiple zeros this way. This is for this task not needed but something to keep in mind."
   ]
  }
 ],
 "metadata": {
  "kernelspec": {
   "display_name": "Python 3 (ipykernel)",
   "language": "python",
   "name": "python3"
  },
  "language_info": {
   "codemirror_mode": {
    "name": "ipython",
    "version": 3
   },
   "file_extension": ".py",
   "mimetype": "text/x-python",
   "name": "python",
   "nbconvert_exporter": "python",
   "pygments_lexer": "ipython3",
   "version": "3.11.5"
  }
 },
 "nbformat": 4,
 "nbformat_minor": 5
}
