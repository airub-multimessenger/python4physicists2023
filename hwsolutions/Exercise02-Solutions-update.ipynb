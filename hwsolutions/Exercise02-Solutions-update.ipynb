{
 "cells": [
  {
   "cell_type": "markdown",
   "id": "d8f8a62e",
   "metadata": {},
   "source": [
    "# Problem 1: Lists, arrays and python as a calculator (44P)"
   ]
  },
  {
   "cell_type": "markdown",
   "id": "c9c016a7",
   "metadata": {},
   "source": [
    "As mentioned in last week's exercise, lists can become large and sometimes confusing.\n",
    "In this exercise, we will use Python as a calculator and use an array to save the values.\n",
    "You will use a list that contains data for a special class of exceptionally bright supernovae. Some models try to explain the high brightness.\n",
    "In the following, you will find the parameters for such a model, assuming a magnetar is formed during the explosion.\n",
    "\n",
    "First, import the document \"NichollSample_python homework.txt,\" which contains all the data needed for this exercise.\n",
    "\n",
    "You can import it by using the following code:"
   ]
  },
  {
   "cell_type": "code",
   "execution_count": 1,
   "id": "255c2237",
   "metadata": {},
   "outputs": [],
   "source": [
    "import numpy as np\n",
    "List_1= np.loadtxt('NichollSample_python homework.txt', dtype={'names': ('sourceName', 'P_i', 'B_14', 'M_ej', 'v8', 'z'), 'formats': ('S12', 'f4', 'f4', 'f4', 'f4', 'f4')})\n"
   ]
  },
  {
   "cell_type": "markdown",
   "id": "76c6050e",
   "metadata": {},
   "source": [
    "This code creates a list with the data from the document, where each column gets its own name.\n",
    "\n",
    "On Anaconda, numpy should be preinstalled. In case it is not, for Anaconda, you can install it with the command: 'conda install numpy.' \n",
    "If you have Python directly installed on your computer (with pip-connection), you can use pip install numpy.\n",
    "You will learn more about numpy later in the lecture!\n",
    "\n",
    "If you want to get the values for a specific quantity (e.g., the spinning period P_i), you can do this by using P_i = List_1['P_i'], which creates a list with the P_i values.\n",
    "\n",
    "Now, write a code that allows you to calculate the distance in Mpc to the transients. (6P)\n",
    "\n",
    "For distance calculation, use $D = (z c) / H_0 $, where $D$ is the distance, $c=3\\times10^8$ m/s the speed of light, $z$ the redshift, and $H_0 =70$ km/s/MPc is the Hubble constant.\n",
    "\n",
    "Python has a built-in round-function round(x,y) that allows you to round a number x on y decimals. However, since $D$ is currently an array, you cannot round D directly. \n",
    "Find a way to round the entries of $D$ to 2 decimals using the round()-function. (11P) \n",
    "Check if it works by printing the list.\n",
    "\n",
    "Afterward, use the round() function to round at first 2.5 and 3.5 to an integer number. What do you notice now? (6P) \n"
   ]
  },
  {
   "cell_type": "code",
   "execution_count": 2,
   "id": "50f0943b",
   "metadata": {},
   "outputs": [
    {
     "name": "stdout",
     "output_type": "stream",
     "text": [
      "[423.0, 437.14, 459.86, 486.86, 548.14, 612.0, 668.57, 750.0, 824.57, 960.0, 984.43, 1050.0, 1057.29, 1084.29, 1092.86, 1107.43, 1135.71, 1213.71, 1471.71, 1478.57, 1499.57, 1611.43, 2149.29, 2149.29, 2235.0, 2245.71, 2605.71, 2785.71, 2841.43, 3171.43, 3891.43, 4097.14, 4714.29, 5095.71, 5168.57, 6428.57, 6707.14, 6805.71]\n",
      "[423.0, 437.14, 459.86, 486.86, 548.14, 612.0, 668.57, 750.0, 824.57, 960.0, 984.43, 1050.0, 1057.29, 1084.29, 1092.86, 1107.43, 1135.71, 1213.71, 1471.71, 1478.57, 1499.57, 1611.43, 2149.29, 2149.29, 2235.0, 2245.71, 2605.71, 2785.71, 2841.43, 3171.43, 3891.43, 4097.14, 4714.29, 5095.71, 5168.57, 6428.57, 6707.14, 6805.71]\n"
     ]
    }
   ],
   "source": [
    "#Your code:\n",
    "H_0 = 70\n",
    "z = List_1['z']\n",
    "c = 3*10**5\n",
    "\n",
    "D = [round(z*c/H_0, 2) for z in List_1['z']]\n",
    "\n",
    "print(D)\n",
    "\n",
    "for i in range(len(D)):\n",
    "    D[i] = round(D[i],2)\n",
    "    \n",
    "print(D)"
   ]
  },
  {
   "cell_type": "code",
   "execution_count": 1,
   "id": "7631c597-a31c-42c7-8008-4e81f5f60f91",
   "metadata": {},
   "outputs": [
    {
     "name": "stdout",
     "output_type": "stream",
     "text": [
      "2.0\n",
      "4.0\n"
     ]
    }
   ],
   "source": [
    "print(round(2.5,0))\n",
    "print(round(3.5,0))"
   ]
  },
  {
   "cell_type": "code",
   "execution_count": null,
   "id": "2fef0f9e-c0e0-4b89-bc2e-c99f21c54145",
   "metadata": {},
   "outputs": [],
   "source": [
    "#your observation(s): In some cases, the round() function is producing numbers that differ from mathematical rounding. \n",
    "#That is something, one should be aware of."
   ]
  },
  {
   "cell_type": "markdown",
   "id": "5b95154e",
   "metadata": {},
   "source": [
    "Now print all objects from this document that have an ejecta mass $M_{\\mathrm{ej}} > 10 M_{\\mathrm{sun}}$ (The values are already in solar masses).\n",
    "\n",
    "Use the printorder (name, P_i, B_14, M_ej, v8, z, D).\n",
    "\n",
    "In case $M_{\\mathrm{ej}} < 10 M_\\mathrm{sun}$, print 'Ejecta mass too small!'.\n",
    "\n",
    "To make the list more readable, use a tab as a space between each entry. For this, you can use \\t, which generates a tab. (21P)\n",
    "\n",
    "(Hint: Don't be confused if the names appear like b'name'. If you add .decode() to the element that you want to print, this vanishes.) "
   ]
  },
  {
   "cell_type": "code",
   "execution_count": 4,
   "id": "0a445fed",
   "metadata": {},
   "outputs": [
    {
     "name": "stdout",
     "output_type": "stream",
     "text": [
      "PTF10hgi\tEjecta mass too small!\n",
      "Gaia16apd\tEjecta mass too small!\n",
      "PTF12dam\tEjecta mass too small!\n",
      "SN2015bn\t2.16\t0.31\t11.73\t5.46\t0.1136\t486.86\n",
      "SN2007bi\tEjecta mass too small!\n",
      "SN2011ke\tEjecta mass too small!\n",
      "SSS120810\tEjecta mass too small!\n",
      "SN2012il\tEjecta mass too small!\n",
      "PTF11rks\tEjecta mass too small!\n",
      "iPTF15esb\t1.62\t2.39\t17.5\t6.28\t0.224\t960.0\n",
      "SN2010gx\tEjecta mass too small!\n",
      "SN2011kf\tEjecta mass too small!\n",
      "iPTF16bad\tEjecta mass too small!\n",
      "LSQ14mo\tEjecta mass too small!\n",
      "LSQ12dlf\tEjecta mass too small!\n",
      "PTF09cnd\tEjecta mass too small!\n",
      "SN2013dg\tEjecta mass too small!\n",
      "SN2005ap\tEjecta mass too small!\n",
      "iPTF13ehe\t2.57\t0.2\t10.03\t6.66\t0.3434\t1471.71\n",
      "LSQ14bdq\t0.98\t0.49\t33.71\t8.71\t0.345\t1478.57\n",
      "PTF09cwl\tEjecta mass too small!\n",
      "SN2006oz\tEjecta mass too small!\n",
      "iPTF13dcc\t0.81\t0.98\t23.96\t5.23\t0.5015\t2149.29\n",
      "PTF09atu\tEjecta mass too small!\n",
      "PS1-14bj\t2.82\t0.13\t18.46\t5.07\t0.5215\t2235.0\n",
      "PS1-11ap\tEjecta mass too small!\n",
      "DES14X3taz\tEjecta mass too small!\n",
      "PS1-10bzj\tEjecta mass too small!\n",
      "DES13S2cmm\tEjecta mass too small!\n",
      "iPTF13ajg\tEjecta mass too small!\n",
      "PS1-10awh\tEjecta mass too small!\n",
      "PS1-10ky\tEjecta mass too small!\n",
      "PS1-10ahf\t2.35\t0.17\t10.5\t6.37\t1.1\t4714.29\n",
      "SCP-06F6\tEjecta mass too small!\n",
      "PS1-10pm\tEjecta mass too small!\n",
      "SNLS-07D2bv\tEjecta mass too small!\n",
      "PS1-11bam\tEjecta mass too small!\n",
      "SNLS-06D4eu\tEjecta mass too small!\n"
     ]
    }
   ],
   "source": [
    "#Your code with indexes:\n",
    "M_ej = List_1['M_ej']        #Ejected mass (in solar masses)\n",
    "name = List_1['sourceName']  #Source name  \n",
    "P_i = List_1['P_i']          #Period (in ms, of the hosted pulsar)\n",
    "B_14 = List_1['B_14']        #Parallel magnetic field in units of 10^14 gauss\n",
    "v8 = List_1['v8']            #Time-averaged photospheric velocity in units of 10^3 km/s\n",
    "\n",
    "for i in range(len((M_ej))):\n",
    "    if M_ej[i] > 10.:\n",
    "        print(str(name[i].decode()) + '\\t' +  str(P_i[i]) + '\\t' +  str(B_14[i]) + '\\t' +  str(M_ej[i]) + '\\t' \n",
    "              +  str(v8[i]) + '\\t' +  str(z[i]) + '\\t' +  str(D[i]))\n",
    "    else:\n",
    "        print(str(name[i].decode())+ '\\tEjecta mass too small!')"
   ]
  },
  {
   "cell_type": "markdown",
   "id": "5e5da27a",
   "metadata": {},
   "source": [
    "The exact meaning of the values is not important. The objects/events are superluminous supernovae. \n",
    "In case you want to read more about this special type of supernova, you can read the following paper, \n",
    "where all values are coming from: \n",
    "\n",
    "The Astrophysical Journal, 850:55 (26pp), 2017 November 20, \n",
    "\"The Magnetar Model for Type I Superluminous Supernovae. I. Bayesian Analysis of the Full Multicolor Light-curve Sample with MOSFiT\" by Matt Nicholl, James Guillochon, Edo Berger"
   ]
  },
  {
   "cell_type": "markdown",
   "id": "ee769ea1",
   "metadata": {},
   "source": [
    "# Problem 2: Writing in a pythonic way (56P)"
   ]
  },
  {
   "cell_type": "markdown",
   "id": "8e2cac79",
   "metadata": {},
   "source": [
    "Create a list t_true with all the first 30 integers (from 0 to 29) all divided by 3 (6P)"
   ]
  },
  {
   "cell_type": "code",
   "execution_count": 5,
   "id": "b2fcc604",
   "metadata": {},
   "outputs": [
    {
     "data": {
      "text/plain": [
       "[0.0,\n",
       " 0.3333333333333333,\n",
       " 0.6666666666666666,\n",
       " 1.0,\n",
       " 1.3333333333333333,\n",
       " 1.6666666666666667,\n",
       " 2.0,\n",
       " 2.3333333333333335,\n",
       " 2.6666666666666665,\n",
       " 3.0,\n",
       " 3.3333333333333335,\n",
       " 3.6666666666666665,\n",
       " 4.0,\n",
       " 4.333333333333333,\n",
       " 4.666666666666667,\n",
       " 5.0,\n",
       " 5.333333333333333,\n",
       " 5.666666666666667,\n",
       " 6.0,\n",
       " 6.333333333333333,\n",
       " 6.666666666666667,\n",
       " 7.0,\n",
       " 7.333333333333333,\n",
       " 7.666666666666667,\n",
       " 8.0,\n",
       " 8.333333333333334,\n",
       " 8.666666666666666,\n",
       " 9.0,\n",
       " 9.333333333333334,\n",
       " 9.666666666666666]"
      ]
     },
     "execution_count": 5,
     "metadata": {},
     "output_type": "execute_result"
    }
   ],
   "source": [
    "#Your code here\n",
    "t_true = [n/3 for n in range(30)]\n",
    "t_true"
   ]
  },
  {
   "cell_type": "markdown",
   "id": "d5519f46",
   "metadata": {},
   "source": [
    "Now create a second list t_approx with the elements from L1 rounded to an integer. Do this with one line of code and without using the built-in round() function. (4P)"
   ]
  },
  {
   "cell_type": "code",
   "execution_count": 6,
   "id": "c7f6370a",
   "metadata": {},
   "outputs": [
    {
     "data": {
      "text/plain": [
       "[0.0,\n",
       " 0.0,\n",
       " 1.0,\n",
       " 1.0,\n",
       " 1.0,\n",
       " 2.0,\n",
       " 2.0,\n",
       " 2.0,\n",
       " 3.0,\n",
       " 3.0,\n",
       " 3.0,\n",
       " 4.0,\n",
       " 4.0,\n",
       " 4.0,\n",
       " 5.0,\n",
       " 5.0,\n",
       " 5.0,\n",
       " 6.0,\n",
       " 6.0,\n",
       " 6.0,\n",
       " 7.0,\n",
       " 7.0,\n",
       " 7.0,\n",
       " 8.0,\n",
       " 8.0,\n",
       " 8.0,\n",
       " 9.0,\n",
       " 9.0,\n",
       " 9.0,\n",
       " 10.0]"
      ]
     },
     "execution_count": 6,
     "metadata": {},
     "output_type": "execute_result"
    }
   ],
   "source": [
    "#Your code here\n",
    "t_approx = [t-t%1 if t%1 < 0.5 else t-t%1+1 for t in t_true]\n",
    "t_approx"
   ]
  },
  {
   "cell_type": "markdown",
   "id": "14bbac47",
   "metadata": {},
   "source": [
    "The position of a car $x$ is given by $x(t) = vt$. The velocity of the car is $v=2$ m/s. \n",
    "- Using t_true as the list of times $t$, calculate the actual positions $x_\\mathrm{true}$; (3P)\n",
    "- Using t_approx as the list of times $t$, calculate the approximated positions $x_\\mathrm{approx}$; (3P)\n",
    "- Find the error that we have using the approximated times $\\Delta x = x_\\mathrm{true}-x_\\mathrm{approx}$; (5P)\n",
    "- Find the relative error $\\Delta x_r = \\Delta x / x_\\mathrm{true}$. (5P)"
   ]
  },
  {
   "cell_type": "code",
   "execution_count": 8,
   "id": "0c788d0c",
   "metadata": {},
   "outputs": [
    {
     "name": "stdout",
     "output_type": "stream",
     "text": [
      " 0.00,  0.0, err:  0.00, rel_err:  0.00\n",
      " 0.67,  0.0, err:  0.67, rel_err:  1.00\n",
      " 1.33,  2.0, err: -0.67, rel_err: -0.50\n",
      " 2.00,  2.0, err:  0.00, rel_err:  0.00\n",
      " 2.67,  2.0, err:  0.67, rel_err:  0.25\n",
      " 3.33,  4.0, err: -0.67, rel_err: -0.20\n",
      " 4.00,  4.0, err:  0.00, rel_err:  0.00\n",
      " 4.67,  4.0, err:  0.67, rel_err:  0.14\n",
      " 5.33,  6.0, err: -0.67, rel_err: -0.13\n",
      " 6.00,  6.0, err:  0.00, rel_err:  0.00\n",
      " 6.67,  6.0, err:  0.67, rel_err:  0.10\n",
      " 7.33,  8.0, err: -0.67, rel_err: -0.09\n",
      " 8.00,  8.0, err:  0.00, rel_err:  0.00\n",
      " 8.67,  8.0, err:  0.67, rel_err:  0.08\n",
      " 9.33, 10.0, err: -0.67, rel_err: -0.07\n",
      "10.00, 10.0, err:  0.00, rel_err:  0.00\n",
      "10.67, 10.0, err:  0.67, rel_err:  0.06\n",
      "11.33, 12.0, err: -0.67, rel_err: -0.06\n",
      "12.00, 12.0, err:  0.00, rel_err:  0.00\n",
      "12.67, 12.0, err:  0.67, rel_err:  0.05\n",
      "13.33, 14.0, err: -0.67, rel_err: -0.05\n",
      "14.00, 14.0, err:  0.00, rel_err:  0.00\n",
      "14.67, 14.0, err:  0.67, rel_err:  0.05\n",
      "15.33, 16.0, err: -0.67, rel_err: -0.04\n",
      "16.00, 16.0, err:  0.00, rel_err:  0.00\n",
      "16.67, 16.0, err:  0.67, rel_err:  0.04\n",
      "17.33, 18.0, err: -0.67, rel_err: -0.04\n",
      "18.00, 18.0, err:  0.00, rel_err:  0.00\n",
      "18.67, 18.0, err:  0.67, rel_err:  0.04\n",
      "19.33, 20.0, err: -0.67, rel_err: -0.03\n"
     ]
    }
   ],
   "source": [
    "#Your code here\n",
    "v = 2\n",
    "x_true=[v*t for t in t_true]\n",
    "x_approx=[v*t for t in t_approx]\n",
    "errs = [a-b for a,b in zip(x_true, x_approx)]\n",
    "rel_errs = [e/a if a > 0 else 0. for e,a in zip(errs,x_true)]\n",
    "for a,b,e,r_e in zip(x_true, x_approx, errs, rel_errs):\n",
    "    print(f\"{a:5.2f}, {b:4.1f}, err: {e:5.2f}, rel_err: {r_e:5.2f}\")"
   ]
  },
  {
   "cell_type": "markdown",
   "id": "7a010b98",
   "metadata": {},
   "source": [
    "The position of the car is now given by $x(t)=\\frac{1}{2}at^2$ where $a$ is the acceleration of $2$ m/s$^2$.\n",
    "\n",
    "Which error and relative error would you have now using the approximated time instead of the true one? (3P + 3P)"
   ]
  },
  {
   "cell_type": "code",
   "execution_count": 9,
   "id": "04ce00df",
   "metadata": {},
   "outputs": [
    {
     "name": "stdout",
     "output_type": "stream",
     "text": [
      " 0.00,  0.0, err:  0.00, rel_err:  0.00\n",
      " 0.11,  0.0, err:  0.11, rel_err:  1.00\n",
      " 0.44,  1.0, err: -0.56, rel_err: -1.25\n",
      " 1.00,  1.0, err:  0.00, rel_err:  0.00\n",
      " 1.78,  1.0, err:  0.78, rel_err:  0.44\n",
      " 2.78,  4.0, err: -1.22, rel_err: -0.44\n",
      " 4.00,  4.0, err:  0.00, rel_err:  0.00\n",
      " 5.44,  4.0, err:  1.44, rel_err:  0.27\n",
      " 7.11,  9.0, err: -1.89, rel_err: -0.27\n",
      " 9.00,  9.0, err:  0.00, rel_err:  0.00\n",
      "11.11,  9.0, err:  2.11, rel_err:  0.19\n",
      "13.44, 16.0, err: -2.56, rel_err: -0.19\n",
      "16.00, 16.0, err:  0.00, rel_err:  0.00\n",
      "18.78, 16.0, err:  2.78, rel_err:  0.15\n",
      "21.78, 25.0, err: -3.22, rel_err: -0.15\n",
      "25.00, 25.0, err:  0.00, rel_err:  0.00\n",
      "28.44, 25.0, err:  3.44, rel_err:  0.12\n",
      "32.11, 36.0, err: -3.89, rel_err: -0.12\n",
      "36.00, 36.0, err:  0.00, rel_err:  0.00\n",
      "40.11, 36.0, err:  4.11, rel_err:  0.10\n",
      "44.44, 49.0, err: -4.56, rel_err: -0.10\n",
      "49.00, 49.0, err:  0.00, rel_err:  0.00\n",
      "53.78, 49.0, err:  4.78, rel_err:  0.09\n",
      "58.78, 64.0, err: -5.22, rel_err: -0.09\n",
      "64.00, 64.0, err:  0.00, rel_err:  0.00\n",
      "69.44, 64.0, err:  5.44, rel_err:  0.08\n",
      "75.11, 81.0, err: -5.89, rel_err: -0.08\n",
      "81.00, 81.0, err:  0.00, rel_err:  0.00\n",
      "87.11, 81.0, err:  6.11, rel_err:  0.07\n",
      "93.44, 100.0, err: -6.56, rel_err: -0.07\n"
     ]
    }
   ],
   "source": [
    "#Your code here\n",
    "a=2\n",
    "x_true=[a*t*t/2 for t in t_true]\n",
    "x_approx=[a*t*t/2 for t in t_approx]\n",
    "errs = [a-b for a,b in zip(x_true, x_approx)]\n",
    "rel_errs = [e/a if a > 0 else 0. for e,a in zip(errs,x_true)]\n",
    "for a,b,e,r_e in zip(x_true, x_approx, errs, rel_errs):\n",
    "    print(f\"{a:5.2f}, {b:4.1f}, err: {e:5.2f}, rel_err: {r_e:5.2f}\")"
   ]
  },
  {
   "cell_type": "markdown",
   "id": "a2250ea9",
   "metadata": {},
   "source": [
    "You have now a population of bacteria whose number goes as $N(t)=N_02^{t/\\tau}$ where $N_0 = 10$ is the population at the instant $t=0$ and $\\tau=1$ h is the time that the bacteria need to duplicate. Treat your lists of times as if they were in units of hours, without applying any modification to them (so if a number before was 10 s, not it is 10 h). Keep in mind that the number of bacteria must always be an integer (here you can use the built-in function round()).\n",
    "\n",
    "How do error and relative error now go? (12 P)"
   ]
  },
  {
   "cell_type": "code",
   "execution_count": 11,
   "id": "85ec4bf7",
   "metadata": {},
   "outputs": [
    {
     "name": "stdout",
     "output_type": "stream",
     "text": [
      "    10,     10, err:     0, rel_err:  0.00\n",
      "    13,     10, err:     3, rel_err:  0.23\n",
      "    16,     20, err:    -4, rel_err: -0.25\n",
      "    20,     20, err:     0, rel_err:  0.00\n",
      "    25,     20, err:     5, rel_err:  0.20\n",
      "    32,     40, err:    -8, rel_err: -0.25\n",
      "    40,     40, err:     0, rel_err:  0.00\n",
      "    50,     40, err:    10, rel_err:  0.20\n",
      "    63,     80, err:   -17, rel_err: -0.27\n",
      "    80,     80, err:     0, rel_err:  0.00\n",
      "   101,     80, err:    21, rel_err:  0.21\n",
      "   127,    160, err:   -33, rel_err: -0.26\n",
      "   160,    160, err:     0, rel_err:  0.00\n",
      "   202,    160, err:    42, rel_err:  0.21\n",
      "   254,    320, err:   -66, rel_err: -0.26\n",
      "   320,    320, err:     0, rel_err:  0.00\n",
      "   403,    320, err:    83, rel_err:  0.21\n",
      "   508,    640, err:  -132, rel_err: -0.26\n",
      "   640,    640, err:     0, rel_err:  0.00\n",
      "   806,    640, err:   166, rel_err:  0.21\n",
      "  1016,   1280, err:  -264, rel_err: -0.26\n",
      "  1280,   1280, err:     0, rel_err:  0.00\n",
      "  1613,   1280, err:   333, rel_err:  0.21\n",
      "  2032,   2560, err:  -528, rel_err: -0.26\n",
      "  2560,   2560, err:     0, rel_err:  0.00\n",
      "  3225,   2560, err:   665, rel_err:  0.21\n",
      "  4064,   5120, err: -1056, rel_err: -0.26\n",
      "  5120,   5120, err:     0, rel_err:  0.00\n",
      "  6451,   5120, err:  1331, rel_err:  0.21\n",
      "  8127,  10240, err: -2113, rel_err: -0.26\n"
     ]
    }
   ],
   "source": [
    "#Your code here\n",
    "a=2\n",
    "x_true=[int(round(10*a**(t))) for t in t_true]\n",
    "x_approx=[int(10*a**(t)) for t in t_approx]\n",
    "errs = [a-b for a,b in zip(x_true, x_approx)]\n",
    "rel_errs = [e/a if a > 0 else 0. for e,a in zip(errs,x_true)]\n",
    "for a,b,e,r_e in zip(x_true, x_approx, errs, rel_errs):\n",
    "    print(f\"{a:6}, {b:6}, err: {e:5}, rel_err: {r_e:5.2f}\")"
   ]
  },
  {
   "cell_type": "markdown",
   "id": "fff847ba",
   "metadata": {},
   "source": [
    "Print the list of errors from the precedent point until there is an error with absolute value greater than 1000, once using break, and one using while (6P + 6P)"
   ]
  },
  {
   "cell_type": "code",
   "execution_count": 12,
   "id": "78d7816b",
   "metadata": {},
   "outputs": [
    {
     "name": "stdout",
     "output_type": "stream",
     "text": [
      "0\n",
      "3\n",
      "-4\n",
      "0\n",
      "5\n",
      "-8\n",
      "0\n",
      "10\n",
      "-17\n",
      "0\n",
      "21\n",
      "-33\n",
      "0\n",
      "42\n",
      "-66\n",
      "0\n",
      "83\n",
      "-132\n",
      "0\n",
      "166\n",
      "-264\n",
      "0\n",
      "333\n",
      "-528\n",
      "0\n",
      "665\n"
     ]
    }
   ],
   "source": [
    "#Your code here, using while\n",
    "i = 0\n",
    "e = errs[0]\n",
    "while e < 1000 and e > -1000:\n",
    "    print(e)\n",
    "    i+=1\n",
    "    e = errs[i]"
   ]
  },
  {
   "cell_type": "code",
   "execution_count": 13,
   "id": "bf70ad7a",
   "metadata": {},
   "outputs": [
    {
     "name": "stdout",
     "output_type": "stream",
     "text": [
      "0\n",
      "3\n",
      "-4\n",
      "0\n",
      "5\n",
      "-8\n",
      "0\n",
      "10\n",
      "-17\n",
      "0\n",
      "21\n",
      "-33\n",
      "0\n",
      "42\n",
      "-66\n",
      "0\n",
      "83\n",
      "-132\n",
      "0\n",
      "166\n",
      "-264\n",
      "0\n",
      "333\n",
      "-528\n",
      "0\n",
      "665\n"
     ]
    }
   ],
   "source": [
    "#your code here, using break\n",
    "for e in errs:\n",
    "    if e>1000 or e<-1000: break\n",
    "    print(e)"
   ]
  },
  {
   "cell_type": "code",
   "execution_count": null,
   "id": "24cc4611",
   "metadata": {},
   "outputs": [],
   "source": []
  }
 ],
 "metadata": {
  "kernelspec": {
   "display_name": "Python 3 (ipykernel)",
   "language": "python",
   "name": "python3"
  },
  "language_info": {
   "codemirror_mode": {
    "name": "ipython",
    "version": 3
   },
   "file_extension": ".py",
   "mimetype": "text/x-python",
   "name": "python",
   "nbconvert_exporter": "python",
   "pygments_lexer": "ipython3",
   "version": "3.11.4"
  }
 },
 "nbformat": 4,
 "nbformat_minor": 5
}
