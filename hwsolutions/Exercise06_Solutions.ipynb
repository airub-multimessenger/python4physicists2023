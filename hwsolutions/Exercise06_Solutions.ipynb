{
 "cells": [
  {
   "cell_type": "markdown",
   "id": "6a802baf",
   "metadata": {},
   "source": [
    "## Name: "
   ]
  },
  {
   "cell_type": "markdown",
   "id": "25ef23fe",
   "metadata": {},
   "source": [
    "# Problem 1: A gravity assist to save the Numpyans (50 P)"
   ]
  },
  {
   "cell_type": "markdown",
   "id": "199df16b",
   "metadata": {},
   "source": [
    "In a galaxy far, far away, there is a planet whose inhabitants are one of the most developed civilizations of the Universe. This alien population is known as \"The Numpyans\", and their planet is \"Arreyu\". The planetary system of which Arreyu is part is very particular because at the center there isn't a star but a black hole known as \"Matrixar\". \n",
    "\n",
    "Over the centuries, the Numpyans have been polluting their planet Arreyu more and more, so much so that this isn't any more suitable for hosting life. All their technology couldn't do anything against this environmental disaster, but it could still be capable of saving the Numpyans. How? By transferring the whole population to a different planet. Around Matrixar, no other place is suitable for life. Therefore, the Numpyans must go further away in a new planetary system. To do so, they should accelerate their spaceships to very high velocities. The planetary task force for interstellar migration is considering obtaining this acceleration by approaching closely the black hole Matrixar. This acceleration process is known as \"Gravity assist\". The task force is, however, concerned by the tidal forces close to the black hole because they fear they could tear apart the single Numpyan.\n",
    "\n",
    "In this problem you will have to estimate the effect of tidal forces on the whole population of the Numpyans"
   ]
  },
  {
   "cell_type": "markdown",
   "id": "4a8b4d29",
   "metadata": {},
   "source": [
    "### Population heights\n",
    "For the next tasks you will need the whole data relative to the Numpyans population. In particular, you will need to know the height of the single individual. To do so you have to use the numpy funcion `numpy.random.normal(mean, scale, size)`. This funcion generates random numbers following a normal distribution, the parameters are:\n",
    "- `mean` is the mean $\\mu$ of the gaussian;\n",
    "- `scale` is the standard deviation $\\sigma$;\n",
    "- `size` determines the size of the numpy array that is filled with this random numbers (if it is just an integer `n`, it generates a numpy array with `n` elements)."
   ]
  },
  {
   "cell_type": "markdown",
   "id": "d11d02b4",
   "metadata": {},
   "source": [
    "### A (2 P)\n",
    "Generate a numpy array with the heights for each single Numpyan. To do so, use the function `numpy.random.normal()` to generate $10^7$ random numbers following a gaussian distribution centered in $150$ cm and with a standard deviation of $10$ cm."
   ]
  },
  {
   "cell_type": "code",
   "execution_count": 2,
   "id": "2008f00b",
   "metadata": {
    "tags": []
   },
   "outputs": [],
   "source": [
    "#your code here\n",
    "import numpy as np\n",
    "pop_heights = np.random.normal(150., 10., int(1e7))"
   ]
  },
  {
   "cell_type": "markdown",
   "id": "a61f17fa",
   "metadata": {},
   "source": [
    "### The Schwarzschild radius\n",
    "For a non-rotating black hole (a Schwarzschild black hole), the Swcharzschild radius defines the event horizon (the distance from the black hole center where the escape velocity is equal to the speed of light). Any object that goes over the event horizon can never return back. The Schwarzschild radius $r_s$ depends only on the black hole mass:\n",
    "$$ r_s = \\frac{2GM}{c^2} $$\n",
    "Where $G$ is the gravitational constant $G=6.674\\times10^{-11}$ $\\frac{\\mathrm{m}^3}{\\mathrm{kg}\\,\\mathrm{s}^2}$, and $c$ is the speed of light $c\\simeq3\\times10^8$ m/s."
   ]
  },
  {
   "cell_type": "markdown",
   "id": "73c7d4ca",
   "metadata": {},
   "source": [
    "### B (2 P)\n",
    "Calculate the Schwarzschild radius for Matrixar. For its mass use $M = 3.5\\times10^{34}$ kg. Express it in meters as well in units of Earth radius $r_\\mathrm{Earth} = 6371$ km."
   ]
  },
  {
   "cell_type": "code",
   "execution_count": 2,
   "id": "4e65f74c",
   "metadata": {
    "tags": []
   },
   "outputs": [
    {
     "name": "stdout",
     "output_type": "stream",
     "text": [
      "Swarzschild radius:\n",
      "51908888.9 m, 8.15 Earth radii\n"
     ]
    }
   ],
   "source": [
    "#Your code here\n",
    "BH_Mass = 3.5e34 #kg\n",
    "grav_const = 6.674e-11 #m^3 kg^-1 s^-2\n",
    "c = 3e8 #m s^-2\n",
    "Schwarzschild_Radius = 2*grav_const*BH_Mass/(c**2)\n",
    "\n",
    "def to_earth_radii(x):\n",
    "    return x/6.371e6\n",
    "\n",
    "print(f\"Swarzschild radius:\\n{Schwarzschild_Radius:.1f} m, {to_earth_radii(Schwarzschild_Radius):.2f} Earth radii\")"
   ]
  },
  {
   "cell_type": "markdown",
   "id": "344a08af",
   "metadata": {},
   "source": [
    "### C (4 P)\n",
    "The task force for intestellar migration proposes for the gravity assist to pass between 1 to 2 Scwarzschild radii from the black hole. Generate a numpy array with 100 radii linearly distributed between these two limits. Express these distances both in meters and in Earth radii."
   ]
  },
  {
   "cell_type": "code",
   "execution_count": 3,
   "id": "ac2fdc51",
   "metadata": {
    "tags": []
   },
   "outputs": [
    {
     "data": {
      "text/plain": [
       "array([5.19088889e+07, 5.24332211e+07, 5.29575533e+07, 5.34818855e+07,\n",
       "       5.40062177e+07, 5.45305499e+07, 5.50548822e+07, 5.55792144e+07,\n",
       "       5.61035466e+07, 5.66278788e+07, 5.71522110e+07, 5.76765432e+07,\n",
       "       5.82008754e+07, 5.87252076e+07, 5.92495398e+07, 5.97738721e+07,\n",
       "       6.02982043e+07, 6.08225365e+07, 6.13468687e+07, 6.18712009e+07,\n",
       "       6.23955331e+07, 6.29198653e+07, 6.34441975e+07, 6.39685297e+07,\n",
       "       6.44928620e+07, 6.50171942e+07, 6.55415264e+07, 6.60658586e+07,\n",
       "       6.65901908e+07, 6.71145230e+07, 6.76388552e+07, 6.81631874e+07,\n",
       "       6.86875196e+07, 6.92118519e+07, 6.97361841e+07, 7.02605163e+07,\n",
       "       7.07848485e+07, 7.13091807e+07, 7.18335129e+07, 7.23578451e+07,\n",
       "       7.28821773e+07, 7.34065095e+07, 7.39308418e+07, 7.44551740e+07,\n",
       "       7.49795062e+07, 7.55038384e+07, 7.60281706e+07, 7.65525028e+07,\n",
       "       7.70768350e+07, 7.76011672e+07, 7.81254994e+07, 7.86498316e+07,\n",
       "       7.91741639e+07, 7.96984961e+07, 8.02228283e+07, 8.07471605e+07,\n",
       "       8.12714927e+07, 8.17958249e+07, 8.23201571e+07, 8.28444893e+07,\n",
       "       8.33688215e+07, 8.38931538e+07, 8.44174860e+07, 8.49418182e+07,\n",
       "       8.54661504e+07, 8.59904826e+07, 8.65148148e+07, 8.70391470e+07,\n",
       "       8.75634792e+07, 8.80878114e+07, 8.86121437e+07, 8.91364759e+07,\n",
       "       8.96608081e+07, 9.01851403e+07, 9.07094725e+07, 9.12338047e+07,\n",
       "       9.17581369e+07, 9.22824691e+07, 9.28068013e+07, 9.33311336e+07,\n",
       "       9.38554658e+07, 9.43797980e+07, 9.49041302e+07, 9.54284624e+07,\n",
       "       9.59527946e+07, 9.64771268e+07, 9.70014590e+07, 9.75257912e+07,\n",
       "       9.80501235e+07, 9.85744557e+07, 9.90987879e+07, 9.96231201e+07,\n",
       "       1.00147452e+08, 1.00671785e+08, 1.01196117e+08, 1.01720449e+08,\n",
       "       1.02244781e+08, 1.02769113e+08, 1.03293446e+08, 1.03817778e+08])"
      ]
     },
     "execution_count": 3,
     "metadata": {},
     "output_type": "execute_result"
    }
   ],
   "source": [
    "#Your code here\n",
    "proposed_distances = np.linspace(Schwarzschild_Radius, 2*Schwarzschild_Radius, 100)\n",
    "proposed_distances"
   ]
  },
  {
   "cell_type": "code",
   "execution_count": 4,
   "id": "d1187655",
   "metadata": {
    "tags": []
   },
   "outputs": [
    {
     "data": {
      "text/plain": [
       "array([ 8.14768308,  8.22998291,  8.31228274,  8.39458257,  8.47688239,\n",
       "        8.55918222,  8.64148205,  8.72378188,  8.80608171,  8.88838154,\n",
       "        8.97068137,  9.0529812 ,  9.13528103,  9.21758086,  9.29988068,\n",
       "        9.38218051,  9.46448034,  9.54678017,  9.62908   ,  9.71137983,\n",
       "        9.79367966,  9.87597949,  9.95827932, 10.04057915, 10.12287898,\n",
       "       10.2051788 , 10.28747863, 10.36977846, 10.45207829, 10.53437812,\n",
       "       10.61667795, 10.69897778, 10.78127761, 10.86357744, 10.94587727,\n",
       "       11.0281771 , 11.11047692, 11.19277675, 11.27507658, 11.35737641,\n",
       "       11.43967624, 11.52197607, 11.6042759 , 11.68657573, 11.76887556,\n",
       "       11.85117539, 11.93347522, 12.01577504, 12.09807487, 12.1803747 ,\n",
       "       12.26267453, 12.34497436, 12.42727419, 12.50957402, 12.59187385,\n",
       "       12.67417368, 12.75647351, 12.83877333, 12.92107316, 13.00337299,\n",
       "       13.08567282, 13.16797265, 13.25027248, 13.33257231, 13.41487214,\n",
       "       13.49717197, 13.5794718 , 13.66177163, 13.74407145, 13.82637128,\n",
       "       13.90867111, 13.99097094, 14.07327077, 14.1555706 , 14.23787043,\n",
       "       14.32017026, 14.40247009, 14.48476992, 14.56706975, 14.64936957,\n",
       "       14.7316694 , 14.81396923, 14.89626906, 14.97856889, 15.06086872,\n",
       "       15.14316855, 15.22546838, 15.30776821, 15.39006804, 15.47236786,\n",
       "       15.55466769, 15.63696752, 15.71926735, 15.80156718, 15.88386701,\n",
       "       15.96616684, 16.04846667, 16.1307665 , 16.21306633, 16.29536616])"
      ]
     },
     "execution_count": 4,
     "metadata": {},
     "output_type": "execute_result"
    }
   ],
   "source": [
    "to_earth_radii(proposed_distances)"
   ]
  },
  {
   "cell_type": "markdown",
   "id": "143115f3",
   "metadata": {},
   "source": [
    "### Tidal acceleration\n",
    "The gravitational force generated by the black hole is not constant over the space. If an object has a linear size $r$, at its extremes there may be two different gravitational forces. The difference between these two forces is a force as well, and is known as *tidal force*. This translates in an acceleration, the *tidal acceleration*. For a body with an extension $r$, at a distance $D$ from the black hole (or any other object), the tidal acceleration $a_g$ is given by:\n",
    "$$a_g=\\frac{2rGM}{D^3}$$"
   ]
  },
  {
   "cell_type": "markdown",
   "id": "c7180682",
   "metadata": {},
   "source": [
    "### D (18 P)\n",
    "The maximum tidal acceleration that a Numpyan can withstand is about $a_{g,\\,\\mathrm{max}} = 50$ m/s$^2$. At higher accelerations a Numpyan would die. Find which is the smallest distance to the black hole at which no Numpyan dies because of the tidal forces when approaching the black hole. In this task you are supposed to use the most possible the numpy functions seen at the lecture."
   ]
  },
  {
   "cell_type": "code",
   "execution_count": 6,
   "id": "3aaa8f49",
   "metadata": {
    "tags": []
   },
   "outputs": [
    {
     "name": "stdout",
     "output_type": "stream",
     "text": [
      "99.77706354265037\n",
      "33.066957580263946\n",
      "Minimum distance:\n",
      "57676543.2 m, 9.05 Earth radii\n"
     ]
    }
   ],
   "source": [
    "#Your code here\n",
    "\n",
    "G = 6.674e-11 #m^3 kg^-1 s^-2\n",
    "max_a = 50 #m s^-2\n",
    "\n",
    "acceleration = lambda height, distance: 2*(height/100)*G*BH_Mass/(distance**3)\n",
    "\n",
    "max_height = np.max(pop_heights)\n",
    "min_height = np.min(pop_heights)\n",
    "\n",
    "\n",
    "accelerations = acceleration(max_height, proposed_distances)\n",
    "min_dist = proposed_distances[np.min(np.where(accelerations < max_a))]\n",
    "\n",
    "print(f\"Minimum distance:\\n{min_dist:.1f} m, {to_earth_radii(min_dist):.2f} Earth radii\")"
   ]
  },
  {
   "cell_type": "markdown",
   "id": "bafc36bb-240e-4881-8153-dcd478cb9106",
   "metadata": {},
   "source": [
    "### E (12 P)\n",
    "How many Numpyans would die if they would approach Matrixar at the Scwarzschild radius? Which would be their minimum height? In this task you are supposed to use the most possible the numpy functions seen at the lecture. It is possible to calculate these two quantities in two lines of code."
   ]
  },
  {
   "cell_type": "code",
   "execution_count": 5,
   "id": "e99405cb",
   "metadata": {
    "tags": []
   },
   "outputs": [
    {
     "name": "stdout",
     "output_type": "stream",
     "text": [
      "Total deaths: 5122445, minumum height: 149.70 cm\n"
     ]
    }
   ],
   "source": [
    "#Your code here\n",
    "total_deaths = np.sum(acceleration(pop_heights,proposed_distances[0]) > max_a)\n",
    "minumum_height = np.min(pop_heights[np.where(acceleration(pop_heights, proposed_distances[0]) > max_a)])\n",
    "\n",
    "print(f\"Total deaths: {total_deaths}, minumum height: {minumum_height:.2f} cm\")"
   ]
  },
  {
   "cell_type": "markdown",
   "id": "8b4fa1b7-ff0d-42bd-8234-eb55e66ff72e",
   "metadata": {
    "tags": []
   },
   "source": [
    "### F (12 P)\n",
    "Among the maximum accelerations for each proposed distance from the Matrixar, would any of these be between 9 and 10 m/s$^2$? You have to solve this point in one line of code."
   ]
  },
  {
   "cell_type": "code",
   "execution_count": 7,
   "id": "a3b0172a-f318-4089-a9d5-6e60b872d67d",
   "metadata": {
    "tags": []
   },
   "outputs": [
    {
     "data": {
      "text/plain": [
       "True"
      ]
     },
     "execution_count": 7,
     "metadata": {},
     "output_type": "execute_result"
    }
   ],
   "source": [
    "#Your code here\n",
    "np.any(np.logical_and(accelerations > 9, accelerations < 10))"
   ]
  },
  {
   "cell_type": "markdown",
   "id": "9b33f900",
   "metadata": {},
   "source": [
    " "
   ]
  },
  {
   "cell_type": "markdown",
   "id": "49fe58fd",
   "metadata": {},
   "source": [
    "\n",
    "# Problem 2: Ohm's law (50 P)"
   ]
  },
  {
   "cell_type": "markdown",
   "id": "c4055699",
   "metadata": {},
   "source": [
    "The Ohm's law states that the electric current through the conductor is directly proportinal to the voltage measured across this conductor. "
   ]
  },
  {
   "cell_type": "markdown",
   "id": "1516fe1e",
   "metadata": {},
   "source": [
    "$$V = I \\; \\times \\; R$$\n",
    "\n",
    "where $V$ is voltage, $I$ is current flowing through the conductor and $R$ is the resistance of the conductor."
   ]
  },
  {
   "cell_type": "markdown",
   "id": "91655eda",
   "metadata": {},
   "source": [
    "You work in the laboratory that has a source of current that can generate currents from 0 to 20 A and a set of resistors, 2, 4, 6, ..., 100 $\\Omega$."
   ]
  },
  {
   "cell_type": "markdown",
   "id": "580dbeaf",
   "metadata": {},
   "source": [
    "### A (12 points)"
   ]
  },
  {
   "cell_type": "markdown",
   "id": "1fdebbc2",
   "metadata": {},
   "source": [
    "Create two ```numpy``` arrays that contain 50 values of currents ranging from 0 to 20 A and 50 values of resistance containing values from 2 to 100 Ohm. Round the values of the resistances to the integers and values of currents to the second digit after decimal point using the round() function from numpy.  Calculate a matrix of voltages for all combinations of $I$ and $R$ using operations with ```numpy``` arrays (__any loops are forbidden!__)\n",
    "Check its shape."
   ]
  },
  {
   "cell_type": "code",
   "execution_count": 3,
   "id": "016bf4d9",
   "metadata": {},
   "outputs": [
    {
     "name": "stdout",
     "output_type": "stream",
     "text": [
      "[ 0.    0.41  0.82  1.22  1.63  2.04  2.45  2.86  3.27  3.67  4.08  4.49\n",
      "  4.9   5.31  5.71  6.12  6.53  6.94  7.35  7.76  8.16  8.57  8.98  9.39\n",
      "  9.8  10.2  10.61 11.02 11.43 11.84 12.24 12.65 13.06 13.47 13.88 14.29\n",
      " 14.69 15.1  15.51 15.92 16.33 16.73 17.14 17.55 17.96 18.37 18.78 19.18\n",
      " 19.59 20.  ]\n",
      "[  2.   4.   6.   8.  10.  12.  14.  16.  18.  20.  22.  24.  26.  28.\n",
      "  30.  32.  34.  36.  38.  40.  42.  44.  46.  48.  50.  52.  54.  56.\n",
      "  58.  60.  62.  64.  66.  68.  70.  72.  74.  76.  78.  80.  82.  84.\n",
      "  86.  88.  90.  92.  94.  96.  98. 100.]\n",
      "[[0.00000e+00 0.00000e+00 0.00000e+00 ... 0.00000e+00 0.00000e+00\n",
      "  0.00000e+00]\n",
      " [8.20000e-01 1.64000e+00 2.46000e+00 ... 3.93600e+01 4.01800e+01\n",
      "  4.10000e+01]\n",
      " [1.64000e+00 3.28000e+00 4.92000e+00 ... 7.87200e+01 8.03600e+01\n",
      "  8.20000e+01]\n",
      " ...\n",
      " [3.83600e+01 7.67200e+01 1.15080e+02 ... 1.84128e+03 1.87964e+03\n",
      "  1.91800e+03]\n",
      " [3.91800e+01 7.83600e+01 1.17540e+02 ... 1.88064e+03 1.91982e+03\n",
      "  1.95900e+03]\n",
      " [4.00000e+01 8.00000e+01 1.20000e+02 ... 1.92000e+03 1.96000e+03\n",
      "  2.00000e+03]]\n"
     ]
    }
   ],
   "source": [
    "#your code here\n",
    "I = np.round(np.linspace(0,20,50),2)\n",
    "R = np.round(np.linspace(2,100,50))\n",
    "\n",
    "print(I)\n",
    "print(R)\n",
    "\n",
    "V = np.dot(I[:, None],R[None,:])\n",
    "print(V)"
   ]
  },
  {
   "cell_type": "code",
   "execution_count": 4,
   "id": "c2111ea2",
   "metadata": {},
   "outputs": [
    {
     "data": {
      "text/plain": [
       "(50, 50)"
      ]
     },
     "execution_count": 4,
     "metadata": {},
     "output_type": "execute_result"
    }
   ],
   "source": [
    "V.shape"
   ]
  },
  {
   "cell_type": "markdown",
   "id": "6806690f",
   "metadata": {},
   "source": [
    "### B (6 points)"
   ]
  },
  {
   "cell_type": "markdown",
   "id": "87869139",
   "metadata": {},
   "source": [
    "Your lab got more funding and now you can buy one more resistor! \n",
    "$$R_{new} = 1000 \\, \\Omega$$\n",
    "Calculate the voltage values for all combinations of currents and add them to the voltages matrix. Use ```numpy.hstack()``` or ```numpy.vstack()``` for this (depending on the design of your matrix). Check the shape of updated voltage matrix."
   ]
  },
  {
   "cell_type": "code",
   "execution_count": 5,
   "id": "1e2fa6f7",
   "metadata": {},
   "outputs": [
    {
     "name": "stdout",
     "output_type": "stream",
     "text": [
      "[    0.   410.   820.  1220.  1630.  2040.  2450.  2860.  3270.  3670.\n",
      "  4080.  4490.  4900.  5310.  5710.  6120.  6530.  6940.  7350.  7760.\n",
      "  8160.  8570.  8980.  9390.  9800. 10200. 10610. 11020. 11430. 11840.\n",
      " 12240. 12650. 13060. 13470. 13880. 14290. 14690. 15100. 15510. 15920.\n",
      " 16330. 16730. 17140. 17550. 17960. 18370. 18780. 19180. 19590. 20000.]\n",
      "[[0.00000e+00 0.00000e+00 0.00000e+00 ... 0.00000e+00 0.00000e+00\n",
      "  0.00000e+00]\n",
      " [8.20000e-01 1.64000e+00 2.46000e+00 ... 4.01800e+01 4.10000e+01\n",
      "  4.10000e+02]\n",
      " [1.64000e+00 3.28000e+00 4.92000e+00 ... 8.03600e+01 8.20000e+01\n",
      "  8.20000e+02]\n",
      " ...\n",
      " [3.83600e+01 7.67200e+01 1.15080e+02 ... 1.87964e+03 1.91800e+03\n",
      "  1.91800e+04]\n",
      " [3.91800e+01 7.83600e+01 1.17540e+02 ... 1.91982e+03 1.95900e+03\n",
      "  1.95900e+04]\n",
      " [4.00000e+01 8.00000e+01 1.20000e+02 ... 1.96000e+03 2.00000e+03\n",
      "  2.00000e+04]]\n",
      "(50, 51)\n"
     ]
    }
   ],
   "source": [
    "#your code here\n",
    "\n",
    "V1 = I*1000\n",
    "# print(V1.shape)\n",
    "print(V1)\n",
    "V=np.hstack((V, V1[:,None]))\n",
    "print(V)\n",
    "print(V.shape)"
   ]
  },
  {
   "cell_type": "markdown",
   "id": "527fe4b7",
   "metadata": {},
   "source": [
    "### C (6 points)"
   ]
  },
  {
   "cell_type": "markdown",
   "id": "7485b49a",
   "metadata": {},
   "source": [
    "After successful experiments, your lab got even more money and now they can buy more powerful current source with \n",
    "$$I = 50 \\, \\mathrm{A}$$\n",
    "Calculate the voltage values for all available resistors and add them to the voltages matrix. Check again the shape of the voltage matrix."
   ]
  },
  {
   "cell_type": "code",
   "execution_count": 6,
   "id": "ddeb348e",
   "metadata": {},
   "outputs": [],
   "source": [
    "#your code here\n",
    "\n",
    "R=np.append(R,1000)\n",
    "V2 = R*50"
   ]
  },
  {
   "cell_type": "code",
   "execution_count": 7,
   "id": "5dc584d4",
   "metadata": {},
   "outputs": [
    {
     "data": {
      "text/plain": [
       "(51,)"
      ]
     },
     "execution_count": 7,
     "metadata": {},
     "output_type": "execute_result"
    }
   ],
   "source": [
    "V2.shape"
   ]
  },
  {
   "cell_type": "code",
   "execution_count": 8,
   "id": "15e8d0dc",
   "metadata": {},
   "outputs": [
    {
     "name": "stdout",
     "output_type": "stream",
     "text": [
      "[  100.   200.   300.   400.   500.   600.   700.   800.   900.  1000.\n",
      "  1100.  1200.  1300.  1400.  1500.  1600.  1700.  1800.  1900.  2000.\n",
      "  2100.  2200.  2300.  2400.  2500.  2600.  2700.  2800.  2900.  3000.\n",
      "  3100.  3200.  3300.  3400.  3500.  3600.  3700.  3800.  3900.  4000.\n",
      "  4100.  4200.  4300.  4400.  4500.  4600.  4700.  4800.  4900.  5000.\n",
      " 50000.]\n",
      "[[0.00000e+00 0.00000e+00 0.00000e+00 ... 0.00000e+00 0.00000e+00\n",
      "  0.00000e+00]\n",
      " [8.20000e-01 1.64000e+00 2.46000e+00 ... 4.01800e+01 4.10000e+01\n",
      "  4.10000e+02]\n",
      " [1.64000e+00 3.28000e+00 4.92000e+00 ... 8.03600e+01 8.20000e+01\n",
      "  8.20000e+02]\n",
      " ...\n",
      " [3.91800e+01 7.83600e+01 1.17540e+02 ... 1.91982e+03 1.95900e+03\n",
      "  1.95900e+04]\n",
      " [4.00000e+01 8.00000e+01 1.20000e+02 ... 1.96000e+03 2.00000e+03\n",
      "  2.00000e+04]\n",
      " [1.00000e+02 2.00000e+02 3.00000e+02 ... 4.90000e+03 5.00000e+03\n",
      "  5.00000e+04]]\n",
      "(51, 51)\n"
     ]
    }
   ],
   "source": [
    "print(V2)\n",
    "V=np.vstack((V, V2))\n",
    "print(V)\n",
    "print(V.shape)"
   ]
  },
  {
   "cell_type": "markdown",
   "id": "05cfb960",
   "metadata": {},
   "source": [
    "### D (4 points)"
   ]
  },
  {
   "cell_type": "markdown",
   "id": "260f06eb",
   "metadata": {},
   "source": [
    "Oops, the new expenisve and powerful current source (with $I = 50 A$) was actually broken, so the measured values are not valid anymore. While your colleagues are trying to return it back to the manufacturer, delete the corresponing voltages from the voltage matrix using ```numpy.delete()``` function. "
   ]
  },
  {
   "cell_type": "code",
   "execution_count": 9,
   "id": "b941fd3a",
   "metadata": {},
   "outputs": [
    {
     "name": "stdout",
     "output_type": "stream",
     "text": [
      "[[0.00000e+00 0.00000e+00 0.00000e+00 ... 0.00000e+00 0.00000e+00\n",
      "  0.00000e+00]\n",
      " [8.20000e-01 1.64000e+00 2.46000e+00 ... 4.01800e+01 4.10000e+01\n",
      "  4.10000e+02]\n",
      " [1.64000e+00 3.28000e+00 4.92000e+00 ... 8.03600e+01 8.20000e+01\n",
      "  8.20000e+02]\n",
      " ...\n",
      " [3.83600e+01 7.67200e+01 1.15080e+02 ... 1.87964e+03 1.91800e+03\n",
      "  1.91800e+04]\n",
      " [3.91800e+01 7.83600e+01 1.17540e+02 ... 1.91982e+03 1.95900e+03\n",
      "  1.95900e+04]\n",
      " [4.00000e+01 8.00000e+01 1.20000e+02 ... 1.96000e+03 2.00000e+03\n",
      "  2.00000e+04]]\n",
      "(50, 51)\n"
     ]
    }
   ],
   "source": [
    "#your code here\n",
    "\n",
    "V=np.delete(V, -1, axis=0)\n",
    "print(V)\n",
    "print(V.shape)"
   ]
  },
  {
   "cell_type": "markdown",
   "id": "cdebbf5b",
   "metadata": {},
   "source": [
    "### E (6 points)"
   ]
  },
  {
   "cell_type": "markdown",
   "id": "55cca9d9",
   "metadata": {},
   "source": [
    "- Instead of the more powerful current source, your lab is getting new super-precise voltmeter but it cannot measure voltages above $1000 \\; \\textrm{V}$. Substiture measurments that are higher than 1000 V with -100 in the matrix (__no loops are allowed__). \n",
    "- What is the maximum voltage that can be measured with your sets of currents and resistors? Which combination of current and resistance produces the higher voltage above 1000 V? "
   ]
  },
  {
   "cell_type": "code",
   "execution_count": 10,
   "id": "05ae74fb",
   "metadata": {},
   "outputs": [
    {
     "name": "stdout",
     "output_type": "stream",
     "text": [
      "[[ 0.0000e+00  0.0000e+00  0.0000e+00 ...  0.0000e+00  0.0000e+00\n",
      "   0.0000e+00]\n",
      " [ 8.2000e-01  1.6400e+00  2.4600e+00 ...  4.0180e+01  4.1000e+01\n",
      "   4.1000e+02]\n",
      " [ 1.6400e+00  3.2800e+00  4.9200e+00 ...  8.0360e+01  8.2000e+01\n",
      "   8.2000e+02]\n",
      " ...\n",
      " [ 3.8360e+01  7.6720e+01  1.1508e+02 ... -1.0000e+02 -1.0000e+02\n",
      "  -1.0000e+02]\n",
      " [ 3.9180e+01  7.8360e+01  1.1754e+02 ... -1.0000e+02 -1.0000e+02\n",
      "  -1.0000e+02]\n",
      " [ 4.0000e+01  8.0000e+01  1.2000e+02 ... -1.0000e+02 -1.0000e+02\n",
      "  -1.0000e+02]]\n"
     ]
    }
   ],
   "source": [
    "#your code here\n",
    "V = np.where(V<1000, V, -100)\n",
    "\n",
    "print(V)"
   ]
  },
  {
   "cell_type": "code",
   "execution_count": 16,
   "id": "f5d0c199",
   "metadata": {},
   "outputs": [
    {
     "name": "stdout",
     "output_type": "stream",
     "text": [
      "[10.2]\n",
      "[98.]\n"
     ]
    }
   ],
   "source": [
    "maxV = np.max(V[np.where(np.logical_and(V<1000, V>=0))[0]])\n",
    "index = np.where(V==maxV)\n",
    "print(I[index[0]])\n",
    "print(R[index[1]])"
   ]
  },
  {
   "cell_type": "markdown",
   "id": "5f28c420",
   "metadata": {},
   "source": [
    "### F (8 points)"
   ]
  },
  {
   "cell_type": "markdown",
   "id": "7f0489a8",
   "metadata": {},
   "source": [
    "Due to the previous problems in running experiment, your lab is at risk of loosing funding. You are now working hard on understanding what impact your measurments. You discovered there is some noice present in your circuit.It has a shape of \n",
    "$$V = V_0 + 5\\sin (X)$$ \n",
    "where X is a random variable from $-\\pi$ to $\\pi$ and $V_0$ is a voltage from your matrix. Use ```numpy.random.uniform()``` to generate random variable ```X```. Add this noise to your matrix."
   ]
  },
  {
   "cell_type": "code",
   "execution_count": 20,
   "id": "d3f52d4a",
   "metadata": {},
   "outputs": [
    {
     "name": "stdout",
     "output_type": "stream",
     "text": [
      "[[-3.31671036e+00  4.58817246e+00  1.63881399e+00 ... -3.45706631e-01\n",
      "   4.36059906e+00  4.82936502e+00]\n",
      " [-2.95650705e+00  6.45410494e+00 -2.52870823e+00 ...  4.46549599e+01\n",
      "   4.19174301e+01  4.13869806e+02]\n",
      " [-2.55400556e+00  4.65045323e+00  2.86005364e+00 ...  7.64180608e+01\n",
      "   8.61516171e+01  8.18326703e+02]\n",
      " ...\n",
      " [ 3.33687870e+01  7.78809721e+01  1.19964393e+02 ... -1.03229379e+02\n",
      "  -1.04999414e+02 -9.93343090e+01]\n",
      " [ 4.39811827e+01  7.57913585e+01  1.13787836e+02 ... -1.04946457e+02\n",
      "  -9.50029045e+01 -1.01895303e+02]\n",
      " [ 3.91938400e+01  7.60676787e+01  1.18655345e+02 ... -9.68422315e+01\n",
      "  -9.72298561e+01 -9.68896602e+01]]\n"
     ]
    }
   ],
   "source": [
    "#your code here\n",
    "\n",
    "noise = 5*np.sin(np.random.uniform(low=-np.pi, high=np.pi, size=V.shape))\n",
    "V = V + noise\n",
    "print(V)"
   ]
  },
  {
   "cell_type": "markdown",
   "id": "bf3d8bde",
   "metadata": {},
   "source": [
    "### G (8 points)"
   ]
  },
  {
   "cell_type": "markdown",
   "id": "313dc5c3",
   "metadata": {},
   "source": [
    "Turns out the previous assumption about the random noise was wrong and your lab was left without funding. You were working hard to save the lab and have found out that there is some exsitation in the circle and it appears only above 100 V. This introduces an additional systematic error of 20% of the measured value for all the values above 100 V. Recalculate your matrix (and save your lab)."
   ]
  },
  {
   "cell_type": "code",
   "execution_count": 21,
   "id": "70d202f5",
   "metadata": {},
   "outputs": [
    {
     "name": "stdout",
     "output_type": "stream",
     "text": [
      "[[-3.31671036e+00  4.58817246e+00  1.63881399e+00 ... -3.45706631e-01\n",
      "   4.36059906e+00  4.82936502e+00]\n",
      " [-2.95650705e+00  6.45410494e+00 -2.52870823e+00 ...  4.46549599e+01\n",
      "   4.19174301e+01  4.96643768e+02]\n",
      " [-2.55400556e+00  4.65045323e+00  2.86005364e+00 ...  7.64180608e+01\n",
      "   8.61516171e+01  9.81992044e+02]\n",
      " ...\n",
      " [ 3.33687870e+01  7.78809721e+01  1.43957272e+02 ... -1.03229379e+02\n",
      "  -1.04999414e+02 -9.93343090e+01]\n",
      " [ 4.39811827e+01  7.57913585e+01  1.36545403e+02 ... -1.04946457e+02\n",
      "  -9.50029045e+01 -1.01895303e+02]\n",
      " [ 3.91938400e+01  7.60676787e+01  1.42386414e+02 ... -9.68422315e+01\n",
      "  -9.72298561e+01 -9.68896602e+01]]\n"
     ]
    }
   ],
   "source": [
    "#your code here\n",
    "\n",
    "\n",
    "V[V>100]=V[V>100]*1.2\n",
    "print(V)"
   ]
  },
  {
   "cell_type": "code",
   "execution_count": null,
   "id": "6bb9c8e3",
   "metadata": {},
   "outputs": [],
   "source": []
  }
 ],
 "metadata": {
  "kernelspec": {
   "display_name": "Python 3",
   "language": "python",
   "name": "python3"
  },
  "language_info": {
   "codemirror_mode": {
    "name": "ipython",
    "version": 3
   },
   "file_extension": ".py",
   "mimetype": "text/x-python",
   "name": "python",
   "nbconvert_exporter": "python",
   "pygments_lexer": "ipython3",
   "version": "3.8.8"
  }
 },
 "nbformat": 4,
 "nbformat_minor": 5
}
